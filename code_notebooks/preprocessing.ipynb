{
 "cells": [
  {
   "cell_type": "markdown",
   "id": "dff8b55c",
   "metadata": {},
   "source": [
    "### TODO\n",
    "- Handle the name length using outlier detection techniques"
   ]
  },
  {
   "cell_type": "code",
   "execution_count": 31,
   "id": "001c8313",
   "metadata": {},
   "outputs": [],
   "source": [
    "import pandas as pd\n",
    "import matplotlib.pyplot as plt\n",
    "import zipfile\n",
    "\n",
    "%matplotlib inline"
   ]
  },
  {
   "cell_type": "markdown",
   "id": "a6a50cea",
   "metadata": {},
   "source": [
    "# Preprocessing\n",
    "\n",
    "The preprocessing stage involves preparing the data for analysis or modeling. This includes various steps such as data acquistion, exploration, data cleaning.\n"
   ]
  },
  {
   "cell_type": "markdown",
   "id": "44b6b689",
   "metadata": {},
   "source": [
    "## Data Acquistion\n",
    "\n",
    "The raw companies dataset can be obtained via [People Data Labs](https://docs.peopledatalabs.com/docs/free-company-dataset) website. The dataset is about 13 million rows with following features: \n",
    "- `country` - The country of company's current headquarters.\n",
    "- `founded` - The foundation year of the company.\n",
    "- `industry` - The self-reported industry.\n",
    "- `linkedin_url` - The primary company LinkedIn URL.\n",
    "- `locality` - The locality of company's current headquarters.\n",
    "- `name` - The company's main common name.\n",
    "- `region` - The region of company's current headquarters.\n",
    "- `size` - A range representing the number of people working at the company.\n",
    "- `website` - The primary company website.\n",
    "\n",
    "Some of those feature will be useful to filter out portions of the dataset such as `country`, `size`. Also ther is this idea to train the dataset only on some filters such as `industry` to only generate new company names that are specific to industries."
   ]
  },
  {
   "cell_type": "code",
   "execution_count": null,
   "id": "2abf2929",
   "metadata": {},
   "outputs": [],
   "source": [
    "# Assuming the downloaded data is placed under ``\n",
    "with zipfile.ZipFile('../data/raw_layer_free_company_dataset.csv.zip', 'r') as zip_ref:\n",
    "    zip_ref.extractall('../data/raw_layer')"
   ]
  },
  {
   "cell_type": "code",
   "execution_count": 2,
   "id": "5704ef0f",
   "metadata": {},
   "outputs": [],
   "source": [
    "companies = pd.read_csv(\n",
    "  \"../data/raw_layer/free_company_dataset.csv\", usecols=[\"country\", \"name\", \"size\"]\n",
    ")"
   ]
  },
  {
   "cell_type": "markdown",
   "id": "a59da60e",
   "metadata": {},
   "source": [
    "## Exploration"
   ]
  },
  {
   "cell_type": "code",
   "execution_count": 4,
   "id": "0fedb5f5",
   "metadata": {},
   "outputs": [
    {
     "data": {
      "text/html": [
       "<div>\n",
       "<style scoped>\n",
       "    .dataframe tbody tr th:only-of-type {\n",
       "        vertical-align: middle;\n",
       "    }\n",
       "\n",
       "    .dataframe tbody tr th {\n",
       "        vertical-align: top;\n",
       "    }\n",
       "\n",
       "    .dataframe thead th {\n",
       "        text-align: right;\n",
       "    }\n",
       "</style>\n",
       "<table border=\"1\" class=\"dataframe\">\n",
       "  <thead>\n",
       "    <tr style=\"text-align: right;\">\n",
       "      <th></th>\n",
       "      <th>country</th>\n",
       "      <th>name</th>\n",
       "      <th>size</th>\n",
       "    </tr>\n",
       "  </thead>\n",
       "  <tbody>\n",
       "    <tr>\n",
       "      <th>0</th>\n",
       "      <td>NaN</td>\n",
       "      <td>faculdade alpha</td>\n",
       "      <td>11-50</td>\n",
       "    </tr>\n",
       "    <tr>\n",
       "      <th>1</th>\n",
       "      <td>greece</td>\n",
       "      <td>liber s.a.</td>\n",
       "      <td>11-50</td>\n",
       "    </tr>\n",
       "    <tr>\n",
       "      <th>2</th>\n",
       "      <td>united states</td>\n",
       "      <td>yaya+rule</td>\n",
       "      <td>1-10</td>\n",
       "    </tr>\n",
       "    <tr>\n",
       "      <th>3</th>\n",
       "      <td>bangladesh</td>\n",
       "      <td>wraphill</td>\n",
       "      <td>1-10</td>\n",
       "    </tr>\n",
       "    <tr>\n",
       "      <th>4</th>\n",
       "      <td>canada</td>\n",
       "      <td>mc hollie events &amp; weddings</td>\n",
       "      <td>1-10</td>\n",
       "    </tr>\n",
       "  </tbody>\n",
       "</table>\n",
       "</div>"
      ],
      "text/plain": [
       "         country                         name   size\n",
       "0            NaN              faculdade alpha  11-50\n",
       "1         greece                   liber s.a.  11-50\n",
       "2  united states                    yaya+rule   1-10\n",
       "3     bangladesh                     wraphill   1-10\n",
       "4         canada  mc hollie events & weddings   1-10"
      ]
     },
     "execution_count": 4,
     "metadata": {},
     "output_type": "execute_result"
    }
   ],
   "source": [
    "companies.head()"
   ]
  },
  {
   "cell_type": "code",
   "execution_count": 3,
   "id": "e841db52",
   "metadata": {},
   "outputs": [
    {
     "data": {
      "text/plain": [
       "(13920750, 3)"
      ]
     },
     "execution_count": 3,
     "metadata": {},
     "output_type": "execute_result"
    }
   ],
   "source": [
    "companies.shape"
   ]
  },
  {
   "cell_type": "code",
   "execution_count": 12,
   "id": "e66dd294",
   "metadata": {},
   "outputs": [
    {
     "name": "stdout",
     "output_type": "stream",
     "text": [
      "<class 'pandas.core.frame.DataFrame'>\n",
      "RangeIndex: 13920750 entries, 0 to 13920749\n",
      "Data columns (total 3 columns):\n",
      " #   Column   Dtype \n",
      "---  ------   ----- \n",
      " 0   country  object\n",
      " 1   name     object\n",
      " 2   size     object\n",
      "dtypes: object(3)\n",
      "memory usage: 318.6+ MB\n"
     ]
    }
   ],
   "source": [
    "companies.info()"
   ]
  },
  {
   "cell_type": "code",
   "execution_count": 7,
   "id": "03588bd8",
   "metadata": {},
   "outputs": [
    {
     "data": {
      "text/plain": [
       "country    object\n",
       "name       object\n",
       "size       object\n",
       "dtype: object"
      ]
     },
     "execution_count": 7,
     "metadata": {},
     "output_type": "execute_result"
    }
   ],
   "source": [
    "companies.dtypes"
   ]
  },
  {
   "cell_type": "code",
   "execution_count": 8,
   "id": "a857256f",
   "metadata": {},
   "outputs": [
    {
     "data": {
      "text/html": [
       "<div>\n",
       "<style scoped>\n",
       "    .dataframe tbody tr th:only-of-type {\n",
       "        vertical-align: middle;\n",
       "    }\n",
       "\n",
       "    .dataframe tbody tr th {\n",
       "        vertical-align: top;\n",
       "    }\n",
       "\n",
       "    .dataframe thead th {\n",
       "        text-align: right;\n",
       "    }\n",
       "</style>\n",
       "<table border=\"1\" class=\"dataframe\">\n",
       "  <thead>\n",
       "    <tr style=\"text-align: right;\">\n",
       "      <th></th>\n",
       "      <th>country</th>\n",
       "      <th>name</th>\n",
       "      <th>size</th>\n",
       "    </tr>\n",
       "  </thead>\n",
       "  <tbody>\n",
       "    <tr>\n",
       "      <th>count</th>\n",
       "      <td>11331028</td>\n",
       "      <td>13809074</td>\n",
       "      <td>13920615</td>\n",
       "    </tr>\n",
       "    <tr>\n",
       "      <th>unique</th>\n",
       "      <td>247</td>\n",
       "      <td>13390314</td>\n",
       "      <td>227</td>\n",
       "    </tr>\n",
       "    <tr>\n",
       "      <th>top</th>\n",
       "      <td>united states</td>\n",
       "      <td>self-employed</td>\n",
       "      <td>1-10</td>\n",
       "    </tr>\n",
       "    <tr>\n",
       "      <th>freq</th>\n",
       "      <td>3878746</td>\n",
       "      <td>110</td>\n",
       "      <td>8286402</td>\n",
       "    </tr>\n",
       "  </tbody>\n",
       "</table>\n",
       "</div>"
      ],
      "text/plain": [
       "              country           name      size\n",
       "count        11331028       13809074  13920615\n",
       "unique            247       13390314       227\n",
       "top     united states  self-employed      1-10\n",
       "freq          3878746            110   8286402"
      ]
     },
     "execution_count": 8,
     "metadata": {},
     "output_type": "execute_result"
    }
   ],
   "source": [
    "companies.describe()"
   ]
  },
  {
   "cell_type": "code",
   "execution_count": 30,
   "id": "838eeb19",
   "metadata": {},
   "outputs": [
    {
     "data": {
      "text/html": [
       "<div>\n",
       "<style scoped>\n",
       "    .dataframe tbody tr th:only-of-type {\n",
       "        vertical-align: middle;\n",
       "    }\n",
       "\n",
       "    .dataframe tbody tr th {\n",
       "        vertical-align: top;\n",
       "    }\n",
       "\n",
       "    .dataframe thead th {\n",
       "        text-align: right;\n",
       "    }\n",
       "</style>\n",
       "<table border=\"1\" class=\"dataframe\">\n",
       "  <thead>\n",
       "    <tr style=\"text-align: right;\">\n",
       "      <th></th>\n",
       "      <th>country</th>\n",
       "      <th>count</th>\n",
       "    </tr>\n",
       "  </thead>\n",
       "  <tbody>\n",
       "    <tr>\n",
       "      <th>234</th>\n",
       "      <td>united states</td>\n",
       "      <td>3878746</td>\n",
       "    </tr>\n",
       "    <tr>\n",
       "      <th>233</th>\n",
       "      <td>united kingdom</td>\n",
       "      <td>1086316</td>\n",
       "    </tr>\n",
       "    <tr>\n",
       "      <th>98</th>\n",
       "      <td>india</td>\n",
       "      <td>653233</td>\n",
       "    </tr>\n",
       "    <tr>\n",
       "      <th>29</th>\n",
       "      <td>brazil</td>\n",
       "      <td>525477</td>\n",
       "    </tr>\n",
       "    <tr>\n",
       "      <th>72</th>\n",
       "      <td>france</td>\n",
       "      <td>519289</td>\n",
       "    </tr>\n",
       "    <tr>\n",
       "      <th>79</th>\n",
       "      <td>germany</td>\n",
       "      <td>403891</td>\n",
       "    </tr>\n",
       "    <tr>\n",
       "      <th>206</th>\n",
       "      <td>spain</td>\n",
       "      <td>378809</td>\n",
       "    </tr>\n",
       "    <tr>\n",
       "      <th>38</th>\n",
       "      <td>canada</td>\n",
       "      <td>365612</td>\n",
       "    </tr>\n",
       "    <tr>\n",
       "      <th>152</th>\n",
       "      <td>netherlands</td>\n",
       "      <td>357163</td>\n",
       "    </tr>\n",
       "    <tr>\n",
       "      <th>12</th>\n",
       "      <td>australia</td>\n",
       "      <td>314905</td>\n",
       "    </tr>\n",
       "  </tbody>\n",
       "</table>\n",
       "</div>"
      ],
      "text/plain": [
       "            country    count\n",
       "234   united states  3878746\n",
       "233  united kingdom  1086316\n",
       "98            india   653233\n",
       "29           brazil   525477\n",
       "72           france   519289\n",
       "79          germany   403891\n",
       "206           spain   378809\n",
       "38           canada   365612\n",
       "152     netherlands   357163\n",
       "12        australia   314905"
      ]
     },
     "execution_count": 30,
     "metadata": {},
     "output_type": "execute_result"
    }
   ],
   "source": [
    "countries = companies.groupby('country').size().to_frame().reset_index()\n",
    "countries.rename({0: \"count\"}, inplace=True, axis=1)\n",
    "countries.sort_values(by=\"count\", ascending=False).head(10)"
   ]
  },
  {
   "cell_type": "markdown",
   "id": "9872232d",
   "metadata": {},
   "source": [
    "## Data Cleaning\n",
    "\n",
    "Data cleaning is an important step to ensure the quality and reliability of the dataset. It involves identifying and handling issues such as missing values, outliers, inconsistent formats, or invalid data points."
   ]
  },
  {
   "cell_type": "markdown",
   "id": "3ef33349",
   "metadata": {},
   "source": [
    "### Handling missing values"
   ]
  },
  {
   "cell_type": "code",
   "execution_count": 5,
   "id": "79edaf34",
   "metadata": {},
   "outputs": [
    {
     "data": {
      "text/plain": [
       "country    True\n",
       "name       True\n",
       "size       True\n",
       "dtype: bool"
      ]
     },
     "execution_count": 5,
     "metadata": {},
     "output_type": "execute_result"
    }
   ],
   "source": [
    "companies.isnull().any()"
   ]
  },
  {
   "cell_type": "code",
   "execution_count": 6,
   "id": "0eed424d",
   "metadata": {},
   "outputs": [
    {
     "data": {
      "text/plain": [
       "country    2589722\n",
       "name        111676\n",
       "size           135\n",
       "dtype: int64"
      ]
     },
     "execution_count": 6,
     "metadata": {},
     "output_type": "execute_result"
    }
   ],
   "source": [
    "companies.isnull().sum()"
   ]
  },
  {
   "cell_type": "code",
   "execution_count": 6,
   "id": "e4b3f0e2",
   "metadata": {},
   "outputs": [
    {
     "data": {
      "text/plain": [
       "13809074"
      ]
     },
     "execution_count": 6,
     "metadata": {},
     "output_type": "execute_result"
    }
   ],
   "source": [
    "# delete rows where name column is null\n",
    "companies.dropna(subset='name', inplace=True)\n",
    "companies.shape[0]"
   ]
  },
  {
   "cell_type": "code",
   "execution_count": 7,
   "id": "77ef6252",
   "metadata": {},
   "outputs": [
    {
     "data": {
      "text/plain": [
       "11283094"
      ]
     },
     "execution_count": 7,
     "metadata": {},
     "output_type": "execute_result"
    }
   ],
   "source": [
    "# delete rows where country column is null\n",
    "companies.dropna(subset=\"country\", inplace=True)\n",
    "companies.shape[0]"
   ]
  },
  {
   "cell_type": "code",
   "execution_count": 8,
   "id": "00a428dc",
   "metadata": {},
   "outputs": [
    {
     "data": {
      "text/html": [
       "<div>\n",
       "<style scoped>\n",
       "    .dataframe tbody tr th:only-of-type {\n",
       "        vertical-align: middle;\n",
       "    }\n",
       "\n",
       "    .dataframe tbody tr th {\n",
       "        vertical-align: top;\n",
       "    }\n",
       "\n",
       "    .dataframe thead th {\n",
       "        text-align: right;\n",
       "    }\n",
       "</style>\n",
       "<table border=\"1\" class=\"dataframe\">\n",
       "  <thead>\n",
       "    <tr style=\"text-align: right;\">\n",
       "      <th></th>\n",
       "      <th>country</th>\n",
       "      <th>name</th>\n",
       "      <th>size</th>\n",
       "    </tr>\n",
       "  </thead>\n",
       "  <tbody>\n",
       "    <tr>\n",
       "      <th>5984</th>\n",
       "      <td>belgium</td>\n",
       "      <td>google developer student clubs - university of...</td>\n",
       "      <td>11-50</td>\n",
       "    </tr>\n",
       "    <tr>\n",
       "      <th>53140</th>\n",
       "      <td>saudi arabia</td>\n",
       "      <td>google developer student clubs | ksau-hs</td>\n",
       "      <td>1-10</td>\n",
       "    </tr>\n",
       "    <tr>\n",
       "      <th>95076</th>\n",
       "      <td>united states</td>\n",
       "      <td>buy google positive review</td>\n",
       "      <td>51-200</td>\n",
       "    </tr>\n",
       "    <tr>\n",
       "      <th>101889</th>\n",
       "      <td>united kingdom</td>\n",
       "      <td>google via algomarketing</td>\n",
       "      <td>11-50</td>\n",
       "    </tr>\n",
       "    <tr>\n",
       "      <th>117615</th>\n",
       "      <td>india</td>\n",
       "      <td>google developers group hyderabad</td>\n",
       "      <td>10001+</td>\n",
       "    </tr>\n",
       "    <tr>\n",
       "      <th>...</th>\n",
       "      <td>...</td>\n",
       "      <td>...</td>\n",
       "      <td>...</td>\n",
       "    </tr>\n",
       "    <tr>\n",
       "      <th>13892102</th>\n",
       "      <td>ukraine</td>\n",
       "      <td>🇺🇦 seotop digital agency since 2006 (marketing...</td>\n",
       "      <td>11-50</td>\n",
       "    </tr>\n",
       "    <tr>\n",
       "      <th>13896857</th>\n",
       "      <td>morocco</td>\n",
       "      <td>google developer group (gdg) rabat</td>\n",
       "      <td>51-200</td>\n",
       "    </tr>\n",
       "    <tr>\n",
       "      <th>13899795</th>\n",
       "      <td>united arab emirates</td>\n",
       "      <td>google developer student club bits dubai</td>\n",
       "      <td>11-50</td>\n",
       "    </tr>\n",
       "    <tr>\n",
       "      <th>13916027</th>\n",
       "      <td>united states</td>\n",
       "      <td>google developers student club - austin</td>\n",
       "      <td>1-10</td>\n",
       "    </tr>\n",
       "    <tr>\n",
       "      <th>13918691</th>\n",
       "      <td>lithuania</td>\n",
       "      <td>google reklama</td>\n",
       "      <td>1-10</td>\n",
       "    </tr>\n",
       "  </tbody>\n",
       "</table>\n",
       "<p>818 rows × 3 columns</p>\n",
       "</div>"
      ],
      "text/plain": [
       "                       country  \\\n",
       "5984                   belgium   \n",
       "53140             saudi arabia   \n",
       "95076            united states   \n",
       "101889          united kingdom   \n",
       "117615                   india   \n",
       "...                        ...   \n",
       "13892102               ukraine   \n",
       "13896857               morocco   \n",
       "13899795  united arab emirates   \n",
       "13916027         united states   \n",
       "13918691             lithuania   \n",
       "\n",
       "                                                       name    size  \n",
       "5984      google developer student clubs - university of...   11-50  \n",
       "53140              google developer student clubs | ksau-hs    1-10  \n",
       "95076                            buy google positive review  51-200  \n",
       "101889                             google via algomarketing   11-50  \n",
       "117615                    google developers group hyderabad  10001+  \n",
       "...                                                     ...     ...  \n",
       "13892102  🇺🇦 seotop digital agency since 2006 (marketing...   11-50  \n",
       "13896857                 google developer group (gdg) rabat  51-200  \n",
       "13899795           google developer student club bits dubai   11-50  \n",
       "13916027            google developers student club - austin    1-10  \n",
       "13918691                                     google reklama    1-10  \n",
       "\n",
       "[818 rows x 3 columns]"
      ]
     },
     "execution_count": 8,
     "metadata": {},
     "output_type": "execute_result"
    }
   ],
   "source": [
    "companies[companies.name.str.contains(\"google\")]"
   ]
  },
  {
   "cell_type": "markdown",
   "id": "0f326bf2",
   "metadata": {},
   "source": [
    "### Filtering dataset using `country` feature"
   ]
  },
  {
   "cell_type": "code",
   "execution_count": 9,
   "id": "fd78039a",
   "metadata": {},
   "outputs": [
    {
     "data": {
      "text/plain": [
       "(5329051, 3)"
      ]
     },
     "execution_count": 9,
     "metadata": {},
     "output_type": "execute_result"
    }
   ],
   "source": [
    "# allowing only US, UK and Canada company names\n",
    "countries_tokeep = [ 'united states', 'united kingdom', 'canada']\n",
    "companies = companies[companies.country.isin(countries_tokeep)]\n",
    "companies.shape[0]"
   ]
  },
  {
   "cell_type": "code",
   "execution_count": 52,
   "id": "e3763950",
   "metadata": {},
   "outputs": [
    {
     "data": {
      "text/plain": [
       "country\n",
       "canada             28170\n",
       "united kingdom     75431\n",
       "united states     224282\n",
       "Name: name, dtype: int64"
      ]
     },
     "execution_count": 52,
     "metadata": {},
     "output_type": "execute_result"
    }
   ],
   "source": [
    "companies.groupby(\"country\")[\"name\"].count()"
   ]
  },
  {
   "cell_type": "markdown",
   "id": "93bfd65f",
   "metadata": {},
   "source": [
    "### Only keep names with length one"
   ]
  },
  {
   "cell_type": "code",
   "execution_count": 10,
   "id": "539724c9",
   "metadata": {},
   "outputs": [
    {
     "data": {
      "text/plain": [
       "(422757, 3)"
      ]
     },
     "execution_count": 10,
     "metadata": {},
     "output_type": "execute_result"
    }
   ],
   "source": [
    "# only keep companies with one word in their name\n",
    "companies = companies[companies.name.apply(lambda x: len(x.split()) == 1)]\n",
    "companies.shape[0]"
   ]
  },
  {
   "cell_type": "code",
   "execution_count": 18,
   "id": "d1afb712",
   "metadata": {},
   "outputs": [
    {
     "data": {
      "text/html": [
       "<div>\n",
       "<style scoped>\n",
       "    .dataframe tbody tr th:only-of-type {\n",
       "        vertical-align: middle;\n",
       "    }\n",
       "\n",
       "    .dataframe tbody tr th {\n",
       "        vertical-align: top;\n",
       "    }\n",
       "\n",
       "    .dataframe thead th {\n",
       "        text-align: right;\n",
       "    }\n",
       "</style>\n",
       "<table border=\"1\" class=\"dataframe\">\n",
       "  <thead>\n",
       "    <tr style=\"text-align: right;\">\n",
       "      <th></th>\n",
       "      <th>country</th>\n",
       "      <th>name</th>\n",
       "      <th>size</th>\n",
       "    </tr>\n",
       "  </thead>\n",
       "  <tbody>\n",
       "    <tr>\n",
       "      <th>13695212</th>\n",
       "      <td>united states</td>\n",
       "      <td>deloitte</td>\n",
       "      <td>10001+</td>\n",
       "    </tr>\n",
       "  </tbody>\n",
       "</table>\n",
       "</div>"
      ],
      "text/plain": [
       "                country      name    size\n",
       "13695212  united states  deloitte  10001+"
      ]
     },
     "execution_count": 18,
     "metadata": {},
     "output_type": "execute_result"
    }
   ],
   "source": [
    "companies[companies.name == 'deloitte']"
   ]
  },
  {
   "cell_type": "markdown",
   "id": "39cc99c0",
   "metadata": {},
   "source": [
    "### Removing duplicates"
   ]
  },
  {
   "cell_type": "code",
   "execution_count": 15,
   "id": "12257e9a",
   "metadata": {},
   "outputs": [
    {
     "data": {
      "text/plain": [
       "402356"
      ]
     },
     "execution_count": 15,
     "metadata": {},
     "output_type": "execute_result"
    }
   ],
   "source": [
    "# lower and remove duplicates\n",
    "companies.name = companies.name.apply(lambda x: x.lower())\n",
    "companies.drop_duplicates(subset=[\"name\"], keep=\"first\", inplace=True)\n",
    "companies.shape[0]"
   ]
  },
  {
   "cell_type": "code",
   "execution_count": 21,
   "id": "f59c51bf",
   "metadata": {},
   "outputs": [
    {
     "data": {
      "text/html": [
       "<div>\n",
       "<style scoped>\n",
       "    .dataframe tbody tr th:only-of-type {\n",
       "        vertical-align: middle;\n",
       "    }\n",
       "\n",
       "    .dataframe tbody tr th {\n",
       "        vertical-align: top;\n",
       "    }\n",
       "\n",
       "    .dataframe thead th {\n",
       "        text-align: right;\n",
       "    }\n",
       "</style>\n",
       "<table border=\"1\" class=\"dataframe\">\n",
       "  <thead>\n",
       "    <tr style=\"text-align: right;\">\n",
       "      <th></th>\n",
       "      <th>country</th>\n",
       "      <th>name</th>\n",
       "      <th>size</th>\n",
       "    </tr>\n",
       "  </thead>\n",
       "  <tbody>\n",
       "    <tr>\n",
       "      <th>2793</th>\n",
       "      <td>united states</td>\n",
       "      <td>earthmaterials.com</td>\n",
       "      <td>11-50</td>\n",
       "    </tr>\n",
       "    <tr>\n",
       "      <th>3068</th>\n",
       "      <td>united states</td>\n",
       "      <td>esplota.com</td>\n",
       "      <td>1-10</td>\n",
       "    </tr>\n",
       "    <tr>\n",
       "      <th>3351</th>\n",
       "      <td>united states</td>\n",
       "      <td>sassofoto.com</td>\n",
       "      <td>1-10</td>\n",
       "    </tr>\n",
       "    <tr>\n",
       "      <th>3424</th>\n",
       "      <td>united kingdom</td>\n",
       "      <td>citysparkles.com</td>\n",
       "      <td>1-10</td>\n",
       "    </tr>\n",
       "    <tr>\n",
       "      <th>4571</th>\n",
       "      <td>united kingdom</td>\n",
       "      <td>victorcraven.com</td>\n",
       "      <td>1-10</td>\n",
       "    </tr>\n",
       "    <tr>\n",
       "      <th>...</th>\n",
       "      <td>...</td>\n",
       "      <td>...</td>\n",
       "      <td>...</td>\n",
       "    </tr>\n",
       "    <tr>\n",
       "      <th>13918516</th>\n",
       "      <td>united states</td>\n",
       "      <td>s-trade.com</td>\n",
       "      <td>11-50</td>\n",
       "    </tr>\n",
       "    <tr>\n",
       "      <th>13918698</th>\n",
       "      <td>united states</td>\n",
       "      <td>bottlestore.com</td>\n",
       "      <td>51-200</td>\n",
       "    </tr>\n",
       "    <tr>\n",
       "      <th>13919089</th>\n",
       "      <td>united kingdom</td>\n",
       "      <td>cabcouk.com</td>\n",
       "      <td>1-10</td>\n",
       "    </tr>\n",
       "    <tr>\n",
       "      <th>13920256</th>\n",
       "      <td>united states</td>\n",
       "      <td>domophotos.com</td>\n",
       "      <td>1-10</td>\n",
       "    </tr>\n",
       "    <tr>\n",
       "      <th>13920715</th>\n",
       "      <td>united states</td>\n",
       "      <td>leocanale.com</td>\n",
       "      <td>1-10</td>\n",
       "    </tr>\n",
       "  </tbody>\n",
       "</table>\n",
       "<p>21832 rows × 3 columns</p>\n",
       "</div>"
      ],
      "text/plain": [
       "                 country                name    size\n",
       "2793       united states  earthmaterials.com   11-50\n",
       "3068       united states         esplota.com    1-10\n",
       "3351       united states       sassofoto.com    1-10\n",
       "3424      united kingdom    citysparkles.com    1-10\n",
       "4571      united kingdom    victorcraven.com    1-10\n",
       "...                  ...                 ...     ...\n",
       "13918516   united states         s-trade.com   11-50\n",
       "13918698   united states     bottlestore.com  51-200\n",
       "13919089  united kingdom         cabcouk.com    1-10\n",
       "13920256   united states      domophotos.com    1-10\n",
       "13920715   united states       leocanale.com    1-10\n",
       "\n",
       "[21832 rows x 3 columns]"
      ]
     },
     "execution_count": 21,
     "metadata": {},
     "output_type": "execute_result"
    }
   ],
   "source": [
    "companies[companies.name.str.contains(\".com\")]"
   ]
  },
  {
   "cell_type": "markdown",
   "id": "3387432f",
   "metadata": {},
   "source": [
    "### Removing / fixing names with redundant characters"
   ]
  },
  {
   "cell_type": "code",
   "execution_count": 22,
   "id": "f8e7d08f",
   "metadata": {},
   "outputs": [],
   "source": [
    "# remove \".com\" from the names\n",
    "companies.name = companies.name.apply(lambda x: x.replace('.com', ''))"
   ]
  },
  {
   "cell_type": "code",
   "execution_count": 25,
   "id": "56802e75",
   "metadata": {},
   "outputs": [
    {
     "data": {
      "text/html": [
       "<div>\n",
       "<style scoped>\n",
       "    .dataframe tbody tr th:only-of-type {\n",
       "        vertical-align: middle;\n",
       "    }\n",
       "\n",
       "    .dataframe tbody tr th {\n",
       "        vertical-align: top;\n",
       "    }\n",
       "\n",
       "    .dataframe thead th {\n",
       "        text-align: right;\n",
       "    }\n",
       "</style>\n",
       "<table border=\"1\" class=\"dataframe\">\n",
       "  <thead>\n",
       "    <tr style=\"text-align: right;\">\n",
       "      <th></th>\n",
       "      <th>country</th>\n",
       "      <th>name</th>\n",
       "      <th>size</th>\n",
       "    </tr>\n",
       "  </thead>\n",
       "  <tbody>\n",
       "  </tbody>\n",
       "</table>\n",
       "</div>"
      ],
      "text/plain": [
       "Empty DataFrame\n",
       "Columns: [country, name, size]\n",
       "Index: []"
      ]
     },
     "execution_count": 25,
     "metadata": {},
     "output_type": "execute_result"
    }
   ],
   "source": [
    "companies[companies.name.str.contains(\"/.com\", regex=True)]"
   ]
  },
  {
   "cell_type": "code",
   "execution_count": 24,
   "id": "690799f2",
   "metadata": {},
   "outputs": [
    {
     "data": {
      "text/plain": [
       "(334858, 3)"
      ]
     },
     "execution_count": 24,
     "metadata": {},
     "output_type": "execute_result"
    }
   ],
   "source": [
    "# remove names that contains character other than english alphabet\n",
    "companies = companies[~companies.name.str.contains(r'[^a-zA-Z\\s]')]\n",
    "companies.shape"
   ]
  },
  {
   "cell_type": "markdown",
   "id": "8827967a",
   "metadata": {},
   "source": [
    "### Filtering dataset using the length of the words"
   ]
  },
  {
   "cell_type": "code",
   "execution_count": 26,
   "id": "8cc534a9",
   "metadata": {},
   "outputs": [
    {
     "data": {
      "text/plain": [
       "1"
      ]
     },
     "execution_count": 26,
     "metadata": {},
     "output_type": "execute_result"
    }
   ],
   "source": [
    "min(len(c) for c in companies.name.to_list()) # minimum string"
   ]
  },
  {
   "cell_type": "code",
   "execution_count": 27,
   "id": "bdaae5aa",
   "metadata": {},
   "outputs": [
    {
     "data": {
      "text/plain": [
       "98"
      ]
     },
     "execution_count": 27,
     "metadata": {},
     "output_type": "execute_result"
    }
   ],
   "source": [
    "max(len(c) for c in companies.name.to_list()) # maximum string"
   ]
  },
  {
   "cell_type": "markdown",
   "id": "c34d819f",
   "metadata": {},
   "source": [
    " "
   ]
  },
  {
   "cell_type": "markdown",
   "id": "69091f59",
   "metadata": {},
   "source": [
    "**One point to consider is how to determine which range of name length to keep. Right now I just plotted the distribution and cut the borders such that the it resembles normal distribution. Outlier detection techniques can be applied**"
   ]
  },
  {
   "cell_type": "markdown",
   "id": "b26e2539",
   "metadata": {},
   "source": [
    " "
   ]
  },
  {
   "cell_type": "code",
   "execution_count": 29,
   "id": "fc6ed19f",
   "metadata": {
    "collapsed": true
   },
   "outputs": [
    {
     "name": "stderr",
     "output_type": "stream",
     "text": [
      "/tmp/ipykernel_5408/2305385258.py:1: SettingWithCopyWarning: \n",
      "A value is trying to be set on a copy of a slice from a DataFrame.\n",
      "Try using .loc[row_indexer,col_indexer] = value instead\n",
      "\n",
      "See the caveats in the documentation: https://pandas.pydata.org/pandas-docs/stable/user_guide/indexing.html#returning-a-view-versus-a-copy\n",
      "  companies['name_length'] = companies['name'].apply(lambda x: len(x))\n"
     ]
    }
   ],
   "source": [
    "companies['name_length'] = companies.name.apply(lambda x: len(x))"
   ]
  },
  {
   "cell_type": "code",
   "execution_count": 33,
   "id": "d95b7578",
   "metadata": {},
   "outputs": [
    {
     "data": {
      "image/png": "[encoded data removed]",
      "text/plain": [
       "<Figure size 640x480 with 1 Axes>"
      ]
     },
     "metadata": {},
     "output_type": "display_data"
    }
   ],
   "source": [
    "plt.hist(companies['name_length'], bins='auto', edgecolor='black')\n",
    "plt.xlabel('Word Length')\n",
    "plt.ylabel('Frequency')\n",
    "plt.title('Distribution of Word Lengths in Company Names')\n",
    "plt.show()"
   ]
  },
  {
   "cell_type": "code",
   "execution_count": 31,
   "id": "32b6ca54",
   "metadata": {},
   "outputs": [
    {
     "data": {
      "text/plain": [
       "count    334858.000000\n",
       "mean          8.563654\n",
       "std           3.037653\n",
       "min           1.000000\n",
       "25%           7.000000\n",
       "50%           8.000000\n",
       "75%          10.000000\n",
       "max          98.000000\n",
       "Name: name_length, dtype: float64"
      ]
     },
     "execution_count": 31,
     "metadata": {},
     "output_type": "execute_result"
    }
   ],
   "source": [
    "companies.name_length.describe()"
   ]
  },
  {
   "cell_type": "code",
   "execution_count": 32,
   "id": "e7bafd22",
   "metadata": {},
   "outputs": [
    {
     "data": {
      "text/plain": [
       "328661"
      ]
     },
     "execution_count": 32,
     "metadata": {},
     "output_type": "execute_result"
    }
   ],
   "source": [
    "companies = companies[companies.name.str.len() > 2] # delete names with length less than 3\n",
    "companies = companies[companies.name.str.len() < 17] # and more than 16\n",
    "companies.shape[0]"
   ]
  },
  {
   "cell_type": "code",
   "execution_count": 49,
   "id": "31ccbef1",
   "metadata": {},
   "outputs": [
    {
     "data": {
      "text/plain": [
       "8     50174\n",
       "9     46175\n",
       "7     45839\n",
       "6     37268\n",
       "10    36739\n",
       "11    25477\n",
       "5     24271\n",
       "4     16668\n",
       "12    16407\n",
       "13    10345\n",
       "14     6531\n",
       "3      4604\n",
       "15     4499\n",
       "16     2886\n",
       "Name: name_length, dtype: int64"
      ]
     },
     "execution_count": 49,
     "metadata": {},
     "output_type": "execute_result"
    }
   ],
   "source": [
    "companies.name_length.value_counts()"
   ]
  },
  {
   "cell_type": "code",
   "execution_count": 35,
   "id": "0b43fd05",
   "metadata": {},
   "outputs": [
    {
     "data": {
      "text/plain": [
       "country        0\n",
       "name           0\n",
       "size           0\n",
       "name_length    0\n",
       "dtype: int64"
      ]
     },
     "execution_count": 35,
     "metadata": {},
     "output_type": "execute_result"
    }
   ],
   "source": [
    "companies.isnull().sum()"
   ]
  },
  {
   "cell_type": "markdown",
   "id": "376a9a2c",
   "metadata": {},
   "source": [
    "### Further cleaning"
   ]
  },
  {
   "cell_type": "code",
   "execution_count": 42,
   "id": "3b7a9f77",
   "metadata": {},
   "outputs": [
    {
     "data": {
      "text/plain": [
       "327883"
      ]
     },
     "execution_count": 42,
     "metadata": {},
     "output_type": "execute_result"
    }
   ],
   "source": [
    "companies.drop_duplicates(subset=\"name\", keep=\"first\", inplace=True)\n",
    "companies.shape[0]"
   ]
  },
  {
   "cell_type": "code",
   "execution_count": 54,
   "id": "d5224eb3",
   "metadata": {},
   "outputs": [
    {
     "data": {
      "text/plain": [
       "1-10          200402\n",
       "11-50          85173\n",
       "51-200         27007\n",
       "201-500         7681\n",
       "501-1000        3014\n",
       "1001-5000       2850\n",
       "10001+          1122\n",
       "5001-10000       634\n",
       "Name: size, dtype: int64"
      ]
     },
     "execution_count": 54,
     "metadata": {},
     "output_type": "execute_result"
    }
   ],
   "source": [
    "companies[\"size\"].value_counts()"
   ]
  },
  {
   "cell_type": "code",
   "execution_count": 60,
   "id": "0b4beedd",
   "metadata": {},
   "outputs": [
    {
     "data": {
      "text/plain": [
       "['1001-5000']"
      ]
     },
     "execution_count": 60,
     "metadata": {},
     "output_type": "execute_result"
    }
   ],
   "source": [
    "'1001-5000'.split()"
   ]
  },
  {
   "cell_type": "code",
   "execution_count": 64,
   "id": "8530f9c6",
   "metadata": {},
   "outputs": [],
   "source": [
    "companies[\"max_size\"] = companies[\"size\"].apply(lambda x: x.split('-')[1] if '-' in x else x[:-1])\n",
    "companies.max_size = companies.max_size.astype('int')"
   ]
  },
  {
   "cell_type": "code",
   "execution_count": 68,
   "id": "f832fec8",
   "metadata": {},
   "outputs": [
    {
     "data": {
      "text/html": [
       "<div>\n",
       "<style scoped>\n",
       "    .dataframe tbody tr th:only-of-type {\n",
       "        vertical-align: middle;\n",
       "    }\n",
       "\n",
       "    .dataframe tbody tr th {\n",
       "        vertical-align: top;\n",
       "    }\n",
       "\n",
       "    .dataframe thead th {\n",
       "        text-align: right;\n",
       "    }\n",
       "</style>\n",
       "<table border=\"1\" class=\"dataframe\">\n",
       "  <thead>\n",
       "    <tr style=\"text-align: right;\">\n",
       "      <th></th>\n",
       "      <th>country</th>\n",
       "      <th>name</th>\n",
       "      <th>size</th>\n",
       "      <th>name_length</th>\n",
       "      <th>max_size</th>\n",
       "    </tr>\n",
       "  </thead>\n",
       "  <tbody>\n",
       "    <tr>\n",
       "      <th>137</th>\n",
       "      <td>united kingdom</td>\n",
       "      <td>rockstarx</td>\n",
       "      <td>1-10</td>\n",
       "      <td>9</td>\n",
       "      <td>10</td>\n",
       "    </tr>\n",
       "    <tr>\n",
       "      <th>288</th>\n",
       "      <td>united states</td>\n",
       "      <td>investible</td>\n",
       "      <td>1-10</td>\n",
       "      <td>10</td>\n",
       "      <td>10</td>\n",
       "    </tr>\n",
       "    <tr>\n",
       "      <th>337</th>\n",
       "      <td>united states</td>\n",
       "      <td>flick</td>\n",
       "      <td>1-10</td>\n",
       "      <td>5</td>\n",
       "      <td>10</td>\n",
       "    </tr>\n",
       "    <tr>\n",
       "      <th>436</th>\n",
       "      <td>united kingdom</td>\n",
       "      <td>sparkwin</td>\n",
       "      <td>1-10</td>\n",
       "      <td>8</td>\n",
       "      <td>10</td>\n",
       "    </tr>\n",
       "    <tr>\n",
       "      <th>444</th>\n",
       "      <td>united kingdom</td>\n",
       "      <td>gplconstruction</td>\n",
       "      <td>1-10</td>\n",
       "      <td>15</td>\n",
       "      <td>10</td>\n",
       "    </tr>\n",
       "    <tr>\n",
       "      <th>...</th>\n",
       "      <td>...</td>\n",
       "      <td>...</td>\n",
       "      <td>...</td>\n",
       "      <td>...</td>\n",
       "      <td>...</td>\n",
       "    </tr>\n",
       "    <tr>\n",
       "      <th>13920158</th>\n",
       "      <td>united states</td>\n",
       "      <td>kcdc</td>\n",
       "      <td>1-10</td>\n",
       "      <td>4</td>\n",
       "      <td>10</td>\n",
       "    </tr>\n",
       "    <tr>\n",
       "      <th>13920172</th>\n",
       "      <td>united kingdom</td>\n",
       "      <td>foreverfutureuk</td>\n",
       "      <td>1-10</td>\n",
       "      <td>15</td>\n",
       "      <td>10</td>\n",
       "    </tr>\n",
       "    <tr>\n",
       "      <th>13920234</th>\n",
       "      <td>united states</td>\n",
       "      <td>goosetenants</td>\n",
       "      <td>1-10</td>\n",
       "      <td>12</td>\n",
       "      <td>10</td>\n",
       "    </tr>\n",
       "    <tr>\n",
       "      <th>13920256</th>\n",
       "      <td>united states</td>\n",
       "      <td>domophotos</td>\n",
       "      <td>1-10</td>\n",
       "      <td>10</td>\n",
       "      <td>10</td>\n",
       "    </tr>\n",
       "    <tr>\n",
       "      <th>13920715</th>\n",
       "      <td>united states</td>\n",
       "      <td>leocanale</td>\n",
       "      <td>1-10</td>\n",
       "      <td>9</td>\n",
       "      <td>10</td>\n",
       "    </tr>\n",
       "  </tbody>\n",
       "</table>\n",
       "<p>200402 rows × 5 columns</p>\n",
       "</div>"
      ],
      "text/plain": [
       "                 country             name  size  name_length  max_size\n",
       "137       united kingdom        rockstarx  1-10            9        10\n",
       "288        united states       investible  1-10           10        10\n",
       "337        united states            flick  1-10            5        10\n",
       "436       united kingdom         sparkwin  1-10            8        10\n",
       "444       united kingdom  gplconstruction  1-10           15        10\n",
       "...                  ...              ...   ...          ...       ...\n",
       "13920158   united states             kcdc  1-10            4        10\n",
       "13920172  united kingdom  foreverfutureuk  1-10           15        10\n",
       "13920234   united states     goosetenants  1-10           12        10\n",
       "13920256   united states       domophotos  1-10           10        10\n",
       "13920715   united states        leocanale  1-10            9        10\n",
       "\n",
       "[200402 rows x 5 columns]"
      ]
     },
     "execution_count": 68,
     "metadata": {},
     "output_type": "execute_result"
    }
   ],
   "source": [
    "companies[companies.max_size == 10]"
   ]
  },
  {
   "cell_type": "code",
   "execution_count": 75,
   "id": "d49f91b8",
   "metadata": {},
   "outputs": [
    {
     "data": {
      "text/html": [
       "<div>\n",
       "<style scoped>\n",
       "    .dataframe tbody tr th:only-of-type {\n",
       "        vertical-align: middle;\n",
       "    }\n",
       "\n",
       "    .dataframe tbody tr th {\n",
       "        vertical-align: top;\n",
       "    }\n",
       "\n",
       "    .dataframe thead th {\n",
       "        text-align: right;\n",
       "    }\n",
       "</style>\n",
       "<table border=\"1\" class=\"dataframe\">\n",
       "  <thead>\n",
       "    <tr style=\"text-align: right;\">\n",
       "      <th></th>\n",
       "      <th>country</th>\n",
       "      <th>name</th>\n",
       "      <th>size</th>\n",
       "      <th>name_length</th>\n",
       "      <th>max_size</th>\n",
       "    </tr>\n",
       "  </thead>\n",
       "  <tbody>\n",
       "    <tr>\n",
       "      <th>0</th>\n",
       "      <td>united states</td>\n",
       "      <td>equinoxys</td>\n",
       "      <td>51-200</td>\n",
       "      <td>9</td>\n",
       "      <td>200</td>\n",
       "    </tr>\n",
       "    <tr>\n",
       "      <th>1</th>\n",
       "      <td>united states</td>\n",
       "      <td>biassync</td>\n",
       "      <td>11-50</td>\n",
       "      <td>8</td>\n",
       "      <td>50</td>\n",
       "    </tr>\n",
       "  </tbody>\n",
       "</table>\n",
       "</div>"
      ],
      "text/plain": [
       "         country       name    size  name_length  max_size\n",
       "0  united states  equinoxys  51-200            9       200\n",
       "1  united states   biassync   11-50            8        50"
      ]
     },
     "execution_count": 75,
     "metadata": {},
     "output_type": "execute_result"
    }
   ],
   "source": [
    "companies.reset_index(inplace=True, drop=True)\n",
    "companies.head(2)"
   ]
  },
  {
   "cell_type": "markdown",
   "id": "f8d47aeb",
   "metadata": {},
   "source": [
    "### Export the dataset"
   ]
  },
  {
   "cell_type": "code",
   "execution_count": 76,
   "id": "96a8f5d6",
   "metadata": {},
   "outputs": [],
   "source": [
    "# export the cleaned dataset\n",
    "companies.to_csv(\"../data/cleansed_layer/companies.csv\", index=False)"
   ]
  },
  {
   "cell_type": "code",
   "execution_count": 41,
   "id": "8af64adb",
   "metadata": {},
   "outputs": [],
   "source": [
    "df = pd.read_csv(\"../data/cleansed_layer/companies.csv\")"
   ]
  },
  {
   "cell_type": "code",
   "execution_count": 42,
   "id": "782e9494",
   "metadata": {},
   "outputs": [
    {
     "data": {
      "text/html": [
       "<div>\n",
       "<style scoped>\n",
       "    .dataframe tbody tr th:only-of-type {\n",
       "        vertical-align: middle;\n",
       "    }\n",
       "\n",
       "    .dataframe tbody tr th {\n",
       "        vertical-align: top;\n",
       "    }\n",
       "\n",
       "    .dataframe thead th {\n",
       "        text-align: right;\n",
       "    }\n",
       "</style>\n",
       "<table border=\"1\" class=\"dataframe\">\n",
       "  <thead>\n",
       "    <tr style=\"text-align: right;\">\n",
       "      <th></th>\n",
       "      <th>country</th>\n",
       "      <th>name</th>\n",
       "      <th>size</th>\n",
       "      <th>name_length</th>\n",
       "      <th>max_size</th>\n",
       "    </tr>\n",
       "  </thead>\n",
       "  <tbody>\n",
       "    <tr>\n",
       "      <th>0</th>\n",
       "      <td>united states</td>\n",
       "      <td>equinoxys</td>\n",
       "      <td>51-200</td>\n",
       "      <td>9</td>\n",
       "      <td>200</td>\n",
       "    </tr>\n",
       "    <tr>\n",
       "      <th>1</th>\n",
       "      <td>united states</td>\n",
       "      <td>biassync</td>\n",
       "      <td>11-50</td>\n",
       "      <td>8</td>\n",
       "      <td>50</td>\n",
       "    </tr>\n",
       "    <tr>\n",
       "      <th>2</th>\n",
       "      <td>united kingdom</td>\n",
       "      <td>rockstarx</td>\n",
       "      <td>1-10</td>\n",
       "      <td>9</td>\n",
       "      <td>10</td>\n",
       "    </tr>\n",
       "    <tr>\n",
       "      <th>3</th>\n",
       "      <td>united states</td>\n",
       "      <td>taggpay</td>\n",
       "      <td>11-50</td>\n",
       "      <td>7</td>\n",
       "      <td>50</td>\n",
       "    </tr>\n",
       "    <tr>\n",
       "      <th>4</th>\n",
       "      <td>united states</td>\n",
       "      <td>touchpointe</td>\n",
       "      <td>11-50</td>\n",
       "      <td>11</td>\n",
       "      <td>50</td>\n",
       "    </tr>\n",
       "    <tr>\n",
       "      <th>...</th>\n",
       "      <td>...</td>\n",
       "      <td>...</td>\n",
       "      <td>...</td>\n",
       "      <td>...</td>\n",
       "      <td>...</td>\n",
       "    </tr>\n",
       "    <tr>\n",
       "      <th>327878</th>\n",
       "      <td>united kingdom</td>\n",
       "      <td>armory</td>\n",
       "      <td>11-50</td>\n",
       "      <td>6</td>\n",
       "      <td>50</td>\n",
       "    </tr>\n",
       "    <tr>\n",
       "      <th>327879</th>\n",
       "      <td>united states</td>\n",
       "      <td>goready</td>\n",
       "      <td>11-50</td>\n",
       "      <td>7</td>\n",
       "      <td>50</td>\n",
       "    </tr>\n",
       "    <tr>\n",
       "      <th>327880</th>\n",
       "      <td>canada</td>\n",
       "      <td>darpak</td>\n",
       "      <td>11-50</td>\n",
       "      <td>6</td>\n",
       "      <td>50</td>\n",
       "    </tr>\n",
       "    <tr>\n",
       "      <th>327881</th>\n",
       "      <td>united states</td>\n",
       "      <td>cannack</td>\n",
       "      <td>11-50</td>\n",
       "      <td>7</td>\n",
       "      <td>50</td>\n",
       "    </tr>\n",
       "    <tr>\n",
       "      <th>327882</th>\n",
       "      <td>united states</td>\n",
       "      <td>leocanale</td>\n",
       "      <td>1-10</td>\n",
       "      <td>9</td>\n",
       "      <td>10</td>\n",
       "    </tr>\n",
       "  </tbody>\n",
       "</table>\n",
       "<p>327883 rows × 5 columns</p>\n",
       "</div>"
      ],
      "text/plain": [
       "               country         name    size  name_length  max_size\n",
       "0        united states    equinoxys  51-200            9       200\n",
       "1        united states     biassync   11-50            8        50\n",
       "2       united kingdom    rockstarx    1-10            9        10\n",
       "3        united states      taggpay   11-50            7        50\n",
       "4        united states  touchpointe   11-50           11        50\n",
       "...                ...          ...     ...          ...       ...\n",
       "327878  united kingdom       armory   11-50            6        50\n",
       "327879   united states      goready   11-50            7        50\n",
       "327880          canada       darpak   11-50            6        50\n",
       "327881   united states      cannack   11-50            7        50\n",
       "327882   united states    leocanale    1-10            9        10\n",
       "\n",
       "[327883 rows x 5 columns]"
      ]
     },
     "execution_count": 42,
     "metadata": {},
     "output_type": "execute_result"
    }
   ],
   "source": [
    "df"
   ]
  },
  {
   "cell_type": "code",
   "execution_count": 44,
   "id": "8111c5fa",
   "metadata": {},
   "outputs": [
    {
     "data": {
      "text/plain": [
       "united states     224282\n",
       "united kingdom     75431\n",
       "canada             28170\n",
       "Name: country, dtype: int64"
      ]
     },
     "execution_count": 44,
     "metadata": {},
     "output_type": "execute_result"
    }
   ],
   "source": [
    "df.country.value_counts()"
   ]
  },
  {
   "cell_type": "code",
   "execution_count": 45,
   "id": "336a6e3d",
   "metadata": {},
   "outputs": [],
   "source": [
    "usa = df[df.country == 'united states']"
   ]
  },
  {
   "cell_type": "code",
   "execution_count": 54,
   "id": "4f294a50",
   "metadata": {},
   "outputs": [],
   "source": [
    "usa.to_csv(\"../data/cleansed_layer/companies_usa_size_over_10.csv\")"
   ]
  },
  {
   "cell_type": "code",
   "execution_count": 47,
   "id": "fe85bd93",
   "metadata": {},
   "outputs": [
    {
     "data": {
      "text/html": [
       "<div>\n",
       "<style scoped>\n",
       "    .dataframe tbody tr th:only-of-type {\n",
       "        vertical-align: middle;\n",
       "    }\n",
       "\n",
       "    .dataframe tbody tr th {\n",
       "        vertical-align: top;\n",
       "    }\n",
       "\n",
       "    .dataframe thead th {\n",
       "        text-align: right;\n",
       "    }\n",
       "</style>\n",
       "<table border=\"1\" class=\"dataframe\">\n",
       "  <thead>\n",
       "    <tr style=\"text-align: right;\">\n",
       "      <th></th>\n",
       "      <th>country</th>\n",
       "      <th>name</th>\n",
       "      <th>size</th>\n",
       "      <th>name_length</th>\n",
       "      <th>max_size</th>\n",
       "    </tr>\n",
       "  </thead>\n",
       "  <tbody>\n",
       "    <tr>\n",
       "      <th>0</th>\n",
       "      <td>united states</td>\n",
       "      <td>equinoxys</td>\n",
       "      <td>51-200</td>\n",
       "      <td>9</td>\n",
       "      <td>200</td>\n",
       "    </tr>\n",
       "    <tr>\n",
       "      <th>1</th>\n",
       "      <td>united states</td>\n",
       "      <td>biassync</td>\n",
       "      <td>11-50</td>\n",
       "      <td>8</td>\n",
       "      <td>50</td>\n",
       "    </tr>\n",
       "    <tr>\n",
       "      <th>3</th>\n",
       "      <td>united states</td>\n",
       "      <td>taggpay</td>\n",
       "      <td>11-50</td>\n",
       "      <td>7</td>\n",
       "      <td>50</td>\n",
       "    </tr>\n",
       "    <tr>\n",
       "      <th>4</th>\n",
       "      <td>united states</td>\n",
       "      <td>touchpointe</td>\n",
       "      <td>11-50</td>\n",
       "      <td>11</td>\n",
       "      <td>50</td>\n",
       "    </tr>\n",
       "    <tr>\n",
       "      <th>6</th>\n",
       "      <td>united states</td>\n",
       "      <td>investible</td>\n",
       "      <td>1-10</td>\n",
       "      <td>10</td>\n",
       "      <td>10</td>\n",
       "    </tr>\n",
       "    <tr>\n",
       "      <th>...</th>\n",
       "      <td>...</td>\n",
       "      <td>...</td>\n",
       "      <td>...</td>\n",
       "      <td>...</td>\n",
       "      <td>...</td>\n",
       "    </tr>\n",
       "    <tr>\n",
       "      <th>327875</th>\n",
       "      <td>united states</td>\n",
       "      <td>keener</td>\n",
       "      <td>11-50</td>\n",
       "      <td>6</td>\n",
       "      <td>50</td>\n",
       "    </tr>\n",
       "    <tr>\n",
       "      <th>327877</th>\n",
       "      <td>united states</td>\n",
       "      <td>oversightgroup</td>\n",
       "      <td>11-50</td>\n",
       "      <td>14</td>\n",
       "      <td>50</td>\n",
       "    </tr>\n",
       "    <tr>\n",
       "      <th>327879</th>\n",
       "      <td>united states</td>\n",
       "      <td>goready</td>\n",
       "      <td>11-50</td>\n",
       "      <td>7</td>\n",
       "      <td>50</td>\n",
       "    </tr>\n",
       "    <tr>\n",
       "      <th>327881</th>\n",
       "      <td>united states</td>\n",
       "      <td>cannack</td>\n",
       "      <td>11-50</td>\n",
       "      <td>7</td>\n",
       "      <td>50</td>\n",
       "    </tr>\n",
       "    <tr>\n",
       "      <th>327882</th>\n",
       "      <td>united states</td>\n",
       "      <td>leocanale</td>\n",
       "      <td>1-10</td>\n",
       "      <td>9</td>\n",
       "      <td>10</td>\n",
       "    </tr>\n",
       "  </tbody>\n",
       "</table>\n",
       "<p>224282 rows × 5 columns</p>\n",
       "</div>"
      ],
      "text/plain": [
       "              country            name    size  name_length  max_size\n",
       "0       united states       equinoxys  51-200            9       200\n",
       "1       united states        biassync   11-50            8        50\n",
       "3       united states         taggpay   11-50            7        50\n",
       "4       united states     touchpointe   11-50           11        50\n",
       "6       united states      investible    1-10           10        10\n",
       "...               ...             ...     ...          ...       ...\n",
       "327875  united states          keener   11-50            6        50\n",
       "327877  united states  oversightgroup   11-50           14        50\n",
       "327879  united states         goready   11-50            7        50\n",
       "327881  united states         cannack   11-50            7        50\n",
       "327882  united states       leocanale    1-10            9        10\n",
       "\n",
       "[224282 rows x 5 columns]"
      ]
     },
     "execution_count": 47,
     "metadata": {},
     "output_type": "execute_result"
    }
   ],
   "source": [
    "usa"
   ]
  },
  {
   "cell_type": "code",
   "execution_count": 49,
   "id": "348cba40",
   "metadata": {},
   "outputs": [
    {
     "data": {
      "text/plain": [
       "10       133209\n",
       "50        59493\n",
       "200       19873\n",
       "500        5779\n",
       "1000       2306\n",
       "5000       2226\n",
       "10001       907\n",
       "10000       489\n",
       "Name: max_size, dtype: int64"
      ]
     },
     "execution_count": 49,
     "metadata": {},
     "output_type": "execute_result"
    }
   ],
   "source": [
    "usa.max_size.value_counts()"
   ]
  },
  {
   "cell_type": "code",
   "execution_count": 51,
   "id": "f0dd9ecc",
   "metadata": {},
   "outputs": [],
   "source": [
    "usa = usa[usa.max_size > 10]"
   ]
  },
  {
   "cell_type": "code",
   "execution_count": 55,
   "id": "8ef6b44f",
   "metadata": {},
   "outputs": [
    {
     "data": {
      "text/plain": [
       "(91073, 5)"
      ]
     },
     "execution_count": 55,
     "metadata": {},
     "output_type": "execute_result"
    }
   ],
   "source": [
    "usa.shape"
   ]
  }
 ],
 "metadata": {
  "kernelspec": {
   "display_name": "Python 3 (ipykernel)",
   "language": "python",
   "name": "python3"
  },
  "language_info": {
   "codemirror_mode": {
    "name": "ipython",
    "version": 3
   },
   "file_extension": ".py",
   "mimetype": "text/x-python",
   "name": "python",
   "nbconvert_exporter": "python",
   "pygments_lexer": "ipython3",
   "version": "3.9.13"
  }
 },
 "nbformat": 4,
 "nbformat_minor": 5
}
