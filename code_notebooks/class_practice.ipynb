{
 "cells": [
  {
   "cell_type": "code",
   "execution_count": 121,
   "id": "c9612711",
   "metadata": {},
   "outputs": [],
   "source": [
    "# Analyze\n",
    "# What is happening in the dataset"
   ]
  },
  {
   "cell_type": "code",
   "execution_count": 122,
   "id": "5e564a99",
   "metadata": {},
   "outputs": [],
   "source": [
    "import pandas as pd"
   ]
  },
  {
   "cell_type": "code",
   "execution_count": 123,
   "id": "0fea3c99",
   "metadata": {},
   "outputs": [],
   "source": [
    "df = pd.read_csv(\"Backend_logs.csv\")"
   ]
  },
  {
   "cell_type": "code",
   "execution_count": 124,
   "id": "f3863a49",
   "metadata": {},
   "outputs": [
    {
     "data": {
      "text/html": [
       "<div>\n",
       "<style scoped>\n",
       "    .dataframe tbody tr th:only-of-type {\n",
       "        vertical-align: middle;\n",
       "    }\n",
       "\n",
       "    .dataframe tbody tr th {\n",
       "        vertical-align: top;\n",
       "    }\n",
       "\n",
       "    .dataframe thead th {\n",
       "        text-align: right;\n",
       "    }\n",
       "</style>\n",
       "<table border=\"1\" class=\"dataframe\">\n",
       "  <thead>\n",
       "    <tr style=\"text-align: right;\">\n",
       "      <th></th>\n",
       "      <th>Operation</th>\n",
       "      <th>Request time</th>\n",
       "      <th>Response time</th>\n",
       "    </tr>\n",
       "  </thead>\n",
       "  <tbody>\n",
       "    <tr>\n",
       "      <th>0</th>\n",
       "      <td>GetTrackingData</td>\n",
       "      <td>1/1/2023 10:00:23.000</td>\n",
       "      <td>1/1/2023 10:00:23.300</td>\n",
       "    </tr>\n",
       "    <tr>\n",
       "      <th>1</th>\n",
       "      <td>SetPayment</td>\n",
       "      <td>1/1/2023 10:13:14.230</td>\n",
       "      <td>1/1/2023 10:13:15.697</td>\n",
       "    </tr>\n",
       "    <tr>\n",
       "      <th>2</th>\n",
       "      <td>SetPayment</td>\n",
       "      <td>1/1/2023 10:26:05.460</td>\n",
       "      <td>1/1/2023 10:26:06.410</td>\n",
       "    </tr>\n",
       "    <tr>\n",
       "      <th>3</th>\n",
       "      <td>GetPaymentMethods</td>\n",
       "      <td>1/1/2023 10:38:56.690</td>\n",
       "      <td>1/1/2023 10:38:57.057</td>\n",
       "    </tr>\n",
       "    <tr>\n",
       "      <th>4</th>\n",
       "      <td>SetDeliveryAddress</td>\n",
       "      <td>1/1/2023 10:51:47.920</td>\n",
       "      <td>1/1/2023 10:51:48.620</td>\n",
       "    </tr>\n",
       "    <tr>\n",
       "      <th>...</th>\n",
       "      <td>...</td>\n",
       "      <td>...</td>\n",
       "      <td>...</td>\n",
       "    </tr>\n",
       "    <tr>\n",
       "      <th>9994</th>\n",
       "      <td>ModifyItem</td>\n",
       "      <td>31/3/2023 15:01:35.621</td>\n",
       "      <td>31/3/2023 15:01:38.387</td>\n",
       "    </tr>\n",
       "    <tr>\n",
       "      <th>9995</th>\n",
       "      <td>SetDeliveryAddress</td>\n",
       "      <td>31/3/2023 15:14:26.851</td>\n",
       "      <td>31/3/2023 15:14:27.284</td>\n",
       "    </tr>\n",
       "    <tr>\n",
       "      <th>9996</th>\n",
       "      <td>SetPayment</td>\n",
       "      <td>31/3/2023 15:27:18.081</td>\n",
       "      <td>31/3/2023 15:27:19.331</td>\n",
       "    </tr>\n",
       "    <tr>\n",
       "      <th>9997</th>\n",
       "      <td>SetDeliveryAddress</td>\n",
       "      <td>31/3/2023 15:40:09.311</td>\n",
       "      <td>31/3/2023 15:40:09.861</td>\n",
       "    </tr>\n",
       "    <tr>\n",
       "      <th>9998</th>\n",
       "      <td>ModifyItem</td>\n",
       "      <td>31/3/2023 15:53:00.541</td>\n",
       "      <td>31/3/2023 15:53:01.857</td>\n",
       "    </tr>\n",
       "  </tbody>\n",
       "</table>\n",
       "<p>9999 rows × 3 columns</p>\n",
       "</div>"
      ],
      "text/plain": [
       "               Operation            Request time           Response time\n",
       "0        GetTrackingData   1/1/2023 10:00:23.000   1/1/2023 10:00:23.300\n",
       "1             SetPayment   1/1/2023 10:13:14.230   1/1/2023 10:13:15.697\n",
       "2             SetPayment   1/1/2023 10:26:05.460   1/1/2023 10:26:06.410\n",
       "3      GetPaymentMethods   1/1/2023 10:38:56.690   1/1/2023 10:38:57.057\n",
       "4     SetDeliveryAddress   1/1/2023 10:51:47.920   1/1/2023 10:51:48.620\n",
       "...                  ...                     ...                     ...\n",
       "9994          ModifyItem  31/3/2023 15:01:35.621  31/3/2023 15:01:38.387\n",
       "9995  SetDeliveryAddress  31/3/2023 15:14:26.851  31/3/2023 15:14:27.284\n",
       "9996          SetPayment  31/3/2023 15:27:18.081  31/3/2023 15:27:19.331\n",
       "9997  SetDeliveryAddress  31/3/2023 15:40:09.311  31/3/2023 15:40:09.861\n",
       "9998          ModifyItem  31/3/2023 15:53:00.541  31/3/2023 15:53:01.857\n",
       "\n",
       "[9999 rows x 3 columns]"
      ]
     },
     "execution_count": 124,
     "metadata": {},
     "output_type": "execute_result"
    }
   ],
   "source": [
    "df"
   ]
  },
  {
   "cell_type": "code",
   "execution_count": 125,
   "id": "080f63f2",
   "metadata": {},
   "outputs": [],
   "source": [
    "# 3 months"
   ]
  },
  {
   "cell_type": "code",
   "execution_count": 126,
   "id": "c68c3b47",
   "metadata": {},
   "outputs": [
    {
     "data": {
      "text/plain": [
       "GetPaymentMethods     787\n",
       "GetTrackingData       742\n",
       "GetOrderList          739\n",
       "GetItem               736\n",
       "Login                 733\n",
       "ModifyItem            732\n",
       "GetOrder              727\n",
       "SendNotification      711\n",
       "ModifyOrder           709\n",
       "AddItemToOrder        699\n",
       "SetPayment            689\n",
       "GetPaymentList        682\n",
       "SetDeliveryAddress    664\n",
       "GetItemList           649\n",
       "Name: Operation, dtype: int64"
      ]
     },
     "execution_count": 126,
     "metadata": {},
     "output_type": "execute_result"
    }
   ],
   "source": [
    "df.Operation.value_counts()"
   ]
  },
  {
   "cell_type": "code",
   "execution_count": 127,
   "id": "61aca58f",
   "metadata": {},
   "outputs": [
    {
     "data": {
      "text/plain": [
       "Operation        object\n",
       "Request time     object\n",
       "Response time    object\n",
       "dtype: object"
      ]
     },
     "execution_count": 127,
     "metadata": {},
     "output_type": "execute_result"
    }
   ],
   "source": [
    "df.dtypes"
   ]
  },
  {
   "cell_type": "code",
   "execution_count": 128,
   "id": "29d40ae5",
   "metadata": {},
   "outputs": [
    {
     "data": {
      "text/plain": [
       "Index(['Operation', 'Request time', 'Response time'], dtype='object')"
      ]
     },
     "execution_count": 128,
     "metadata": {},
     "output_type": "execute_result"
    }
   ],
   "source": [
    "df.columns"
   ]
  },
  {
   "cell_type": "code",
   "execution_count": 129,
   "id": "3cc2fcec",
   "metadata": {},
   "outputs": [],
   "source": [
    "df.rename({\"Operation\": \"operation\", \"Request time\": 'request_time', 'Response time': 'response_time'}, \n",
    "          inplace=True, axis=1)"
   ]
  },
  {
   "cell_type": "code",
   "execution_count": 130,
   "id": "2280df3b",
   "metadata": {},
   "outputs": [
    {
     "data": {
      "text/html": [
       "<div>\n",
       "<style scoped>\n",
       "    .dataframe tbody tr th:only-of-type {\n",
       "        vertical-align: middle;\n",
       "    }\n",
       "\n",
       "    .dataframe tbody tr th {\n",
       "        vertical-align: top;\n",
       "    }\n",
       "\n",
       "    .dataframe thead th {\n",
       "        text-align: right;\n",
       "    }\n",
       "</style>\n",
       "<table border=\"1\" class=\"dataframe\">\n",
       "  <thead>\n",
       "    <tr style=\"text-align: right;\">\n",
       "      <th></th>\n",
       "      <th>operation</th>\n",
       "      <th>request_time</th>\n",
       "      <th>response_time</th>\n",
       "    </tr>\n",
       "  </thead>\n",
       "  <tbody>\n",
       "    <tr>\n",
       "      <th>0</th>\n",
       "      <td>GetTrackingData</td>\n",
       "      <td>1/1/2023 10:00:23.000</td>\n",
       "      <td>1/1/2023 10:00:23.300</td>\n",
       "    </tr>\n",
       "    <tr>\n",
       "      <th>1</th>\n",
       "      <td>SetPayment</td>\n",
       "      <td>1/1/2023 10:13:14.230</td>\n",
       "      <td>1/1/2023 10:13:15.697</td>\n",
       "    </tr>\n",
       "    <tr>\n",
       "      <th>2</th>\n",
       "      <td>SetPayment</td>\n",
       "      <td>1/1/2023 10:26:05.460</td>\n",
       "      <td>1/1/2023 10:26:06.410</td>\n",
       "    </tr>\n",
       "    <tr>\n",
       "      <th>3</th>\n",
       "      <td>GetPaymentMethods</td>\n",
       "      <td>1/1/2023 10:38:56.690</td>\n",
       "      <td>1/1/2023 10:38:57.057</td>\n",
       "    </tr>\n",
       "    <tr>\n",
       "      <th>4</th>\n",
       "      <td>SetDeliveryAddress</td>\n",
       "      <td>1/1/2023 10:51:47.920</td>\n",
       "      <td>1/1/2023 10:51:48.620</td>\n",
       "    </tr>\n",
       "    <tr>\n",
       "      <th>...</th>\n",
       "      <td>...</td>\n",
       "      <td>...</td>\n",
       "      <td>...</td>\n",
       "    </tr>\n",
       "    <tr>\n",
       "      <th>9994</th>\n",
       "      <td>ModifyItem</td>\n",
       "      <td>31/3/2023 15:01:35.621</td>\n",
       "      <td>31/3/2023 15:01:38.387</td>\n",
       "    </tr>\n",
       "    <tr>\n",
       "      <th>9995</th>\n",
       "      <td>SetDeliveryAddress</td>\n",
       "      <td>31/3/2023 15:14:26.851</td>\n",
       "      <td>31/3/2023 15:14:27.284</td>\n",
       "    </tr>\n",
       "    <tr>\n",
       "      <th>9996</th>\n",
       "      <td>SetPayment</td>\n",
       "      <td>31/3/2023 15:27:18.081</td>\n",
       "      <td>31/3/2023 15:27:19.331</td>\n",
       "    </tr>\n",
       "    <tr>\n",
       "      <th>9997</th>\n",
       "      <td>SetDeliveryAddress</td>\n",
       "      <td>31/3/2023 15:40:09.311</td>\n",
       "      <td>31/3/2023 15:40:09.861</td>\n",
       "    </tr>\n",
       "    <tr>\n",
       "      <th>9998</th>\n",
       "      <td>ModifyItem</td>\n",
       "      <td>31/3/2023 15:53:00.541</td>\n",
       "      <td>31/3/2023 15:53:01.857</td>\n",
       "    </tr>\n",
       "  </tbody>\n",
       "</table>\n",
       "<p>9999 rows × 3 columns</p>\n",
       "</div>"
      ],
      "text/plain": [
       "               operation            request_time           response_time\n",
       "0        GetTrackingData   1/1/2023 10:00:23.000   1/1/2023 10:00:23.300\n",
       "1             SetPayment   1/1/2023 10:13:14.230   1/1/2023 10:13:15.697\n",
       "2             SetPayment   1/1/2023 10:26:05.460   1/1/2023 10:26:06.410\n",
       "3      GetPaymentMethods   1/1/2023 10:38:56.690   1/1/2023 10:38:57.057\n",
       "4     SetDeliveryAddress   1/1/2023 10:51:47.920   1/1/2023 10:51:48.620\n",
       "...                  ...                     ...                     ...\n",
       "9994          ModifyItem  31/3/2023 15:01:35.621  31/3/2023 15:01:38.387\n",
       "9995  SetDeliveryAddress  31/3/2023 15:14:26.851  31/3/2023 15:14:27.284\n",
       "9996          SetPayment  31/3/2023 15:27:18.081  31/3/2023 15:27:19.331\n",
       "9997  SetDeliveryAddress  31/3/2023 15:40:09.311  31/3/2023 15:40:09.861\n",
       "9998          ModifyItem  31/3/2023 15:53:00.541  31/3/2023 15:53:01.857\n",
       "\n",
       "[9999 rows x 3 columns]"
      ]
     },
     "execution_count": 130,
     "metadata": {},
     "output_type": "execute_result"
    }
   ],
   "source": [
    "df"
   ]
  },
  {
   "cell_type": "code",
   "execution_count": 133,
   "id": "a9b627b9",
   "metadata": {},
   "outputs": [],
   "source": [
    "df.request_time = pd.to_datetime(df.request_time, errors='coerce')\n",
    "df.response_time = pd.to_datetime(df.response_time, errors='coerce')"
   ]
  },
  {
   "cell_type": "code",
   "execution_count": 111,
   "id": "fcdea015",
   "metadata": {},
   "outputs": [
    {
     "data": {
      "text/plain": [
       "operation        0\n",
       "request_time     4\n",
       "response_time    7\n",
       "dtype: int64"
      ]
     },
     "execution_count": 111,
     "metadata": {},
     "output_type": "execute_result"
    }
   ],
   "source": [
    "df.isnull().sum()"
   ]
  },
  {
   "cell_type": "code",
   "execution_count": 119,
   "id": "3c0c1d83",
   "metadata": {},
   "outputs": [],
   "source": [
    "a = list(df[df.response_time.isnull()].index)\n",
    "b = list(df[df.request_time.isnull()].index)\n",
    "b.extend(a)"
   ]
  },
  {
   "cell_type": "code",
   "execution_count": 120,
   "id": "1fd09cd8",
   "metadata": {},
   "outputs": [
    {
     "data": {
      "text/plain": [
       "[585, 676, 2429, 7298, 507, 585, 708, 1856, 2429, 7122, 7306]"
      ]
     },
     "execution_count": 120,
     "metadata": {},
     "output_type": "execute_result"
    }
   ],
   "source": [
    "b"
   ]
  },
  {
   "cell_type": "code",
   "execution_count": 132,
   "id": "0c901c3a",
   "metadata": {},
   "outputs": [
    {
     "data": {
      "text/html": [
       "<div>\n",
       "<style scoped>\n",
       "    .dataframe tbody tr th:only-of-type {\n",
       "        vertical-align: middle;\n",
       "    }\n",
       "\n",
       "    .dataframe tbody tr th {\n",
       "        vertical-align: top;\n",
       "    }\n",
       "\n",
       "    .dataframe thead th {\n",
       "        text-align: right;\n",
       "    }\n",
       "</style>\n",
       "<table border=\"1\" class=\"dataframe\">\n",
       "  <thead>\n",
       "    <tr style=\"text-align: right;\">\n",
       "      <th></th>\n",
       "      <th>operation</th>\n",
       "      <th>request_time</th>\n",
       "      <th>response_time</th>\n",
       "    </tr>\n",
       "  </thead>\n",
       "  <tbody>\n",
       "    <tr>\n",
       "      <th>507</th>\n",
       "      <td>AddItemToOrder</td>\n",
       "      <td>5/1/2023 22:37:16.610</td>\n",
       "      <td>##############################################...</td>\n",
       "    </tr>\n",
       "    <tr>\n",
       "      <th>585</th>\n",
       "      <td>GetPaymentMethods</td>\n",
       "      <td>djhgfwefbf</td>\n",
       "      <td>udfhdkhad</td>\n",
       "    </tr>\n",
       "    <tr>\n",
       "      <th>676</th>\n",
       "      <td>GetTrackingData</td>\n",
       "      <td>##############################################...</td>\n",
       "      <td>7/1/2023 10:49:35.347</td>\n",
       "    </tr>\n",
       "    <tr>\n",
       "      <th>708</th>\n",
       "      <td>GetOrderList</td>\n",
       "      <td>7/1/2023 17:40:53.840</td>\n",
       "      <td>0/1/1900 00:00:00.000</td>\n",
       "    </tr>\n",
       "    <tr>\n",
       "      <th>1856</th>\n",
       "      <td>GetPaymentMethods</td>\n",
       "      <td>17/1/2023 23:37:05.880</td>\n",
       "      <td>0/1/1900 00:00:00.000</td>\n",
       "    </tr>\n",
       "    <tr>\n",
       "      <th>2429</th>\n",
       "      <td>ModifyOrder</td>\n",
       "      <td>##############################################...</td>\n",
       "      <td>0/1/1900 00:00:00.000</td>\n",
       "    </tr>\n",
       "    <tr>\n",
       "      <th>7122</th>\n",
       "      <td>GetTrackingData</td>\n",
       "      <td>5/3/2023 23:45:23.061</td>\n",
       "      <td>000000000000000</td>\n",
       "    </tr>\n",
       "    <tr>\n",
       "      <th>7298</th>\n",
       "      <td>GetTrackingData</td>\n",
       "      <td>0000000000000</td>\n",
       "      <td>7/3/2023 13:27:40.924</td>\n",
       "    </tr>\n",
       "    <tr>\n",
       "      <th>7306</th>\n",
       "      <td>GetItem</td>\n",
       "      <td>7/3/2023 15:10:29.381</td>\n",
       "      <td>0/3/2023 15:10:29.547</td>\n",
       "    </tr>\n",
       "  </tbody>\n",
       "</table>\n",
       "</div>"
      ],
      "text/plain": [
       "              operation                                       request_time  \\\n",
       "507      AddItemToOrder                              5/1/2023 22:37:16.610   \n",
       "585   GetPaymentMethods                                         djhgfwefbf   \n",
       "676     GetTrackingData  ##############################################...   \n",
       "708        GetOrderList                              7/1/2023 17:40:53.840   \n",
       "1856  GetPaymentMethods                             17/1/2023 23:37:05.880   \n",
       "2429        ModifyOrder  ##############################################...   \n",
       "7122    GetTrackingData                              5/3/2023 23:45:23.061   \n",
       "7298    GetTrackingData                                      0000000000000   \n",
       "7306            GetItem                              7/3/2023 15:10:29.381   \n",
       "\n",
       "                                          response_time  \n",
       "507   ##############################################...  \n",
       "585                                           udfhdkhad  \n",
       "676                               7/1/2023 10:49:35.347  \n",
       "708                               0/1/1900 00:00:00.000  \n",
       "1856                              0/1/1900 00:00:00.000  \n",
       "2429                              0/1/1900 00:00:00.000  \n",
       "7122                                    000000000000000  \n",
       "7298                              7/3/2023 13:27:40.924  \n",
       "7306                              0/3/2023 15:10:29.547  "
      ]
     },
     "execution_count": 132,
     "metadata": {},
     "output_type": "execute_result"
    }
   ],
   "source": [
    "df[df.index.isin(b)]"
   ]
  },
  {
   "cell_type": "code",
   "execution_count": 134,
   "id": "75cd6792",
   "metadata": {},
   "outputs": [],
   "source": [
    "df.dropna(subset=['request_time', 'response_time'], inplace=True)"
   ]
  },
  {
   "cell_type": "code",
   "execution_count": 135,
   "id": "87b62ca2",
   "metadata": {},
   "outputs": [
    {
     "data": {
      "text/html": [
       "<div>\n",
       "<style scoped>\n",
       "    .dataframe tbody tr th:only-of-type {\n",
       "        vertical-align: middle;\n",
       "    }\n",
       "\n",
       "    .dataframe tbody tr th {\n",
       "        vertical-align: top;\n",
       "    }\n",
       "\n",
       "    .dataframe thead th {\n",
       "        text-align: right;\n",
       "    }\n",
       "</style>\n",
       "<table border=\"1\" class=\"dataframe\">\n",
       "  <thead>\n",
       "    <tr style=\"text-align: right;\">\n",
       "      <th></th>\n",
       "      <th>operation</th>\n",
       "      <th>request_time</th>\n",
       "      <th>response_time</th>\n",
       "    </tr>\n",
       "  </thead>\n",
       "  <tbody>\n",
       "    <tr>\n",
       "      <th>0</th>\n",
       "      <td>GetTrackingData</td>\n",
       "      <td>2023-01-01 10:00:23.000</td>\n",
       "      <td>2023-01-01 10:00:23.300</td>\n",
       "    </tr>\n",
       "    <tr>\n",
       "      <th>1</th>\n",
       "      <td>SetPayment</td>\n",
       "      <td>2023-01-01 10:13:14.230</td>\n",
       "      <td>2023-01-01 10:13:15.697</td>\n",
       "    </tr>\n",
       "    <tr>\n",
       "      <th>2</th>\n",
       "      <td>SetPayment</td>\n",
       "      <td>2023-01-01 10:26:05.460</td>\n",
       "      <td>2023-01-01 10:26:06.410</td>\n",
       "    </tr>\n",
       "  </tbody>\n",
       "</table>\n",
       "</div>"
      ],
      "text/plain": [
       "         operation            request_time           response_time\n",
       "0  GetTrackingData 2023-01-01 10:00:23.000 2023-01-01 10:00:23.300\n",
       "1       SetPayment 2023-01-01 10:13:14.230 2023-01-01 10:13:15.697\n",
       "2       SetPayment 2023-01-01 10:26:05.460 2023-01-01 10:26:06.410"
      ]
     },
     "execution_count": 135,
     "metadata": {},
     "output_type": "execute_result"
    }
   ],
   "source": [
    "df.head(3)"
   ]
  },
  {
   "cell_type": "code",
   "execution_count": 136,
   "id": "4deacf92",
   "metadata": {},
   "outputs": [],
   "source": [
    "df['difference'] = df.response_time.sub(df.request_time).dt.components.milliseconds#.mul(1000).astype(int)"
   ]
  },
  {
   "cell_type": "code",
   "execution_count": 137,
   "id": "0d433323",
   "metadata": {},
   "outputs": [
    {
     "data": {
      "text/html": [
       "<div>\n",
       "<style scoped>\n",
       "    .dataframe tbody tr th:only-of-type {\n",
       "        vertical-align: middle;\n",
       "    }\n",
       "\n",
       "    .dataframe tbody tr th {\n",
       "        vertical-align: top;\n",
       "    }\n",
       "\n",
       "    .dataframe thead th {\n",
       "        text-align: right;\n",
       "    }\n",
       "</style>\n",
       "<table border=\"1\" class=\"dataframe\">\n",
       "  <thead>\n",
       "    <tr style=\"text-align: right;\">\n",
       "      <th></th>\n",
       "      <th>operation</th>\n",
       "      <th>request_time</th>\n",
       "      <th>response_time</th>\n",
       "      <th>difference</th>\n",
       "    </tr>\n",
       "  </thead>\n",
       "  <tbody>\n",
       "    <tr>\n",
       "      <th>51</th>\n",
       "      <td>GetOrder</td>\n",
       "      <td>2023-01-01 20:55:55.730</td>\n",
       "      <td>2023-01-01 20:55:56.730</td>\n",
       "      <td>0</td>\n",
       "    </tr>\n",
       "    <tr>\n",
       "      <th>112</th>\n",
       "      <td>GetItem</td>\n",
       "      <td>2023-02-01 10:00:00.760</td>\n",
       "      <td>2023-02-01 10:00:01.760</td>\n",
       "      <td>0</td>\n",
       "    </tr>\n",
       "    <tr>\n",
       "      <th>319</th>\n",
       "      <td>SetPayment</td>\n",
       "      <td>2023-04-01 06:20:45.370</td>\n",
       "      <td>2023-04-01 06:20:46.370</td>\n",
       "      <td>0</td>\n",
       "    </tr>\n",
       "    <tr>\n",
       "      <th>377</th>\n",
       "      <td>GetTrackingData</td>\n",
       "      <td>2023-04-01 18:46:16.710</td>\n",
       "      <td>2023-04-01 18:46:17.710</td>\n",
       "      <td>0</td>\n",
       "    </tr>\n",
       "    <tr>\n",
       "      <th>736</th>\n",
       "      <td>ModifyItem</td>\n",
       "      <td>2023-07-01 23:40:48.280</td>\n",
       "      <td>2023-07-01 23:40:52.280</td>\n",
       "      <td>0</td>\n",
       "    </tr>\n",
       "    <tr>\n",
       "      <th>...</th>\n",
       "      <td>...</td>\n",
       "      <td>...</td>\n",
       "      <td>...</td>\n",
       "      <td>...</td>\n",
       "    </tr>\n",
       "    <tr>\n",
       "      <th>9224</th>\n",
       "      <td>AddItemToOrder</td>\n",
       "      <td>2023-03-24 18:04:08.521</td>\n",
       "      <td>2023-03-24 18:04:09.521</td>\n",
       "      <td>0</td>\n",
       "    </tr>\n",
       "    <tr>\n",
       "      <th>9226</th>\n",
       "      <td>Login</td>\n",
       "      <td>2023-03-24 18:29:50.981</td>\n",
       "      <td>2023-03-24 18:29:51.981</td>\n",
       "      <td>0</td>\n",
       "    </tr>\n",
       "    <tr>\n",
       "      <th>9365</th>\n",
       "      <td>AddItemToOrder</td>\n",
       "      <td>2023-03-26 00:16:31.951</td>\n",
       "      <td>2023-03-26 00:16:32.951</td>\n",
       "      <td>0</td>\n",
       "    </tr>\n",
       "    <tr>\n",
       "      <th>9732</th>\n",
       "      <td>GetOrderList</td>\n",
       "      <td>2023-03-29 06:53:53.361</td>\n",
       "      <td>2023-03-29 06:53:54.361</td>\n",
       "      <td>0</td>\n",
       "    </tr>\n",
       "    <tr>\n",
       "      <th>9963</th>\n",
       "      <td>ModifyItem</td>\n",
       "      <td>2023-03-31 08:23:07.491</td>\n",
       "      <td>2023-03-31 08:23:13.491</td>\n",
       "      <td>0</td>\n",
       "    </tr>\n",
       "  </tbody>\n",
       "</table>\n",
       "<p>105 rows × 4 columns</p>\n",
       "</div>"
      ],
      "text/plain": [
       "            operation            request_time           response_time  \\\n",
       "51           GetOrder 2023-01-01 20:55:55.730 2023-01-01 20:55:56.730   \n",
       "112           GetItem 2023-02-01 10:00:00.760 2023-02-01 10:00:01.760   \n",
       "319        SetPayment 2023-04-01 06:20:45.370 2023-04-01 06:20:46.370   \n",
       "377   GetTrackingData 2023-04-01 18:46:16.710 2023-04-01 18:46:17.710   \n",
       "736        ModifyItem 2023-07-01 23:40:48.280 2023-07-01 23:40:52.280   \n",
       "...               ...                     ...                     ...   \n",
       "9224   AddItemToOrder 2023-03-24 18:04:08.521 2023-03-24 18:04:09.521   \n",
       "9226            Login 2023-03-24 18:29:50.981 2023-03-24 18:29:51.981   \n",
       "9365   AddItemToOrder 2023-03-26 00:16:31.951 2023-03-26 00:16:32.951   \n",
       "9732     GetOrderList 2023-03-29 06:53:53.361 2023-03-29 06:53:54.361   \n",
       "9963       ModifyItem 2023-03-31 08:23:07.491 2023-03-31 08:23:13.491   \n",
       "\n",
       "      difference  \n",
       "51             0  \n",
       "112            0  \n",
       "319            0  \n",
       "377            0  \n",
       "736            0  \n",
       "...          ...  \n",
       "9224           0  \n",
       "9226           0  \n",
       "9365           0  \n",
       "9732           0  \n",
       "9963           0  \n",
       "\n",
       "[105 rows x 4 columns]"
      ]
     },
     "execution_count": 137,
     "metadata": {},
     "output_type": "execute_result"
    }
   ],
   "source": [
    "df[df.difference == 0] # those took 0 milliseconds whih may be odd"
   ]
  },
  {
   "cell_type": "code",
   "execution_count": 138,
   "id": "0c36167c",
   "metadata": {},
   "outputs": [
    {
     "data": {
      "text/plain": [
       "ModifyOrder           13\n",
       "ModifyItem            12\n",
       "GetItem               10\n",
       "SetPayment             8\n",
       "Login                  8\n",
       "GetOrder               7\n",
       "GetTrackingData        7\n",
       "SendNotification       7\n",
       "GetPaymentMethods      7\n",
       "GetItemList            7\n",
       "AddItemToOrder         6\n",
       "GetOrderList           5\n",
       "SetDeliveryAddress     5\n",
       "GetPaymentList         3\n",
       "Name: operation, dtype: int64"
      ]
     },
     "execution_count": 138,
     "metadata": {},
     "output_type": "execute_result"
    }
   ],
   "source": [
    "df[df.difference == 0].operation.value_counts()"
   ]
  },
  {
   "cell_type": "code",
   "execution_count": 67,
   "id": "7cdc061c",
   "metadata": {},
   "outputs": [
    {
     "data": {
      "text/html": [
       "<div>\n",
       "<style scoped>\n",
       "    .dataframe tbody tr th:only-of-type {\n",
       "        vertical-align: middle;\n",
       "    }\n",
       "\n",
       "    .dataframe tbody tr th {\n",
       "        vertical-align: top;\n",
       "    }\n",
       "\n",
       "    .dataframe thead th {\n",
       "        text-align: right;\n",
       "    }\n",
       "</style>\n",
       "<table border=\"1\" class=\"dataframe\">\n",
       "  <thead>\n",
       "    <tr style=\"text-align: right;\">\n",
       "      <th></th>\n",
       "      <th>operation</th>\n",
       "      <th>request_time</th>\n",
       "      <th>response_time</th>\n",
       "      <th>difference</th>\n",
       "    </tr>\n",
       "  </thead>\n",
       "  <tbody>\n",
       "    <tr>\n",
       "      <th>0</th>\n",
       "      <td>GetTrackingData</td>\n",
       "      <td>2023-01-01 10:00:23.000</td>\n",
       "      <td>2023-01-01 10:00:23.300</td>\n",
       "      <td>300</td>\n",
       "    </tr>\n",
       "    <tr>\n",
       "      <th>1</th>\n",
       "      <td>SetPayment</td>\n",
       "      <td>2023-01-01 10:13:14.230</td>\n",
       "      <td>2023-01-01 10:13:15.697</td>\n",
       "      <td>467</td>\n",
       "    </tr>\n",
       "    <tr>\n",
       "      <th>2</th>\n",
       "      <td>SetPayment</td>\n",
       "      <td>2023-01-01 10:26:05.460</td>\n",
       "      <td>2023-01-01 10:26:06.410</td>\n",
       "      <td>950</td>\n",
       "    </tr>\n",
       "    <tr>\n",
       "      <th>3</th>\n",
       "      <td>GetPaymentMethods</td>\n",
       "      <td>2023-01-01 10:38:56.690</td>\n",
       "      <td>2023-01-01 10:38:57.057</td>\n",
       "      <td>367</td>\n",
       "    </tr>\n",
       "    <tr>\n",
       "      <th>4</th>\n",
       "      <td>SetDeliveryAddress</td>\n",
       "      <td>2023-01-01 10:51:47.920</td>\n",
       "      <td>2023-01-01 10:51:48.620</td>\n",
       "      <td>700</td>\n",
       "    </tr>\n",
       "    <tr>\n",
       "      <th>...</th>\n",
       "      <td>...</td>\n",
       "      <td>...</td>\n",
       "      <td>...</td>\n",
       "      <td>...</td>\n",
       "    </tr>\n",
       "    <tr>\n",
       "      <th>9994</th>\n",
       "      <td>ModifyItem</td>\n",
       "      <td>2023-03-31 15:01:35.621</td>\n",
       "      <td>2023-03-31 15:01:38.387</td>\n",
       "      <td>766</td>\n",
       "    </tr>\n",
       "    <tr>\n",
       "      <th>9995</th>\n",
       "      <td>SetDeliveryAddress</td>\n",
       "      <td>2023-03-31 15:14:26.851</td>\n",
       "      <td>2023-03-31 15:14:27.284</td>\n",
       "      <td>433</td>\n",
       "    </tr>\n",
       "    <tr>\n",
       "      <th>9996</th>\n",
       "      <td>SetPayment</td>\n",
       "      <td>2023-03-31 15:27:18.081</td>\n",
       "      <td>2023-03-31 15:27:19.331</td>\n",
       "      <td>250</td>\n",
       "    </tr>\n",
       "    <tr>\n",
       "      <th>9997</th>\n",
       "      <td>SetDeliveryAddress</td>\n",
       "      <td>2023-03-31 15:40:09.311</td>\n",
       "      <td>2023-03-31 15:40:09.861</td>\n",
       "      <td>550</td>\n",
       "    </tr>\n",
       "    <tr>\n",
       "      <th>9998</th>\n",
       "      <td>ModifyItem</td>\n",
       "      <td>2023-03-31 15:53:00.541</td>\n",
       "      <td>2023-03-31 15:53:01.857</td>\n",
       "      <td>316</td>\n",
       "    </tr>\n",
       "  </tbody>\n",
       "</table>\n",
       "<p>9885 rows × 4 columns</p>\n",
       "</div>"
      ],
      "text/plain": [
       "               operation            request_time           response_time  \\\n",
       "0        GetTrackingData 2023-01-01 10:00:23.000 2023-01-01 10:00:23.300   \n",
       "1             SetPayment 2023-01-01 10:13:14.230 2023-01-01 10:13:15.697   \n",
       "2             SetPayment 2023-01-01 10:26:05.460 2023-01-01 10:26:06.410   \n",
       "3      GetPaymentMethods 2023-01-01 10:38:56.690 2023-01-01 10:38:57.057   \n",
       "4     SetDeliveryAddress 2023-01-01 10:51:47.920 2023-01-01 10:51:48.620   \n",
       "...                  ...                     ...                     ...   \n",
       "9994          ModifyItem 2023-03-31 15:01:35.621 2023-03-31 15:01:38.387   \n",
       "9995  SetDeliveryAddress 2023-03-31 15:14:26.851 2023-03-31 15:14:27.284   \n",
       "9996          SetPayment 2023-03-31 15:27:18.081 2023-03-31 15:27:19.331   \n",
       "9997  SetDeliveryAddress 2023-03-31 15:40:09.311 2023-03-31 15:40:09.861   \n",
       "9998          ModifyItem 2023-03-31 15:53:00.541 2023-03-31 15:53:01.857   \n",
       "\n",
       "      difference  \n",
       "0            300  \n",
       "1            467  \n",
       "2            950  \n",
       "3            367  \n",
       "4            700  \n",
       "...          ...  \n",
       "9994         766  \n",
       "9995         433  \n",
       "9996         250  \n",
       "9997         550  \n",
       "9998         316  \n",
       "\n",
       "[9885 rows x 4 columns]"
      ]
     },
     "execution_count": 67,
     "metadata": {},
     "output_type": "execute_result"
    }
   ],
   "source": [
    "df[df.difference != 0]"
   ]
  },
  {
   "cell_type": "code",
   "execution_count": 139,
   "id": "8e5c92a8",
   "metadata": {},
   "outputs": [
    {
     "data": {
      "text/html": [
       "<div>\n",
       "<style scoped>\n",
       "    .dataframe tbody tr th:only-of-type {\n",
       "        vertical-align: middle;\n",
       "    }\n",
       "\n",
       "    .dataframe tbody tr th {\n",
       "        vertical-align: top;\n",
       "    }\n",
       "\n",
       "    .dataframe thead th {\n",
       "        text-align: right;\n",
       "    }\n",
       "</style>\n",
       "<table border=\"1\" class=\"dataframe\">\n",
       "  <thead>\n",
       "    <tr style=\"text-align: right;\">\n",
       "      <th></th>\n",
       "      <th>operation</th>\n",
       "      <th>request_time</th>\n",
       "      <th>response_time</th>\n",
       "      <th>difference</th>\n",
       "    </tr>\n",
       "  </thead>\n",
       "  <tbody>\n",
       "  </tbody>\n",
       "</table>\n",
       "</div>"
      ],
      "text/plain": [
       "Empty DataFrame\n",
       "Columns: [operation, request_time, response_time, difference]\n",
       "Index: []"
      ]
     },
     "execution_count": 139,
     "metadata": {},
     "output_type": "execute_result"
    }
   ],
   "source": [
    "df[df.difference < 0]"
   ]
  },
  {
   "cell_type": "code",
   "execution_count": 141,
   "id": "b3a83282",
   "metadata": {},
   "outputs": [
    {
     "data": {
      "text/html": [
       "<div>\n",
       "<style scoped>\n",
       "    .dataframe tbody tr th:only-of-type {\n",
       "        vertical-align: middle;\n",
       "    }\n",
       "\n",
       "    .dataframe tbody tr th {\n",
       "        vertical-align: top;\n",
       "    }\n",
       "\n",
       "    .dataframe thead th {\n",
       "        text-align: right;\n",
       "    }\n",
       "</style>\n",
       "<table border=\"1\" class=\"dataframe\">\n",
       "  <thead>\n",
       "    <tr style=\"text-align: right;\">\n",
       "      <th></th>\n",
       "      <th>operation</th>\n",
       "      <th>request_time</th>\n",
       "      <th>response_time</th>\n",
       "      <th>difference</th>\n",
       "    </tr>\n",
       "  </thead>\n",
       "  <tbody>\n",
       "    <tr>\n",
       "      <th>2</th>\n",
       "      <td>SetPayment</td>\n",
       "      <td>2023-01-01 10:26:05.460</td>\n",
       "      <td>2023-01-01 10:26:06.410</td>\n",
       "      <td>950</td>\n",
       "    </tr>\n",
       "    <tr>\n",
       "      <th>4</th>\n",
       "      <td>SetDeliveryAddress</td>\n",
       "      <td>2023-01-01 10:51:47.920</td>\n",
       "      <td>2023-01-01 10:51:48.620</td>\n",
       "      <td>700</td>\n",
       "    </tr>\n",
       "    <tr>\n",
       "      <th>13</th>\n",
       "      <td>SetPayment</td>\n",
       "      <td>2023-01-01 12:47:28.990</td>\n",
       "      <td>2023-01-01 12:47:29.557</td>\n",
       "      <td>567</td>\n",
       "    </tr>\n",
       "    <tr>\n",
       "      <th>14</th>\n",
       "      <td>GetPaymentMethods</td>\n",
       "      <td>2023-01-01 13:00:20.220</td>\n",
       "      <td>2023-01-01 13:00:21.003</td>\n",
       "      <td>783</td>\n",
       "    </tr>\n",
       "    <tr>\n",
       "      <th>21</th>\n",
       "      <td>GetTrackingData</td>\n",
       "      <td>2023-01-01 14:30:18.830</td>\n",
       "      <td>2023-01-01 14:30:19.530</td>\n",
       "      <td>700</td>\n",
       "    </tr>\n",
       "    <tr>\n",
       "      <th>...</th>\n",
       "      <td>...</td>\n",
       "      <td>...</td>\n",
       "      <td>...</td>\n",
       "      <td>...</td>\n",
       "    </tr>\n",
       "    <tr>\n",
       "      <th>9987</th>\n",
       "      <td>GetPaymentList</td>\n",
       "      <td>2023-03-31 13:31:37.011</td>\n",
       "      <td>2023-03-31 13:31:37.577</td>\n",
       "      <td>566</td>\n",
       "    </tr>\n",
       "    <tr>\n",
       "      <th>9988</th>\n",
       "      <td>GetItem</td>\n",
       "      <td>2023-03-31 13:44:28.241</td>\n",
       "      <td>2023-03-31 13:44:28.924</td>\n",
       "      <td>683</td>\n",
       "    </tr>\n",
       "    <tr>\n",
       "      <th>9993</th>\n",
       "      <td>SetPayment</td>\n",
       "      <td>2023-03-31 14:48:44.391</td>\n",
       "      <td>2023-03-31 14:48:45.357</td>\n",
       "      <td>966</td>\n",
       "    </tr>\n",
       "    <tr>\n",
       "      <th>9994</th>\n",
       "      <td>ModifyItem</td>\n",
       "      <td>2023-03-31 15:01:35.621</td>\n",
       "      <td>2023-03-31 15:01:38.387</td>\n",
       "      <td>766</td>\n",
       "    </tr>\n",
       "    <tr>\n",
       "      <th>9997</th>\n",
       "      <td>SetDeliveryAddress</td>\n",
       "      <td>2023-03-31 15:40:09.311</td>\n",
       "      <td>2023-03-31 15:40:09.861</td>\n",
       "      <td>550</td>\n",
       "    </tr>\n",
       "  </tbody>\n",
       "</table>\n",
       "<p>3969 rows × 4 columns</p>\n",
       "</div>"
      ],
      "text/plain": [
       "               operation            request_time           response_time  \\\n",
       "2             SetPayment 2023-01-01 10:26:05.460 2023-01-01 10:26:06.410   \n",
       "4     SetDeliveryAddress 2023-01-01 10:51:47.920 2023-01-01 10:51:48.620   \n",
       "13            SetPayment 2023-01-01 12:47:28.990 2023-01-01 12:47:29.557   \n",
       "14     GetPaymentMethods 2023-01-01 13:00:20.220 2023-01-01 13:00:21.003   \n",
       "21       GetTrackingData 2023-01-01 14:30:18.830 2023-01-01 14:30:19.530   \n",
       "...                  ...                     ...                     ...   \n",
       "9987      GetPaymentList 2023-03-31 13:31:37.011 2023-03-31 13:31:37.577   \n",
       "9988             GetItem 2023-03-31 13:44:28.241 2023-03-31 13:44:28.924   \n",
       "9993          SetPayment 2023-03-31 14:48:44.391 2023-03-31 14:48:45.357   \n",
       "9994          ModifyItem 2023-03-31 15:01:35.621 2023-03-31 15:01:38.387   \n",
       "9997  SetDeliveryAddress 2023-03-31 15:40:09.311 2023-03-31 15:40:09.861   \n",
       "\n",
       "      difference  \n",
       "2            950  \n",
       "4            700  \n",
       "13           567  \n",
       "14           783  \n",
       "21           700  \n",
       "...          ...  \n",
       "9987         566  \n",
       "9988         683  \n",
       "9993         966  \n",
       "9994         766  \n",
       "9997         550  \n",
       "\n",
       "[3969 rows x 4 columns]"
      ]
     },
     "execution_count": 141,
     "metadata": {},
     "output_type": "execute_result"
    }
   ],
   "source": [
    "df[df.difference > 500]"
   ]
  },
  {
   "cell_type": "code",
   "execution_count": 73,
   "id": "327e0e30",
   "metadata": {},
   "outputs": [],
   "source": [
    "import seaborn as sns\n",
    "import matplotlib.pyplot as plt\n",
    "\n",
    "%matplotlib inline"
   ]
  },
  {
   "cell_type": "code",
   "execution_count": 69,
   "id": "e2fbf8ab",
   "metadata": {},
   "outputs": [
    {
     "data": {
      "text/plain": [
       "count    9990.00000\n",
       "mean      435.86967\n",
       "std       269.92872\n",
       "min         0.00000\n",
       "25%       200.00000\n",
       "50%       417.00000\n",
       "75%       634.00000\n",
       "max       984.00000\n",
       "Name: difference, dtype: float64"
      ]
     },
     "execution_count": 69,
     "metadata": {},
     "output_type": "execute_result"
    }
   ],
   "source": [
    "df.difference.describe()"
   ]
  },
  {
   "cell_type": "code",
   "execution_count": 78,
   "id": "80404d18",
   "metadata": {},
   "outputs": [
    {
     "data": {
      "text/html": [
       "<div>\n",
       "<style scoped>\n",
       "    .dataframe tbody tr th:only-of-type {\n",
       "        vertical-align: middle;\n",
       "    }\n",
       "\n",
       "    .dataframe tbody tr th {\n",
       "        vertical-align: top;\n",
       "    }\n",
       "\n",
       "    .dataframe thead th {\n",
       "        text-align: right;\n",
       "    }\n",
       "</style>\n",
       "<table border=\"1\" class=\"dataframe\">\n",
       "  <thead>\n",
       "    <tr style=\"text-align: right;\">\n",
       "      <th></th>\n",
       "      <th>operation</th>\n",
       "      <th>request_time</th>\n",
       "      <th>response_time</th>\n",
       "      <th>difference</th>\n",
       "    </tr>\n",
       "  </thead>\n",
       "  <tbody>\n",
       "  </tbody>\n",
       "</table>\n",
       "</div>"
      ],
      "text/plain": [
       "Empty DataFrame\n",
       "Columns: [operation, request_time, response_time, difference]\n",
       "Index: []"
      ]
     },
     "execution_count": 78,
     "metadata": {},
     "output_type": "execute_result"
    }
   ],
   "source": [
    "df[df.difference < 0 ]"
   ]
  },
  {
   "cell_type": "code",
   "execution_count": 83,
   "id": "49243045",
   "metadata": {},
   "outputs": [],
   "source": [
    "df['minute'] = df.difference / 1000"
   ]
  },
  {
   "cell_type": "code",
   "execution_count": 86,
   "id": "b955a7a4",
   "metadata": {},
   "outputs": [
    {
     "data": {
      "text/html": [
       "<div>\n",
       "<style scoped>\n",
       "    .dataframe tbody tr th:only-of-type {\n",
       "        vertical-align: middle;\n",
       "    }\n",
       "\n",
       "    .dataframe tbody tr th {\n",
       "        vertical-align: top;\n",
       "    }\n",
       "\n",
       "    .dataframe thead th {\n",
       "        text-align: right;\n",
       "    }\n",
       "</style>\n",
       "<table border=\"1\" class=\"dataframe\">\n",
       "  <thead>\n",
       "    <tr style=\"text-align: right;\">\n",
       "      <th></th>\n",
       "      <th>operation</th>\n",
       "      <th>request_time</th>\n",
       "      <th>response_time</th>\n",
       "      <th>difference</th>\n",
       "      <th>minute</th>\n",
       "    </tr>\n",
       "  </thead>\n",
       "  <tbody>\n",
       "    <tr>\n",
       "      <th>0</th>\n",
       "      <td>GetTrackingData</td>\n",
       "      <td>2023-01-01 10:00:23.000</td>\n",
       "      <td>2023-01-01 10:00:23.300</td>\n",
       "      <td>300</td>\n",
       "      <td>0.300</td>\n",
       "    </tr>\n",
       "    <tr>\n",
       "      <th>1</th>\n",
       "      <td>SetPayment</td>\n",
       "      <td>2023-01-01 10:13:14.230</td>\n",
       "      <td>2023-01-01 10:13:15.697</td>\n",
       "      <td>467</td>\n",
       "      <td>0.467</td>\n",
       "    </tr>\n",
       "    <tr>\n",
       "      <th>2</th>\n",
       "      <td>SetPayment</td>\n",
       "      <td>2023-01-01 10:26:05.460</td>\n",
       "      <td>2023-01-01 10:26:06.410</td>\n",
       "      <td>950</td>\n",
       "      <td>0.950</td>\n",
       "    </tr>\n",
       "    <tr>\n",
       "      <th>3</th>\n",
       "      <td>GetPaymentMethods</td>\n",
       "      <td>2023-01-01 10:38:56.690</td>\n",
       "      <td>2023-01-01 10:38:57.057</td>\n",
       "      <td>367</td>\n",
       "      <td>0.367</td>\n",
       "    </tr>\n",
       "    <tr>\n",
       "      <th>4</th>\n",
       "      <td>SetDeliveryAddress</td>\n",
       "      <td>2023-01-01 10:51:47.920</td>\n",
       "      <td>2023-01-01 10:51:48.620</td>\n",
       "      <td>700</td>\n",
       "      <td>0.700</td>\n",
       "    </tr>\n",
       "    <tr>\n",
       "      <th>...</th>\n",
       "      <td>...</td>\n",
       "      <td>...</td>\n",
       "      <td>...</td>\n",
       "      <td>...</td>\n",
       "      <td>...</td>\n",
       "    </tr>\n",
       "    <tr>\n",
       "      <th>9994</th>\n",
       "      <td>ModifyItem</td>\n",
       "      <td>2023-03-31 15:01:35.621</td>\n",
       "      <td>2023-03-31 15:01:38.387</td>\n",
       "      <td>766</td>\n",
       "      <td>0.766</td>\n",
       "    </tr>\n",
       "    <tr>\n",
       "      <th>9995</th>\n",
       "      <td>SetDeliveryAddress</td>\n",
       "      <td>2023-03-31 15:14:26.851</td>\n",
       "      <td>2023-03-31 15:14:27.284</td>\n",
       "      <td>433</td>\n",
       "      <td>0.433</td>\n",
       "    </tr>\n",
       "    <tr>\n",
       "      <th>9996</th>\n",
       "      <td>SetPayment</td>\n",
       "      <td>2023-03-31 15:27:18.081</td>\n",
       "      <td>2023-03-31 15:27:19.331</td>\n",
       "      <td>250</td>\n",
       "      <td>0.250</td>\n",
       "    </tr>\n",
       "    <tr>\n",
       "      <th>9997</th>\n",
       "      <td>SetDeliveryAddress</td>\n",
       "      <td>2023-03-31 15:40:09.311</td>\n",
       "      <td>2023-03-31 15:40:09.861</td>\n",
       "      <td>550</td>\n",
       "      <td>0.550</td>\n",
       "    </tr>\n",
       "    <tr>\n",
       "      <th>9998</th>\n",
       "      <td>ModifyItem</td>\n",
       "      <td>2023-03-31 15:53:00.541</td>\n",
       "      <td>2023-03-31 15:53:01.857</td>\n",
       "      <td>316</td>\n",
       "      <td>0.316</td>\n",
       "    </tr>\n",
       "  </tbody>\n",
       "</table>\n",
       "<p>9885 rows × 5 columns</p>\n",
       "</div>"
      ],
      "text/plain": [
       "               operation            request_time           response_time  \\\n",
       "0        GetTrackingData 2023-01-01 10:00:23.000 2023-01-01 10:00:23.300   \n",
       "1             SetPayment 2023-01-01 10:13:14.230 2023-01-01 10:13:15.697   \n",
       "2             SetPayment 2023-01-01 10:26:05.460 2023-01-01 10:26:06.410   \n",
       "3      GetPaymentMethods 2023-01-01 10:38:56.690 2023-01-01 10:38:57.057   \n",
       "4     SetDeliveryAddress 2023-01-01 10:51:47.920 2023-01-01 10:51:48.620   \n",
       "...                  ...                     ...                     ...   \n",
       "9994          ModifyItem 2023-03-31 15:01:35.621 2023-03-31 15:01:38.387   \n",
       "9995  SetDeliveryAddress 2023-03-31 15:14:26.851 2023-03-31 15:14:27.284   \n",
       "9996          SetPayment 2023-03-31 15:27:18.081 2023-03-31 15:27:19.331   \n",
       "9997  SetDeliveryAddress 2023-03-31 15:40:09.311 2023-03-31 15:40:09.861   \n",
       "9998          ModifyItem 2023-03-31 15:53:00.541 2023-03-31 15:53:01.857   \n",
       "\n",
       "      difference  minute  \n",
       "0            300   0.300  \n",
       "1            467   0.467  \n",
       "2            950   0.950  \n",
       "3            367   0.367  \n",
       "4            700   0.700  \n",
       "...          ...     ...  \n",
       "9994         766   0.766  \n",
       "9995         433   0.433  \n",
       "9996         250   0.250  \n",
       "9997         550   0.550  \n",
       "9998         316   0.316  \n",
       "\n",
       "[9885 rows x 5 columns]"
      ]
     },
     "execution_count": 86,
     "metadata": {},
     "output_type": "execute_result"
    }
   ],
   "source": [
    "df[df.minute > 0]"
   ]
  },
  {
   "cell_type": "code",
   "execution_count": 82,
   "id": "e3273fd0",
   "metadata": {},
   "outputs": [],
   "source": [
    "# note more than 2 mins"
   ]
  },
  {
   "cell_type": "code",
   "execution_count": 153,
   "id": "e11817ff",
   "metadata": {},
   "outputs": [],
   "source": [
    "c = list(df.operation.unique())"
   ]
  },
  {
   "cell_type": "code",
   "execution_count": 157,
   "id": "6cf9f3bb",
   "metadata": {
    "collapsed": true
   },
   "outputs": [
    {
     "ename": "ValueError",
     "evalue": "('Lengths must match to compare', (9990,), (14,))",
     "output_type": "error",
     "traceback": [
      "\u001b[0;31m---------------------------------------------------------------------------\u001b[0m",
      "\u001b[0;31mValueError\u001b[0m                                Traceback (most recent call last)",
      "\u001b[0;32m/tmp/ipykernel_55853/3980251234.py\u001b[0m in \u001b[0;36m<module>\u001b[0;34m\u001b[0m\n\u001b[0;32m----> 1\u001b[0;31m \u001b[0mdf\u001b[0m\u001b[0;34m[\u001b[0m\u001b[0mdf\u001b[0m\u001b[0;34m.\u001b[0m\u001b[0moperation\u001b[0m \u001b[0;34m==\u001b[0m \u001b[0mc\u001b[0m\u001b[0;34m]\u001b[0m\u001b[0;34m\u001b[0m\u001b[0;34m\u001b[0m\u001b[0m\n\u001b[0m",
      "\u001b[0;32m~/anaconda3/lib/python3.9/site-packages/pandas/core/ops/common.py\u001b[0m in \u001b[0;36mnew_method\u001b[0;34m(self, other)\u001b[0m\n\u001b[1;32m     68\u001b[0m         \u001b[0mother\u001b[0m \u001b[0;34m=\u001b[0m \u001b[0mitem_from_zerodim\u001b[0m\u001b[0;34m(\u001b[0m\u001b[0mother\u001b[0m\u001b[0;34m)\u001b[0m\u001b[0;34m\u001b[0m\u001b[0;34m\u001b[0m\u001b[0m\n\u001b[1;32m     69\u001b[0m \u001b[0;34m\u001b[0m\u001b[0m\n\u001b[0;32m---> 70\u001b[0;31m         \u001b[0;32mreturn\u001b[0m \u001b[0mmethod\u001b[0m\u001b[0;34m(\u001b[0m\u001b[0mself\u001b[0m\u001b[0;34m,\u001b[0m \u001b[0mother\u001b[0m\u001b[0;34m)\u001b[0m\u001b[0;34m\u001b[0m\u001b[0;34m\u001b[0m\u001b[0m\n\u001b[0m\u001b[1;32m     71\u001b[0m \u001b[0;34m\u001b[0m\u001b[0m\n\u001b[1;32m     72\u001b[0m     \u001b[0;32mreturn\u001b[0m \u001b[0mnew_method\u001b[0m\u001b[0;34m\u001b[0m\u001b[0;34m\u001b[0m\u001b[0m\n",
      "\u001b[0;32m~/anaconda3/lib/python3.9/site-packages/pandas/core/arraylike.py\u001b[0m in \u001b[0;36m__eq__\u001b[0;34m(self, other)\u001b[0m\n\u001b[1;32m     38\u001b[0m     \u001b[0;34m@\u001b[0m\u001b[0munpack_zerodim_and_defer\u001b[0m\u001b[0;34m(\u001b[0m\u001b[0;34m\"__eq__\"\u001b[0m\u001b[0;34m)\u001b[0m\u001b[0;34m\u001b[0m\u001b[0;34m\u001b[0m\u001b[0m\n\u001b[1;32m     39\u001b[0m     \u001b[0;32mdef\u001b[0m \u001b[0m__eq__\u001b[0m\u001b[0;34m(\u001b[0m\u001b[0mself\u001b[0m\u001b[0;34m,\u001b[0m \u001b[0mother\u001b[0m\u001b[0;34m)\u001b[0m\u001b[0;34m:\u001b[0m\u001b[0;34m\u001b[0m\u001b[0;34m\u001b[0m\u001b[0m\n\u001b[0;32m---> 40\u001b[0;31m         \u001b[0;32mreturn\u001b[0m \u001b[0mself\u001b[0m\u001b[0;34m.\u001b[0m\u001b[0m_cmp_method\u001b[0m\u001b[0;34m(\u001b[0m\u001b[0mother\u001b[0m\u001b[0;34m,\u001b[0m \u001b[0moperator\u001b[0m\u001b[0;34m.\u001b[0m\u001b[0meq\u001b[0m\u001b[0;34m)\u001b[0m\u001b[0;34m\u001b[0m\u001b[0;34m\u001b[0m\u001b[0m\n\u001b[0m\u001b[1;32m     41\u001b[0m \u001b[0;34m\u001b[0m\u001b[0m\n\u001b[1;32m     42\u001b[0m     \u001b[0;34m@\u001b[0m\u001b[0munpack_zerodim_and_defer\u001b[0m\u001b[0;34m(\u001b[0m\u001b[0;34m\"__ne__\"\u001b[0m\u001b[0;34m)\u001b[0m\u001b[0;34m\u001b[0m\u001b[0;34m\u001b[0m\u001b[0m\n",
      "\u001b[0;32m~/anaconda3/lib/python3.9/site-packages/pandas/core/series.py\u001b[0m in \u001b[0;36m_cmp_method\u001b[0;34m(self, other, op)\u001b[0m\n\u001b[1;32m   5621\u001b[0m \u001b[0;34m\u001b[0m\u001b[0m\n\u001b[1;32m   5622\u001b[0m         \u001b[0;32mwith\u001b[0m \u001b[0mnp\u001b[0m\u001b[0;34m.\u001b[0m\u001b[0merrstate\u001b[0m\u001b[0;34m(\u001b[0m\u001b[0mall\u001b[0m\u001b[0;34m=\u001b[0m\u001b[0;34m\"ignore\"\u001b[0m\u001b[0;34m)\u001b[0m\u001b[0;34m:\u001b[0m\u001b[0;34m\u001b[0m\u001b[0;34m\u001b[0m\u001b[0m\n\u001b[0;32m-> 5623\u001b[0;31m             \u001b[0mres_values\u001b[0m \u001b[0;34m=\u001b[0m \u001b[0mops\u001b[0m\u001b[0;34m.\u001b[0m\u001b[0mcomparison_op\u001b[0m\u001b[0;34m(\u001b[0m\u001b[0mlvalues\u001b[0m\u001b[0;34m,\u001b[0m \u001b[0mrvalues\u001b[0m\u001b[0;34m,\u001b[0m \u001b[0mop\u001b[0m\u001b[0;34m)\u001b[0m\u001b[0;34m\u001b[0m\u001b[0;34m\u001b[0m\u001b[0m\n\u001b[0m\u001b[1;32m   5624\u001b[0m \u001b[0;34m\u001b[0m\u001b[0m\n\u001b[1;32m   5625\u001b[0m         \u001b[0;32mreturn\u001b[0m \u001b[0mself\u001b[0m\u001b[0;34m.\u001b[0m\u001b[0m_construct_result\u001b[0m\u001b[0;34m(\u001b[0m\u001b[0mres_values\u001b[0m\u001b[0;34m,\u001b[0m \u001b[0mname\u001b[0m\u001b[0;34m=\u001b[0m\u001b[0mres_name\u001b[0m\u001b[0;34m)\u001b[0m\u001b[0;34m\u001b[0m\u001b[0;34m\u001b[0m\u001b[0m\n",
      "\u001b[0;32m~/anaconda3/lib/python3.9/site-packages/pandas/core/ops/array_ops.py\u001b[0m in \u001b[0;36mcomparison_op\u001b[0;34m(left, right, op)\u001b[0m\n\u001b[1;32m    258\u001b[0m         \u001b[0;31m#  The ambiguous case is object-dtype.  See GH#27803\u001b[0m\u001b[0;34m\u001b[0m\u001b[0;34m\u001b[0m\u001b[0m\n\u001b[1;32m    259\u001b[0m         \u001b[0;32mif\u001b[0m \u001b[0mlen\u001b[0m\u001b[0;34m(\u001b[0m\u001b[0mlvalues\u001b[0m\u001b[0;34m)\u001b[0m \u001b[0;34m!=\u001b[0m \u001b[0mlen\u001b[0m\u001b[0;34m(\u001b[0m\u001b[0mrvalues\u001b[0m\u001b[0;34m)\u001b[0m\u001b[0;34m:\u001b[0m\u001b[0;34m\u001b[0m\u001b[0;34m\u001b[0m\u001b[0m\n\u001b[0;32m--> 260\u001b[0;31m             raise ValueError(\n\u001b[0m\u001b[1;32m    261\u001b[0m                 \u001b[0;34m\"Lengths must match to compare\"\u001b[0m\u001b[0;34m,\u001b[0m \u001b[0mlvalues\u001b[0m\u001b[0;34m.\u001b[0m\u001b[0mshape\u001b[0m\u001b[0;34m,\u001b[0m \u001b[0mrvalues\u001b[0m\u001b[0;34m.\u001b[0m\u001b[0mshape\u001b[0m\u001b[0;34m\u001b[0m\u001b[0;34m\u001b[0m\u001b[0m\n\u001b[1;32m    262\u001b[0m             )\n",
      "\u001b[0;31mValueError\u001b[0m: ('Lengths must match to compare', (9990,), (14,))"
     ]
    }
   ],
   "source": [
    "df[df.operation == c]"
   ]
  },
  {
   "cell_type": "code",
   "execution_count": 164,
   "id": "2edd6727",
   "metadata": {
    "scrolled": true
   },
   "outputs": [
    {
     "name": "stdout",
     "output_type": "stream",
     "text": [
      "\n",
      " GetTrackingData \n",
      "\n",
      "count    739.000000\n",
      "mean     417.692828\n",
      "std      271.585995\n",
      "min        0.000000\n",
      "25%      183.000000\n",
      "50%      400.000000\n",
      "75%      617.000000\n",
      "max      984.000000\n",
      "Name: difference, dtype: float64\n"
     ]
    },
    {
     "data": {
      "image/png": "[encoded data removed]",
      "text/plain": [
       "<Figure size 640x480 with 1 Axes>"
      ]
     },
     "metadata": {},
     "output_type": "display_data"
    },
    {
     "name": "stdout",
     "output_type": "stream",
     "text": [
      "\n",
      " SetPayment \n",
      "\n",
      "count    689.000000\n",
      "mean     430.718433\n",
      "std      267.041564\n",
      "min        0.000000\n",
      "25%      200.000000\n",
      "50%      416.000000\n",
      "75%      633.000000\n",
      "max      984.000000\n",
      "Name: difference, dtype: float64\n"
     ]
    },
    {
     "data": {
      "image/png": "[encoded data removed]",
      "text/plain": [
       "<Figure size 640x480 with 1 Axes>"
      ]
     },
     "metadata": {},
     "output_type": "display_data"
    },
    {
     "name": "stdout",
     "output_type": "stream",
     "text": [
      "\n",
      " GetPaymentMethods \n",
      "\n",
      "count    785.000000\n",
      "mean     424.828025\n",
      "std      263.925584\n",
      "min        0.000000\n",
      "25%      200.000000\n",
      "50%      417.000000\n",
      "75%      617.000000\n",
      "max      984.000000\n",
      "Name: difference, dtype: float64\n"
     ]
    },
    {
     "data": {
      "image/png": "[encoded data removed]",
      "text/plain": [
       "<Figure size 640x480 with 1 Axes>"
      ]
     },
     "metadata": {},
     "output_type": "display_data"
    },
    {
     "name": "stdout",
     "output_type": "stream",
     "text": [
      "\n",
      " SetDeliveryAddress \n",
      "\n",
      "count    664.000000\n",
      "mean     427.545181\n",
      "std      258.453116\n",
      "min        0.000000\n",
      "25%      217.000000\n",
      "50%      416.000000\n",
      "75%      616.250000\n",
      "max      984.000000\n",
      "Name: difference, dtype: float64\n"
     ]
    },
    {
     "data": {
      "image/png": "[encoded data removed]",
      "text/plain": [
       "<Figure size 640x480 with 1 Axes>"
      ]
     },
     "metadata": {},
     "output_type": "display_data"
    },
    {
     "name": "stdout",
     "output_type": "stream",
     "text": [
      "\n",
      " ModifyOrder \n",
      "\n",
      "count    708.000000\n",
      "mean     482.112994\n",
      "std      284.231391\n",
      "min        0.000000\n",
      "25%      246.000000\n",
      "50%      484.000000\n",
      "75%      717.000000\n",
      "max      984.000000\n",
      "Name: difference, dtype: float64\n"
     ]
    },
    {
     "data": {
      "image/png": "[encoded data removed]",
      "text/plain": [
       "<Figure size 640x480 with 1 Axes>"
      ]
     },
     "metadata": {},
     "output_type": "display_data"
    },
    {
     "name": "stdout",
     "output_type": "stream",
     "text": [
      "\n",
      " GetItem \n",
      "\n",
      "count    735.000000\n",
      "mean     430.065306\n",
      "std      271.387230\n",
      "min        0.000000\n",
      "25%      200.000000\n",
      "50%      400.000000\n",
      "75%      633.000000\n",
      "max      984.000000\n",
      "Name: difference, dtype: float64\n"
     ]
    },
    {
     "data": {
      "image/png": "[encoded data removed]",
      "text/plain": [
       "<Figure size 640x480 with 1 Axes>"
      ]
     },
     "metadata": {},
     "output_type": "display_data"
    },
    {
     "name": "stdout",
     "output_type": "stream",
     "text": [
      "\n",
      " AddItemToOrder \n",
      "\n",
      "count    698.000000\n",
      "mean     416.110315\n",
      "std      266.643805\n",
      "min        0.000000\n",
      "25%      183.000000\n",
      "50%      400.000000\n",
      "75%      612.000000\n",
      "max      984.000000\n",
      "Name: difference, dtype: float64\n"
     ]
    },
    {
     "data": {
      "image/png": "[encoded data removed]",
      "text/plain": [
       "<Figure size 640x480 with 1 Axes>"
      ]
     },
     "metadata": {},
     "output_type": "display_data"
    },
    {
     "name": "stdout",
     "output_type": "stream",
     "text": [
      "\n",
      " ModifyItem \n",
      "\n",
      "count    732.000000\n",
      "mean     484.419399\n",
      "std      286.997205\n",
      "min        0.000000\n",
      "25%      233.000000\n",
      "50%      484.000000\n",
      "75%      733.000000\n",
      "max      984.000000\n",
      "Name: difference, dtype: float64\n"
     ]
    },
    {
     "data": {
      "image/png": "[encoded data removed]",
      "text/plain": [
       "<Figure size 640x480 with 1 Axes>"
      ]
     },
     "metadata": {},
     "output_type": "display_data"
    },
    {
     "name": "stdout",
     "output_type": "stream",
     "text": [
      "\n",
      " GetOrder \n",
      "\n",
      "count    727.000000\n",
      "mean     430.863824\n",
      "std      271.095303\n",
      "min        0.000000\n",
      "25%      200.000000\n",
      "50%      416.000000\n",
      "75%      617.000000\n",
      "max      984.000000\n",
      "Name: difference, dtype: float64\n"
     ]
    },
    {
     "data": {
      "image/png": "[encoded data removed]",
      "text/plain": [
       "<Figure size 640x480 with 1 Axes>"
      ]
     },
     "metadata": {},
     "output_type": "display_data"
    },
    {
     "name": "stdout",
     "output_type": "stream",
     "text": [
      "\n",
      " GetOrderList \n",
      "\n",
      "count    738.000000\n",
      "mean     424.672087\n",
      "std      255.550165\n",
      "min        0.000000\n",
      "25%      216.000000\n",
      "50%      400.000000\n",
      "75%      617.000000\n",
      "max      984.000000\n",
      "Name: difference, dtype: float64\n"
     ]
    },
    {
     "data": {
      "image/png": "[encoded data removed]",
      "text/plain": [
       "<Figure size 640x480 with 1 Axes>"
      ]
     },
     "metadata": {},
     "output_type": "display_data"
    },
    {
     "name": "stdout",
     "output_type": "stream",
     "text": [
      "\n",
      " GetItemList \n",
      "\n",
      "count    649.000000\n",
      "mean     438.802773\n",
      "std      266.538444\n",
      "min        0.000000\n",
      "25%      217.000000\n",
      "50%      417.000000\n",
      "75%      633.000000\n",
      "max      984.000000\n",
      "Name: difference, dtype: float64\n"
     ]
    },
    {
     "data": {
      "image/png": "[encoded data removed]",
      "text/plain": [
       "<Figure size 640x480 with 1 Axes>"
      ]
     },
     "metadata": {},
     "output_type": "display_data"
    },
    {
     "name": "stdout",
     "output_type": "stream",
     "text": [
      "\n",
      " SendNotification \n",
      "\n",
      "count    711.000000\n",
      "mean     435.618847\n",
      "std      264.947052\n",
      "min        0.000000\n",
      "25%      200.000000\n",
      "50%      433.000000\n",
      "75%      650.000000\n",
      "max      984.000000\n",
      "Name: difference, dtype: float64\n"
     ]
    },
    {
     "data": {
      "image/png": "[encoded data removed]",
      "text/plain": [
       "<Figure size 640x480 with 1 Axes>"
      ]
     },
     "metadata": {},
     "output_type": "display_data"
    },
    {
     "name": "stdout",
     "output_type": "stream",
     "text": [
      "\n",
      " GetPaymentList \n",
      "\n",
      "count    682.000000\n",
      "mean     437.722874\n",
      "std      266.875043\n",
      "min        0.000000\n",
      "25%      200.000000\n",
      "50%      417.000000\n",
      "75%      634.000000\n",
      "max      984.000000\n",
      "Name: difference, dtype: float64\n"
     ]
    },
    {
     "data": {
      "image/png": "[encoded data removed]",
      "text/plain": [
       "<Figure size 640x480 with 1 Axes>"
      ]
     },
     "metadata": {},
     "output_type": "display_data"
    },
    {
     "name": "stdout",
     "output_type": "stream",
     "text": [
      "\n",
      " Login \n",
      "\n",
      "count    733.000000\n",
      "mean     422.050477\n",
      "std      272.643458\n",
      "min        0.000000\n",
      "25%      167.000000\n",
      "50%      416.000000\n",
      "75%      633.000000\n",
      "max      984.000000\n",
      "Name: difference, dtype: float64\n"
     ]
    },
    {
     "data": {
      "image/png": "[encoded data removed]",
      "text/plain": [
       "<Figure size 640x480 with 1 Axes>"
      ]
     },
     "metadata": {},
     "output_type": "display_data"
    }
   ],
   "source": [
    "for i in c:\n",
    "  print(\"\\n\", i, \"\\n\")\n",
    "  \n",
    "  d = df[df.operation == i]\n",
    "  print(d.difference.describe())\n",
    "  plt.hist(d.difference, bins=50)\n",
    "  plt.show()"
   ]
  },
  {
   "cell_type": "code",
   "execution_count": 163,
   "id": "08a06585",
   "metadata": {},
   "outputs": [
    {
     "data": {
      "text/plain": [
       "<AxesSubplot:xlabel='difference', ylabel='operation'>"
      ]
     },
     "execution_count": 163,
     "metadata": {},
     "output_type": "execute_result"
    },
    {
     "data": {
      "image/png": "[encoded data removed]",
      "text/plain": [
       "<Figure size 640x480 with 1 Axes>"
      ]
     },
     "metadata": {},
     "output_type": "display_data"
    }
   ],
   "source": [
    "sns.boxplot(x=\"difference\", y=\"operation\", data=df)"
   ]
  },
  {
   "cell_type": "code",
   "execution_count": 146,
   "id": "02ef47eb",
   "metadata": {},
   "outputs": [
    {
     "data": {
      "text/plain": [
       "<seaborn.axisgrid.FacetGrid at 0x7f2af7dd4970>"
      ]
     },
     "execution_count": 146,
     "metadata": {},
     "output_type": "execute_result"
    },
    {
     "data": {
      "image/png": "[encoded data removed]",
      "text/plain": [
       "<Figure size 695x500 with 1 Axes>"
      ]
     },
     "metadata": {},
     "output_type": "display_data"
    }
   ],
   "source": [
    "sns.displot(data=df, x=\"difference\", hue=\"operation\")"
   ]
  }
 ],
 "metadata": {
  "kernelspec": {
   "display_name": "Python 3 (ipykernel)",
   "language": "python",
   "name": "python3"
  },
  "language_info": {
   "codemirror_mode": {
    "name": "ipython",
    "version": 3
   },
   "file_extension": ".py",
   "mimetype": "text/x-python",
   "name": "python",
   "nbconvert_exporter": "python",
   "pygments_lexer": "ipython3",
   "version": "3.9.13"
  }
 },
 "nbformat": 4,
 "nbformat_minor": 5
}
