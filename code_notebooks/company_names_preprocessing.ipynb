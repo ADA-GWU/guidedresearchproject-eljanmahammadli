{
 "cells": [
  {
   "cell_type": "markdown",
   "id": "d7c2201f",
   "metadata": {},
   "source": [
    "# Install the requirements"
   ]
  },
  {
   "cell_type": "code",
   "execution_count": 1,
   "id": "b4cd8199",
   "metadata": {},
   "outputs": [
    {
     "name": "stdout",
     "output_type": "stream",
     "text": [
      "Collecting kaggle\n",
      "  Downloading kaggle-1.5.13.tar.gz (63 kB)\n",
      "\u001b[2K     \u001b[38;2;114;156;31m━━━━━━━━━━━━━━━━━━━━━━━━━━━━━━━━━━━━━━━\u001b[0m \u001b[32m63.3/63.3 kB\u001b[0m \u001b[31m366.3 kB/s\u001b[0m eta \u001b[36m0:00:00\u001b[0m1m374.2 kB/s\u001b[0m eta \u001b[36m0:00:01\u001b[0m\n",
      "\u001b[?25h  Preparing metadata (setup.py) ... \u001b[?25ldone\n",
      "\u001b[?25hRequirement already satisfied: six>=1.10 in /home/elcan/anaconda3/lib/python3.9/site-packages (from kaggle) (1.16.0)\n",
      "Requirement already satisfied: certifi in /home/elcan/anaconda3/lib/python3.9/site-packages (from kaggle) (2022.9.14)\n",
      "Requirement already satisfied: python-dateutil in /home/elcan/anaconda3/lib/python3.9/site-packages (from kaggle) (2.8.2)\n",
      "Requirement already satisfied: requests in /home/elcan/anaconda3/lib/python3.9/site-packages (from kaggle) (2.28.1)\n",
      "Requirement already satisfied: tqdm in /home/elcan/anaconda3/lib/python3.9/site-packages (from kaggle) (4.64.1)\n",
      "Requirement already satisfied: python-slugify in /home/elcan/anaconda3/lib/python3.9/site-packages (from kaggle) (5.0.2)\n",
      "Requirement already satisfied: urllib3 in /home/elcan/anaconda3/lib/python3.9/site-packages (from kaggle) (1.26.11)\n",
      "Requirement already satisfied: text-unidecode>=1.3 in /home/elcan/anaconda3/lib/python3.9/site-packages (from python-slugify->kaggle) (1.3)\n",
      "Requirement already satisfied: charset-normalizer<3,>=2 in /home/elcan/anaconda3/lib/python3.9/site-packages (from requests->kaggle) (2.0.4)\n",
      "Requirement already satisfied: idna<4,>=2.5 in /home/elcan/anaconda3/lib/python3.9/site-packages (from requests->kaggle) (3.3)\n",
      "Building wheels for collected packages: kaggle\n",
      "  Building wheel for kaggle (setup.py) ... \u001b[?25ldone\n",
      "\u001b[?25h  Created wheel for kaggle: filename=kaggle-1.5.13-py3-none-any.whl size=77717 sha256=94d4e52e6cb37dcee8d68064824d6ad47c12f504d0cc75f17d380d3634bb1808\n",
      "  Stored in directory: /home/elcan/.cache/pip/wheels/9c/45/15/6d6d116cd2539fb8f450d64b0aee4a480e5366bb11b42ac763\n",
      "Successfully built kaggle\n",
      "Installing collected packages: kaggle\n",
      "Successfully installed kaggle-1.5.13\n"
     ]
    }
   ],
   "source": [
    "!pip install kaggle"
   ]
  },
  {
   "cell_type": "code",
   "execution_count": 2,
   "id": "ea59a73b",
   "metadata": {},
   "outputs": [
    {
     "name": "stdout",
     "output_type": "stream",
     "text": [
      "Collecting python-dotenv\n",
      "  Using cached python_dotenv-1.0.0-py3-none-any.whl (19 kB)\n",
      "Installing collected packages: python-dotenv\n",
      "Successfully installed python-dotenv-1.0.0\n"
     ]
    }
   ],
   "source": [
    "!pip install python-dotenv"
   ]
  },
  {
   "cell_type": "code",
   "execution_count": 1,
   "id": "11e2595c",
   "metadata": {},
   "outputs": [
    {
     "data": {
      "text/plain": [
       "True"
      ]
     },
     "execution_count": 1,
     "metadata": {},
     "output_type": "execute_result"
    }
   ],
   "source": [
    "from os import environ \n",
    "from dotenv import load_dotenv\n",
    "load_dotenv()"
   ]
  },
  {
   "cell_type": "markdown",
   "id": "2c24eeb1",
   "metadata": {},
   "source": [
    "# Download the dataset via Kaggle API"
   ]
  },
  {
   "cell_type": "code",
   "execution_count": 2,
   "id": "6d6e2731",
   "metadata": {},
   "outputs": [
    {
     "data": {
      "text/plain": [
       "'/home/elcan/Downloads/'"
      ]
     },
     "execution_count": 2,
     "metadata": {},
     "output_type": "execute_result"
    }
   ],
   "source": [
    "environ.get(\"KAGGLE_CONFIG_DIR\")"
   ]
  },
  {
   "cell_type": "code",
   "execution_count": 7,
   "id": "7d5d6646",
   "metadata": {},
   "outputs": [
    {
     "name": "stdout",
     "output_type": "stream",
     "text": [
      "Warning: Your Kaggle API key is readable by other users on this system! To fix this, you can run 'chmod 600 /home/elcan/Downloads/kaggle.json'\n",
      "Downloading air-traffic-passenger-statistics.zip to /home/elcan/Documents/GuidedResearchMethods/guidedresearchproject-eljanmahammadli/code_notebooks\n",
      "100%|█████████████████████████████████████████| 402k/402k [00:00<00:00, 565kB/s]\n",
      "100%|█████████████████████████████████████████| 402k/402k [00:00<00:00, 564kB/s]\n"
     ]
    }
   ],
   "source": [
    "!kaggle datasets download -d peopledatalabssf/free-7-million-company-dataset"
   ]
  },
  {
   "cell_type": "code",
   "execution_count": 10,
   "id": "a5d1a3f3",
   "metadata": {},
   "outputs": [],
   "source": [
    "# move the downloaded .zip file to the data/ folder \n",
    "!mv free-7-million-company-dataset.zip ../data/"
   ]
  },
  {
   "cell_type": "code",
   "execution_count": 11,
   "id": "da0f4763",
   "metadata": {},
   "outputs": [],
   "source": [
    "# unzip the filet\n",
    "import zipfile\n",
    "with zipfile.ZipFile('../data/free-7-million-company-dataset.zip', 'r') as zip_ref:\n",
    "    zip_ref.extractall('../data/')"
   ]
  },
  {
   "cell_type": "markdown",
   "id": "73b9e971",
   "metadata": {},
   "source": [
    "# Import the dataset"
   ]
  },
  {
   "cell_type": "code",
   "execution_count": 1,
   "id": "c81302ee",
   "metadata": {},
   "outputs": [],
   "source": [
    "import pandas as pd"
   ]
  },
  {
   "cell_type": "code",
   "execution_count": 2,
   "id": "996231c5",
   "metadata": {},
   "outputs": [],
   "source": [
    "companies = pd.read_csv(\"../data/companies_sorted.csv\")"
   ]
  },
  {
   "cell_type": "code",
   "execution_count": 3,
   "id": "ef70fa5d",
   "metadata": {},
   "outputs": [
    {
     "data": {
      "text/plain": [
       "(7173426, 11)"
      ]
     },
     "execution_count": 3,
     "metadata": {},
     "output_type": "execute_result"
    }
   ],
   "source": [
    "companies.shape"
   ]
  },
  {
   "cell_type": "code",
   "execution_count": 4,
   "id": "2380a0b2",
   "metadata": {},
   "outputs": [
    {
     "data": {
      "text/html": [
       "<div>\n",
       "<style scoped>\n",
       "    .dataframe tbody tr th:only-of-type {\n",
       "        vertical-align: middle;\n",
       "    }\n",
       "\n",
       "    .dataframe tbody tr th {\n",
       "        vertical-align: top;\n",
       "    }\n",
       "\n",
       "    .dataframe thead th {\n",
       "        text-align: right;\n",
       "    }\n",
       "</style>\n",
       "<table border=\"1\" class=\"dataframe\">\n",
       "  <thead>\n",
       "    <tr style=\"text-align: right;\">\n",
       "      <th></th>\n",
       "      <th>Unnamed: 0</th>\n",
       "      <th>name</th>\n",
       "      <th>domain</th>\n",
       "      <th>year founded</th>\n",
       "      <th>industry</th>\n",
       "      <th>size range</th>\n",
       "      <th>locality</th>\n",
       "      <th>country</th>\n",
       "      <th>linkedin url</th>\n",
       "      <th>current employee estimate</th>\n",
       "      <th>total employee estimate</th>\n",
       "    </tr>\n",
       "  </thead>\n",
       "  <tbody>\n",
       "    <tr>\n",
       "      <th>0</th>\n",
       "      <td>5872184</td>\n",
       "      <td>ibm</td>\n",
       "      <td>ibm.com</td>\n",
       "      <td>1911.0</td>\n",
       "      <td>information technology and services</td>\n",
       "      <td>10001+</td>\n",
       "      <td>new york, new york, united states</td>\n",
       "      <td>united states</td>\n",
       "      <td>linkedin.com/company/ibm</td>\n",
       "      <td>274047</td>\n",
       "      <td>716906</td>\n",
       "    </tr>\n",
       "    <tr>\n",
       "      <th>1</th>\n",
       "      <td>4425416</td>\n",
       "      <td>tata consultancy services</td>\n",
       "      <td>tcs.com</td>\n",
       "      <td>1968.0</td>\n",
       "      <td>information technology and services</td>\n",
       "      <td>10001+</td>\n",
       "      <td>bombay, maharashtra, india</td>\n",
       "      <td>india</td>\n",
       "      <td>linkedin.com/company/tata-consultancy-services</td>\n",
       "      <td>190771</td>\n",
       "      <td>341369</td>\n",
       "    </tr>\n",
       "    <tr>\n",
       "      <th>2</th>\n",
       "      <td>21074</td>\n",
       "      <td>accenture</td>\n",
       "      <td>accenture.com</td>\n",
       "      <td>1989.0</td>\n",
       "      <td>information technology and services</td>\n",
       "      <td>10001+</td>\n",
       "      <td>dublin, dublin, ireland</td>\n",
       "      <td>ireland</td>\n",
       "      <td>linkedin.com/company/accenture</td>\n",
       "      <td>190689</td>\n",
       "      <td>455768</td>\n",
       "    </tr>\n",
       "  </tbody>\n",
       "</table>\n",
       "</div>"
      ],
      "text/plain": [
       "   Unnamed: 0                       name         domain  year founded  \\\n",
       "0     5872184                        ibm        ibm.com        1911.0   \n",
       "1     4425416  tata consultancy services        tcs.com        1968.0   \n",
       "2       21074                  accenture  accenture.com        1989.0   \n",
       "\n",
       "                              industry size range  \\\n",
       "0  information technology and services     10001+   \n",
       "1  information technology and services     10001+   \n",
       "2  information technology and services     10001+   \n",
       "\n",
       "                            locality        country  \\\n",
       "0  new york, new york, united states  united states   \n",
       "1         bombay, maharashtra, india          india   \n",
       "2            dublin, dublin, ireland        ireland   \n",
       "\n",
       "                                     linkedin url  current employee estimate  \\\n",
       "0                        linkedin.com/company/ibm                     274047   \n",
       "1  linkedin.com/company/tata-consultancy-services                     190771   \n",
       "2                  linkedin.com/company/accenture                     190689   \n",
       "\n",
       "   total employee estimate  \n",
       "0                   716906  \n",
       "1                   341369  \n",
       "2                   455768  "
      ]
     },
     "execution_count": 4,
     "metadata": {},
     "output_type": "execute_result"
    }
   ],
   "source": [
    "companies.head(3)"
   ]
  },
  {
   "cell_type": "markdown",
   "id": "be066ef4",
   "metadata": {},
   "source": [
    "# Data Cleaning"
   ]
  },
  {
   "cell_type": "code",
   "execution_count": 5,
   "id": "db917f63",
   "metadata": {},
   "outputs": [],
   "source": [
    "# lower and replace the whitespace with underscore\n",
    "companies.columns = companies.columns.str.lower()\n",
    "companies = companies.rename(columns=lambda x: x.replace(' ', '_'))"
   ]
  },
  {
   "cell_type": "code",
   "execution_count": 6,
   "id": "419c9d8c",
   "metadata": {},
   "outputs": [
    {
     "data": {
      "text/plain": [
       "Index(['unnamed:_0', 'name', 'domain', 'year_founded', 'industry',\n",
       "       'size_range', 'locality', 'country', 'linkedin_url',\n",
       "       'current_employee_estimate', 'total_employee_estimate'],\n",
       "      dtype='object')"
      ]
     },
     "execution_count": 6,
     "metadata": {},
     "output_type": "execute_result"
    }
   ],
   "source": [
    "companies.columns"
   ]
  },
  {
   "cell_type": "code",
   "execution_count": 7,
   "id": "46390f40",
   "metadata": {},
   "outputs": [],
   "source": [
    "# dropping redundant columns\n",
    "companies.drop(columns=[\n",
    "  \"unnamed:_0\", \"domain\", \"year_founded\", \"industry\", \"size_range\", \"locality\", \n",
    "  \"linkedin_url\", \"total_employee_estimate\"], axis=1, inplace=True\n",
    "              )"
   ]
  },
  {
   "cell_type": "code",
   "execution_count": 8,
   "id": "61e048f5",
   "metadata": {},
   "outputs": [
    {
     "data": {
      "text/plain": [
       "3"
      ]
     },
     "execution_count": 8,
     "metadata": {},
     "output_type": "execute_result"
    }
   ],
   "source": [
    "companies.name.isnull().sum()"
   ]
  },
  {
   "cell_type": "code",
   "execution_count": 9,
   "id": "32b7709e",
   "metadata": {},
   "outputs": [],
   "source": [
    "# drop null values from `name` column\n",
    "companies.dropna(subset=[\"name\"], inplace=True)"
   ]
  },
  {
   "cell_type": "code",
   "execution_count": 10,
   "id": "299c0824",
   "metadata": {},
   "outputs": [],
   "source": [
    "# remove duplicates\n",
    "companies.name = companies.name.apply(lambda x: x.lower())\n",
    "companies.drop_duplicates(subset=[\"name\"], keep=\"first\", inplace=True)"
   ]
  },
  {
   "cell_type": "code",
   "execution_count": 11,
   "id": "59191da2",
   "metadata": {},
   "outputs": [
    {
     "data": {
      "text/plain": [
       "(7004634, 3)"
      ]
     },
     "execution_count": 11,
     "metadata": {},
     "output_type": "execute_result"
    }
   ],
   "source": [
    "companies.shape"
   ]
  },
  {
   "cell_type": "code",
   "execution_count": 79,
   "id": "b8a5521e",
   "metadata": {},
   "outputs": [
    {
     "data": {
      "text/html": [
       "<div>\n",
       "<style scoped>\n",
       "    .dataframe tbody tr th:only-of-type {\n",
       "        vertical-align: middle;\n",
       "    }\n",
       "\n",
       "    .dataframe tbody tr th {\n",
       "        vertical-align: top;\n",
       "    }\n",
       "\n",
       "    .dataframe thead th {\n",
       "        text-align: right;\n",
       "    }\n",
       "</style>\n",
       "<table border=\"1\" class=\"dataframe\">\n",
       "  <thead>\n",
       "    <tr style=\"text-align: right;\">\n",
       "      <th></th>\n",
       "      <th>name</th>\n",
       "      <th>country</th>\n",
       "      <th>current_employee_estimate</th>\n",
       "    </tr>\n",
       "  </thead>\n",
       "  <tbody>\n",
       "    <tr>\n",
       "      <th>2511</th>\n",
       "      <td>spacex</td>\n",
       "      <td>united states</td>\n",
       "      <td>3583</td>\n",
       "    </tr>\n",
       "  </tbody>\n",
       "</table>\n",
       "</div>"
      ],
      "text/plain": [
       "        name        country  current_employee_estimate\n",
       "2511  spacex  united states                       3583"
      ]
     },
     "execution_count": 79,
     "metadata": {},
     "output_type": "execute_result"
    }
   ],
   "source": [
    "companies_copy[companies_copy.name == \"spacex\"]"
   ]
  },
  {
   "cell_type": "code",
   "execution_count": 13,
   "id": "e6b699fe",
   "metadata": {},
   "outputs": [],
   "source": [
    "# for the sake of simplicity only filter those with single word only\n",
    "companies = companies[companies.name.apply(lambda x: len(x.split()) == 1)]"
   ]
  },
  {
   "cell_type": "code",
   "execution_count": 14,
   "id": "6b83b9d6",
   "metadata": {},
   "outputs": [
    {
     "data": {
      "text/plain": [
       "(914701, 3)"
      ]
     },
     "execution_count": 14,
     "metadata": {},
     "output_type": "execute_result"
    }
   ],
   "source": [
    "companies.shape"
   ]
  },
  {
   "cell_type": "code",
   "execution_count": 15,
   "id": "caa5b41a",
   "metadata": {},
   "outputs": [],
   "source": [
    "# reducing the shape further setting country to US only for running experiments faster\n",
    "  # may include those filtered names in the future\n",
    "companies = companies[companies.country == \"united states\"]"
   ]
  },
  {
   "cell_type": "code",
   "execution_count": 16,
   "id": "d968f256",
   "metadata": {},
   "outputs": [
    {
     "data": {
      "text/html": [
       "<div>\n",
       "<style scoped>\n",
       "    .dataframe tbody tr th:only-of-type {\n",
       "        vertical-align: middle;\n",
       "    }\n",
       "\n",
       "    .dataframe tbody tr th {\n",
       "        vertical-align: top;\n",
       "    }\n",
       "\n",
       "    .dataframe thead th {\n",
       "        text-align: right;\n",
       "    }\n",
       "</style>\n",
       "<table border=\"1\" class=\"dataframe\">\n",
       "  <thead>\n",
       "    <tr style=\"text-align: right;\">\n",
       "      <th></th>\n",
       "      <th>name</th>\n",
       "      <th>country</th>\n",
       "      <th>current_employee_estimate</th>\n",
       "    </tr>\n",
       "  </thead>\n",
       "  <tbody>\n",
       "    <tr>\n",
       "      <th>173</th>\n",
       "      <td>aecom</td>\n",
       "      <td>united states</td>\n",
       "      <td>26008</td>\n",
       "    </tr>\n",
       "    <tr>\n",
       "      <th>184</th>\n",
       "      <td>comcast</td>\n",
       "      <td>united states</td>\n",
       "      <td>24515</td>\n",
       "    </tr>\n",
       "    <tr>\n",
       "      <th>255</th>\n",
       "      <td>qualcomm</td>\n",
       "      <td>united states</td>\n",
       "      <td>18614</td>\n",
       "    </tr>\n",
       "    <tr>\n",
       "      <th>994</th>\n",
       "      <td>broadcom</td>\n",
       "      <td>united states</td>\n",
       "      <td>7281</td>\n",
       "    </tr>\n",
       "    <tr>\n",
       "      <th>1416</th>\n",
       "      <td>viacom</td>\n",
       "      <td>united states</td>\n",
       "      <td>5535</td>\n",
       "    </tr>\n",
       "    <tr>\n",
       "      <th>...</th>\n",
       "      <td>...</td>\n",
       "      <td>...</td>\n",
       "      <td>...</td>\n",
       "    </tr>\n",
       "    <tr>\n",
       "      <th>7171644</th>\n",
       "      <td>wisgo.com</td>\n",
       "      <td>united states</td>\n",
       "      <td>0</td>\n",
       "    </tr>\n",
       "    <tr>\n",
       "      <th>7171822</th>\n",
       "      <td>activmedias.com</td>\n",
       "      <td>united states</td>\n",
       "      <td>0</td>\n",
       "    </tr>\n",
       "    <tr>\n",
       "      <th>7171883</th>\n",
       "      <td>letslunch.com</td>\n",
       "      <td>united states</td>\n",
       "      <td>0</td>\n",
       "    </tr>\n",
       "    <tr>\n",
       "      <th>7171998</th>\n",
       "      <td>employeebenchmark.com</td>\n",
       "      <td>united states</td>\n",
       "      <td>0</td>\n",
       "    </tr>\n",
       "    <tr>\n",
       "      <th>7173079</th>\n",
       "      <td>paulfirth.com</td>\n",
       "      <td>united states</td>\n",
       "      <td>0</td>\n",
       "    </tr>\n",
       "  </tbody>\n",
       "</table>\n",
       "<p>12704 rows × 3 columns</p>\n",
       "</div>"
      ],
      "text/plain": [
       "                          name        country  current_employee_estimate\n",
       "173                      aecom  united states                      26008\n",
       "184                    comcast  united states                      24515\n",
       "255                   qualcomm  united states                      18614\n",
       "994                   broadcom  united states                       7281\n",
       "1416                    viacom  united states                       5535\n",
       "...                        ...            ...                        ...\n",
       "7171644              wisgo.com  united states                          0\n",
       "7171822        activmedias.com  united states                          0\n",
       "7171883          letslunch.com  united states                          0\n",
       "7171998  employeebenchmark.com  united states                          0\n",
       "7173079          paulfirth.com  united states                          0\n",
       "\n",
       "[12704 rows x 3 columns]"
      ]
     },
     "execution_count": 16,
     "metadata": {},
     "output_type": "execute_result"
    }
   ],
   "source": [
    "companies[(companies.country == \"united states\") \n",
    "         & (companies.name.str.contains(\"com\"))]"
   ]
  },
  {
   "cell_type": "code",
   "execution_count": 17,
   "id": "be832d68",
   "metadata": {},
   "outputs": [],
   "source": [
    "companies_copy = companies.copy()"
   ]
  },
  {
   "cell_type": "code",
   "execution_count": 18,
   "id": "771f37e6",
   "metadata": {},
   "outputs": [],
   "source": [
    "# remove \".com\" from the names\n",
    "companies.name = companies.name.apply(lambda x: x.replace('.com', ''))"
   ]
  },
  {
   "cell_type": "code",
   "execution_count": 19,
   "id": "6d84478e",
   "metadata": {},
   "outputs": [
    {
     "data": {
      "text/html": [
       "<div>\n",
       "<style scoped>\n",
       "    .dataframe tbody tr th:only-of-type {\n",
       "        vertical-align: middle;\n",
       "    }\n",
       "\n",
       "    .dataframe tbody tr th {\n",
       "        vertical-align: top;\n",
       "    }\n",
       "\n",
       "    .dataframe thead th {\n",
       "        text-align: right;\n",
       "    }\n",
       "</style>\n",
       "<table border=\"1\" class=\"dataframe\">\n",
       "  <thead>\n",
       "    <tr style=\"text-align: right;\">\n",
       "      <th></th>\n",
       "      <th>name</th>\n",
       "      <th>country</th>\n",
       "      <th>current_employee_estimate</th>\n",
       "    </tr>\n",
       "  </thead>\n",
       "  <tbody>\n",
       "    <tr>\n",
       "      <th>2025</th>\n",
       "      <td>j.crew</td>\n",
       "      <td>united states</td>\n",
       "      <td>4245</td>\n",
       "    </tr>\n",
       "    <tr>\n",
       "      <th>5745</th>\n",
       "      <td>l.l.bean</td>\n",
       "      <td>united states</td>\n",
       "      <td>1840</td>\n",
       "    </tr>\n",
       "    <tr>\n",
       "      <th>6338</th>\n",
       "      <td>[24]7.ai</td>\n",
       "      <td>united states</td>\n",
       "      <td>1686</td>\n",
       "    </tr>\n",
       "    <tr>\n",
       "      <th>11524</th>\n",
       "      <td>j.hilburn</td>\n",
       "      <td>united states</td>\n",
       "      <td>978</td>\n",
       "    </tr>\n",
       "    <tr>\n",
       "      <th>17259</th>\n",
       "      <td>odyssey.</td>\n",
       "      <td>united states</td>\n",
       "      <td>672</td>\n",
       "    </tr>\n",
       "    <tr>\n",
       "      <th>...</th>\n",
       "      <td>...</td>\n",
       "      <td>...</td>\n",
       "      <td>...</td>\n",
       "    </tr>\n",
       "    <tr>\n",
       "      <th>7166645</th>\n",
       "      <td>inkfx.tattoo</td>\n",
       "      <td>united states</td>\n",
       "      <td>0</td>\n",
       "    </tr>\n",
       "    <tr>\n",
       "      <th>7169694</th>\n",
       "      <td>urgift.in</td>\n",
       "      <td>united states</td>\n",
       "      <td>0</td>\n",
       "    </tr>\n",
       "    <tr>\n",
       "      <th>7170926</th>\n",
       "      <td>helpdesk.net</td>\n",
       "      <td>united states</td>\n",
       "      <td>0</td>\n",
       "    </tr>\n",
       "    <tr>\n",
       "      <th>7171447</th>\n",
       "      <td>mustbeonline.net</td>\n",
       "      <td>united states</td>\n",
       "      <td>0</td>\n",
       "    </tr>\n",
       "    <tr>\n",
       "      <th>7172919</th>\n",
       "      <td>proudsource.us</td>\n",
       "      <td>united states</td>\n",
       "      <td>0</td>\n",
       "    </tr>\n",
       "  </tbody>\n",
       "</table>\n",
       "<p>6276 rows × 3 columns</p>\n",
       "</div>"
      ],
      "text/plain": [
       "                     name        country  current_employee_estimate\n",
       "2025               j.crew  united states                       4245\n",
       "5745             l.l.bean  united states                       1840\n",
       "6338             [24]7.ai  united states                       1686\n",
       "11524           j.hilburn  united states                        978\n",
       "17259            odyssey.  united states                        672\n",
       "...                   ...            ...                        ...\n",
       "7166645      inkfx.tattoo  united states                          0\n",
       "7169694         urgift.in  united states                          0\n",
       "7170926      helpdesk.net  united states                          0\n",
       "7171447  mustbeonline.net  united states                          0\n",
       "7172919    proudsource.us  united states                          0\n",
       "\n",
       "[6276 rows x 3 columns]"
      ]
     },
     "execution_count": 19,
     "metadata": {},
     "output_type": "execute_result"
    }
   ],
   "source": [
    "companies[(companies.country == \"united states\") \n",
    "         & (companies.name.str.contains(\".\", regex=False))]"
   ]
  },
  {
   "cell_type": "code",
   "execution_count": 20,
   "id": "fce67327",
   "metadata": {},
   "outputs": [
    {
     "data": {
      "text/plain": [
       "(126401, 3)"
      ]
     },
     "execution_count": 20,
     "metadata": {},
     "output_type": "execute_result"
    }
   ],
   "source": [
    "# remove names that contains character other than english alphabet\n",
    "companies = companies[~companies.name.str.contains(r'[^a-zA-Z\\s]')]\n",
    "companies.shape"
   ]
  },
  {
   "cell_type": "code",
   "execution_count": 40,
   "id": "9f3b2616",
   "metadata": {},
   "outputs": [
    {
     "data": {
      "text/plain": [
       "2"
      ]
     },
     "execution_count": 40,
     "metadata": {},
     "output_type": "execute_result"
    }
   ],
   "source": [
    "min(len(c) for c in companies.name.to_list()) # minimum string"
   ]
  },
  {
   "cell_type": "code",
   "execution_count": 58,
   "id": "6843c642",
   "metadata": {},
   "outputs": [
    {
     "data": {
      "text/plain": [
       "24"
      ]
     },
     "execution_count": 58,
     "metadata": {},
     "output_type": "execute_result"
    }
   ],
   "source": [
    "max(len(c) for c in companies.name.to_list()) # maximum string"
   ]
  },
  {
   "cell_type": "code",
   "execution_count": 66,
   "id": "9aa810bc",
   "metadata": {},
   "outputs": [],
   "source": [
    "companies = companies[companies.name.str.len() > 1] # delete names with length less than 1\n",
    "companies = companies[companies.name.str.len() < 21] # and more than 20"
   ]
  },
  {
   "cell_type": "code",
   "execution_count": 80,
   "id": "2ec46cda",
   "metadata": {},
   "outputs": [
    {
     "data": {
      "text/html": [
       "<div>\n",
       "<style scoped>\n",
       "    .dataframe tbody tr th:only-of-type {\n",
       "        vertical-align: middle;\n",
       "    }\n",
       "\n",
       "    .dataframe tbody tr th {\n",
       "        vertical-align: top;\n",
       "    }\n",
       "\n",
       "    .dataframe thead th {\n",
       "        text-align: right;\n",
       "    }\n",
       "</style>\n",
       "<table border=\"1\" class=\"dataframe\">\n",
       "  <thead>\n",
       "    <tr style=\"text-align: right;\">\n",
       "      <th></th>\n",
       "      <th>name</th>\n",
       "      <th>country</th>\n",
       "      <th>current_employee_estimate</th>\n",
       "    </tr>\n",
       "  </thead>\n",
       "  <tbody>\n",
       "    <tr>\n",
       "      <th>0</th>\n",
       "      <td>ibm</td>\n",
       "      <td>united states</td>\n",
       "      <td>274047</td>\n",
       "    </tr>\n",
       "    <tr>\n",
       "      <th>7</th>\n",
       "      <td>walmart</td>\n",
       "      <td>united states</td>\n",
       "      <td>120753</td>\n",
       "    </tr>\n",
       "    <tr>\n",
       "      <th>8</th>\n",
       "      <td>microsoft</td>\n",
       "      <td>united states</td>\n",
       "      <td>116196</td>\n",
       "    </tr>\n",
       "    <tr>\n",
       "      <th>11</th>\n",
       "      <td>pwc</td>\n",
       "      <td>united states</td>\n",
       "      <td>111372</td>\n",
       "    </tr>\n",
       "    <tr>\n",
       "      <th>14</th>\n",
       "      <td>deloitte</td>\n",
       "      <td>united states</td>\n",
       "      <td>104112</td>\n",
       "    </tr>\n",
       "    <tr>\n",
       "      <th>...</th>\n",
       "      <td>...</td>\n",
       "      <td>...</td>\n",
       "      <td>...</td>\n",
       "    </tr>\n",
       "    <tr>\n",
       "      <th>7172838</th>\n",
       "      <td>hykoo</td>\n",
       "      <td>united states</td>\n",
       "      <td>0</td>\n",
       "    </tr>\n",
       "    <tr>\n",
       "      <th>7173079</th>\n",
       "      <td>paulfirth</td>\n",
       "      <td>united states</td>\n",
       "      <td>0</td>\n",
       "    </tr>\n",
       "    <tr>\n",
       "      <th>7173103</th>\n",
       "      <td>beamaco</td>\n",
       "      <td>united states</td>\n",
       "      <td>0</td>\n",
       "    </tr>\n",
       "    <tr>\n",
       "      <th>7173131</th>\n",
       "      <td>madminds</td>\n",
       "      <td>united states</td>\n",
       "      <td>0</td>\n",
       "    </tr>\n",
       "    <tr>\n",
       "      <th>7173255</th>\n",
       "      <td>aspaeris</td>\n",
       "      <td>united states</td>\n",
       "      <td>0</td>\n",
       "    </tr>\n",
       "  </tbody>\n",
       "</table>\n",
       "<p>126021 rows × 3 columns</p>\n",
       "</div>"
      ],
      "text/plain": [
       "              name        country  current_employee_estimate\n",
       "0              ibm  united states                     274047\n",
       "7          walmart  united states                     120753\n",
       "8        microsoft  united states                     116196\n",
       "11             pwc  united states                     111372\n",
       "14        deloitte  united states                     104112\n",
       "...            ...            ...                        ...\n",
       "7172838      hykoo  united states                          0\n",
       "7173079  paulfirth  united states                          0\n",
       "7173103    beamaco  united states                          0\n",
       "7173131   madminds  united states                          0\n",
       "7173255   aspaeris  united states                          0\n",
       "\n",
       "[126021 rows x 3 columns]"
      ]
     },
     "execution_count": 80,
     "metadata": {},
     "output_type": "execute_result"
    }
   ],
   "source": [
    "companies"
   ]
  },
  {
   "cell_type": "code",
   "execution_count": 83,
   "id": "99fb0d6a",
   "metadata": {},
   "outputs": [
    {
     "data": {
      "text/html": [
       "<div>\n",
       "<style scoped>\n",
       "    .dataframe tbody tr th:only-of-type {\n",
       "        vertical-align: middle;\n",
       "    }\n",
       "\n",
       "    .dataframe tbody tr th {\n",
       "        vertical-align: top;\n",
       "    }\n",
       "\n",
       "    .dataframe thead th {\n",
       "        text-align: right;\n",
       "    }\n",
       "</style>\n",
       "<table border=\"1\" class=\"dataframe\">\n",
       "  <thead>\n",
       "    <tr style=\"text-align: right;\">\n",
       "      <th></th>\n",
       "      <th>name</th>\n",
       "      <th>country</th>\n",
       "      <th>current_employee_estimate</th>\n",
       "    </tr>\n",
       "  </thead>\n",
       "  <tbody>\n",
       "    <tr>\n",
       "      <th>0</th>\n",
       "      <td>ibm</td>\n",
       "      <td>united states</td>\n",
       "      <td>274047</td>\n",
       "    </tr>\n",
       "    <tr>\n",
       "      <th>1</th>\n",
       "      <td>walmart</td>\n",
       "      <td>united states</td>\n",
       "      <td>120753</td>\n",
       "    </tr>\n",
       "  </tbody>\n",
       "</table>\n",
       "</div>"
      ],
      "text/plain": [
       "      name        country  current_employee_estimate\n",
       "0      ibm  united states                     274047\n",
       "1  walmart  united states                     120753"
      ]
     },
     "execution_count": 83,
     "metadata": {},
     "output_type": "execute_result"
    }
   ],
   "source": [
    "companies.reset_index(inplace=True, drop=True)\n",
    "companies.head(2)"
   ]
  },
  {
   "cell_type": "code",
   "execution_count": 87,
   "id": "e90c259d",
   "metadata": {},
   "outputs": [],
   "source": [
    "# ended up with the 126 021 unique company names\n",
    "  # it is likely to remove some filters to have more names in the later stages of the research"
   ]
  },
  {
   "cell_type": "code",
   "execution_count": 86,
   "id": "4eac5b88",
   "metadata": {},
   "outputs": [],
   "source": [
    "# export the cleaned dataset\n",
    "companies.to_csv(\"../data/companies_cleaned.csv\", index=False)"
   ]
  }
 ],
 "metadata": {
  "kernelspec": {
   "display_name": "Python 3 (ipykernel)",
   "language": "python",
   "name": "python3"
  },
  "language_info": {
   "codemirror_mode": {
    "name": "ipython",
    "version": 3
   },
   "file_extension": ".py",
   "mimetype": "text/x-python",
   "name": "python",
   "nbconvert_exporter": "python",
   "pygments_lexer": "ipython3",
   "version": "3.9.13"
  }
 },
 "nbformat": 4,
 "nbformat_minor": 5
}
