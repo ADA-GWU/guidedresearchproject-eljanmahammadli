{
 "cells": [
  {
   "cell_type": "code",
   "execution_count": 20,
   "metadata": {},
   "outputs": [],
   "source": [
    "# this implementation follows WaveNet: A Generative Model for Raw Audio by Aaron et al. 2016"
   ]
  },
  {
   "cell_type": "code",
   "execution_count": 19,
   "metadata": {},
   "outputs": [],
   "source": [
    "import torch\n",
    "import torch.nn.functional as F\n",
    "import pandas as pd\n",
    "import matplotlib.pyplot as plt\n",
    "\n",
    "import pickle\n",
    "import random\n",
    "random.seed(10110609)\n",
    "\n",
    "%matplotlib inline"
   ]
  },
  {
   "cell_type": "code",
   "execution_count": 3,
   "metadata": {},
   "outputs": [],
   "source": [
    "companies_df = pd.read_csv(\n",
    "  \"../data/cleansed_layer/companies_usa_size_over_10.csv\", usecols=[\"name\"]\n",
    ")\n",
    "\n",
    "companies = companies_df.name.to_list()"
   ]
  },
  {
   "cell_type": "code",
   "execution_count": 4,
   "metadata": {},
   "outputs": [
    {
     "name": "stdout",
     "output_type": "stream",
     "text": [
      "len_alphabet=27\n"
     ]
    }
   ],
   "source": [
    "alphabet = sorted(set(\"\".join(companies)))\n",
    "alphabet.insert(0, '.')\n",
    "len_alphabet = len(alphabet)\n",
    "print(f\"{len_alphabet=}\")\n",
    "\n",
    "strtoint = {j: i for i, j in enumerate(alphabet)}\n",
    "inttostr = {i: j for i, j in enumerate(alphabet)}"
   ]
  },
  {
   "cell_type": "code",
   "execution_count": 5,
   "metadata": {},
   "outputs": [
    {
     "name": "stdout",
     "output_type": "stream",
     "text": [
      "5 examples:  ['equinoxys', 'biassync', 'taggpay', 'touchpointe', 'rxfit']\n",
      "Length: 91073\n",
      "Max length: 16\n",
      "Min length: 3\n",
      "Avg length: 8.164823822647767\n"
     ]
    }
   ],
   "source": [
    "print(\"5 examples: \", companies[:5])\n",
    "print(f\"Length: {len(companies)}\")\n",
    "print(f\"Max length: {max([len(c) for c in companies])}\")\n",
    "print(f\"Min length: {min([len(c) for c in companies])}\")\n",
    "avg_len = sum([len(c) for c in companies]) / len(companies)\n",
    "print(f\"Avg length: {avg_len}\")"
   ]
  },
  {
   "cell_type": "code",
   "execution_count": 6,
   "metadata": {},
   "outputs": [],
   "source": [
    "random.shuffle(companies)"
   ]
  },
  {
   "cell_type": "code",
   "execution_count": 7,
   "metadata": {},
   "outputs": [
    {
     "name": "stdout",
     "output_type": "stream",
     "text": [
      "torch.Size([668185, 8]) torch.Size([668185])\n",
      "torch.Size([83202, 8]) torch.Size([83202])\n",
      "torch.Size([83281, 8]) torch.Size([83281])\n"
     ]
    }
   ],
   "source": [
    "# build the dataset\n",
    "block_size = 8 # context length: how many characters do we take to predict the next one?\n",
    "\n",
    "def build_dataset(words):  \n",
    "  X, Y = [], []\n",
    "  \n",
    "  for w in words:\n",
    "    context = [0] * block_size\n",
    "    for ch in w + '.':\n",
    "      ix = strtoint[ch]\n",
    "      X.append(context)\n",
    "      Y.append(ix)\n",
    "      context = context[1:] + [ix] # crop and append\n",
    "\n",
    "  X = torch.tensor(X)\n",
    "  Y = torch.tensor(Y)\n",
    "  print(X.shape, Y.shape)\n",
    "  return X, Y\n",
    "\n",
    "n1 = int(0.8*len(companies))\n",
    "n2 = int(0.9*len(companies))\n",
    "Xtr,  Ytr  = build_dataset(companies[:n1])\n",
    "Xdev, Ydev = build_dataset(companies[n1:n2])\n",
    "Xte,  Yte  = build_dataset(companies[n2:])"
   ]
  },
  {
   "cell_type": "code",
   "execution_count": 8,
   "metadata": {},
   "outputs": [
    {
     "name": "stdout",
     "output_type": "stream",
     "text": [
      "........ --> m\n",
      ".......m --> a\n",
      "......ma --> n\n",
      ".....man --> a\n",
      "....mana --> g\n",
      "...manag --> e\n",
      "..manage --> d\n",
      ".managed --> o\n",
      "managedo --> f\n",
      "anagedof --> f\n",
      "nagedoff --> i\n",
      "agedoffi --> c\n",
      "gedoffic --> e\n",
      "edoffice --> .\n",
      "........ --> i\n",
      ".......i --> d\n",
      "......id --> m\n",
      ".....idm --> a\n",
      "....idma --> t\n",
      "...idmat --> r\n"
     ]
    }
   ],
   "source": [
    "for x,y in zip(Xtr[:20], Ytr[:20]):\n",
    "  print(''.join(inttostr[ix.item()] for ix in x), '-->', inttostr[y.item()])"
   ]
  },
  {
   "cell_type": "code",
   "execution_count": 9,
   "metadata": {},
   "outputs": [],
   "source": [
    "class Linear:\n",
    "  \n",
    "  def __init__(self, fan_in, fan_out, bias=True):\n",
    "    # kaiming init, Kaiming_Delving Deep into Rectifiers_2015\n",
    "    self.weight = torch.randn((fan_in, fan_out)) / fan_in**0.5\n",
    "    self.bias = torch.zeros(fan_out) if bias else None\n",
    "  \n",
    "  def __call__(self, x):\n",
    "    self.out = x @ self.weight\n",
    "    if self.bias is not None:\n",
    "      self.out += self.bias\n",
    "    return self.out\n",
    "  \n",
    "  def parameters(self):\n",
    "    return [self.weight] + ([] if self.bias is None else [self.bias])\n",
    "\n",
    "\n",
    "class BatchNorm1d:\n",
    "  \n",
    "  def __init__(self, dim, eps=1e-5, momentum=0.1):\n",
    "    self.eps = eps\n",
    "    self.momentum = momentum\n",
    "    self.training = True\n",
    "    # parameters\n",
    "    self.gamma = torch.ones(dim)\n",
    "    self.beta = torch.zeros(dim)\n",
    "    # buffers, calculated during training on the fly\n",
    "    self.running_mean = torch.zeros(dim)\n",
    "    self.running_var = torch.ones(dim)\n",
    "  \n",
    "  def __call__(self, x):\n",
    "    # forward propogation\n",
    "    if self.training:\n",
    "      if x.ndim == 2:\n",
    "        dim = 0\n",
    "      elif x.ndim == 3:\n",
    "        dim = (0,1)\n",
    "      # batch mean and variance\n",
    "      xmean = x.mean(dim, keepdim=True)\n",
    "      xvar = x.var(dim, keepdim=True)\n",
    "    else:\n",
    "      xmean = self.running_mean\n",
    "      xvar = self.running_var\n",
    "    # normalize\n",
    "    xhat = (x - xmean) / torch.sqrt(xvar + self.eps)\n",
    "    self.out = self.gamma * xhat + self.beta\n",
    "    # update buffers\n",
    "    if self.training:\n",
    "      with torch.no_grad():\n",
    "        self.running_mean = (1 - self.momentum) * self.running_mean + self.momentum * xmean\n",
    "        self.running_var = (1 - self.momentum) * self.running_var + self.momentum * xvar\n",
    "    return self.out\n",
    "  \n",
    "  def parameters(self):\n",
    "    return [self.gamma, self.beta]\n",
    "\n",
    "class Tanh:\n",
    "  def __call__(self, x):\n",
    "    self.out = torch.tanh(x)\n",
    "    return self.out\n",
    "  def parameters(self):\n",
    "    return []\n",
    "\n",
    "\n",
    "class Embedding:\n",
    "  \n",
    "  def __init__(self, num_embeddings, embedding_dim):\n",
    "    self.weight = torch.randn((num_embeddings, embedding_dim))\n",
    "    \n",
    "  def __call__(self, IX):\n",
    "    self.out = self.weight[IX]\n",
    "    return self.out\n",
    "  \n",
    "  def parameters(self):\n",
    "    return [self.weight]\n",
    "\n",
    "\n",
    "class FlattenConsecutive:\n",
    "  \n",
    "  def __init__(self, n):\n",
    "    self.n = n\n",
    "    \n",
    "  def __call__(self, x):\n",
    "    B, T, C = x.shape\n",
    "    x = x.view(B, T//self.n, C*self.n)\n",
    "    if x.shape[1] == 1:\n",
    "      x = x.squeeze(1)\n",
    "    self.out = x\n",
    "    return self.out\n",
    "  \n",
    "  def parameters(self):\n",
    "    return []\n",
    "\n",
    "\n",
    "class Sequential:\n",
    "  \n",
    "  def __init__(self, layers):\n",
    "    self.layers = layers\n",
    "  \n",
    "  def __call__(self, x):\n",
    "    for layer in self.layers:\n",
    "      x = layer(x)\n",
    "    self.out = x\n",
    "    return self.out\n",
    "  \n",
    "  def parameters(self):\n",
    "    return [p for layer in self.layers for p in layer.parameters()]\n"
   ]
  },
  {
   "cell_type": "code",
   "execution_count": 10,
   "metadata": {},
   "outputs": [],
   "source": [
    "torch.manual_seed(1006091011);"
   ]
  },
  {
   "cell_type": "code",
   "execution_count": 11,
   "metadata": {},
   "outputs": [
    {
     "name": "stdout",
     "output_type": "stream",
     "text": [
      "Total number of parameters:  76579\n"
     ]
    }
   ],
   "source": [
    "\n",
    "n_embd = 24 # the dim of embedding vectors\n",
    "n_hidden = 128 # the num of neurons in hidden layer\n",
    "model = Sequential([\n",
    "  Embedding(len_alphabet, n_embd),\n",
    "  FlattenConsecutive(2), Linear(n_embd * 2, n_hidden, bias=False), BatchNorm1d(n_hidden), Tanh(),\n",
    "  FlattenConsecutive(2), Linear(n_hidden*2, n_hidden, bias=False), BatchNorm1d(n_hidden), Tanh(),\n",
    "  FlattenConsecutive(2), Linear(n_hidden*2, n_hidden, bias=False), BatchNorm1d(n_hidden), Tanh(),\n",
    "  Linear(n_hidden, len_alphabet),\n",
    "])\n",
    "\n",
    "\n",
    "# making last layer less confident, it is kind of regularization to prevent overfitting\n",
    "with torch.no_grad():\n",
    "  model.layers[-1].weight *= 0.1\n",
    "\n",
    "params = model.parameters()\n",
    "print(\"Total number of parameters: \", sum(p.nelement() for p in params))\n",
    "for p in params:\n",
    "  p.requires_grad = True"
   ]
  },
  {
   "cell_type": "code",
   "execution_count": 13,
   "metadata": {},
   "outputs": [
    {
     "name": "stdout",
     "output_type": "stream",
     "text": [
      "      0/ 200000: 3.3183\n",
      "  10000/ 200000: 2.5846\n",
      "  20000/ 200000: 2.2815\n",
      "  30000/ 200000: 2.3954\n",
      "  40000/ 200000: 2.5246\n",
      "  50000/ 200000: 2.4565\n",
      "  60000/ 200000: 2.6810\n",
      "  70000/ 200000: 2.8022\n",
      "  80000/ 200000: 1.9446\n",
      "  90000/ 200000: 2.4474\n",
      " 100000/ 200000: 2.2825\n",
      " 110000/ 200000: 2.4511\n",
      " 120000/ 200000: 2.2988\n",
      " 130000/ 200000: 2.5002\n",
      " 140000/ 200000: 2.0720\n",
      " 150000/ 200000: 2.4265\n",
      " 160000/ 200000: 2.3764\n",
      " 170000/ 200000: 2.4522\n",
      " 180000/ 200000: 2.3253\n",
      " 190000/ 200000: 2.2953\n"
     ]
    }
   ],
   "source": [
    "max_steps = 200000\n",
    "batch_size = 32\n",
    "lossi = []\n",
    "\n",
    "for i in range(max_steps):\n",
    "  \n",
    "  # minibatch\n",
    "  ix = torch.randint(0, Xtr.shape[0], (batch_size,))\n",
    "  Xb, Yb = Xtr[ix], Ytr[ix] # batch X,Y\n",
    "  \n",
    "  # forward propogation\n",
    "  logits = model(Xb)\n",
    "  loss = F.cross_entropy(logits, Yb) # loss function\n",
    "  \n",
    "  # backward propogation\n",
    "  for p in params:\n",
    "    p.grad = None\n",
    "  loss.backward()\n",
    "  \n",
    "  # optimization (SGD)\n",
    "  # lr and decayed lr\n",
    "  lr = 0.1 if i < 150000 else 0.01\n",
    "  for p in params:\n",
    "    p.data += -lr * p.grad\n",
    "\n",
    "  # statistics\n",
    "  if i % 10000 == 0:\n",
    "    print(f'{i:7d}/{max_steps:7d}: {loss.item():.4f}')\n",
    "  lossi.append(loss.log10().item())\n"
   ]
  },
  {
   "cell_type": "code",
   "execution_count": 33,
   "metadata": {},
   "outputs": [
    {
     "data": {
      "text/plain": [
       "[<matplotlib.lines.Line2D at 0x7fc3bf57cfd0>]"
      ]
     },
     "execution_count": 33,
     "metadata": {},
     "output_type": "execute_result"
    },
    {
     "data": {
      "image/png": "[encoded data removed]",
      "text/plain": [
       "<Figure size 640x480 with 1 Axes>"
      ]
     },
     "metadata": {},
     "output_type": "display_data"
    }
   ],
   "source": [
    "plt.plot(torch.tensor(lossi).view(-1, 1000).mean(1))"
   ]
  },
  {
   "cell_type": "code",
   "execution_count": 14,
   "metadata": {},
   "outputs": [],
   "source": [
    "# eval mode for the batchnorm\n",
    "for layer in model.layers:\n",
    "  layer.training = False"
   ]
  },
  {
   "cell_type": "code",
   "execution_count": 15,
   "metadata": {},
   "outputs": [
    {
     "name": "stdout",
     "output_type": "stream",
     "text": [
      "val 2.213277578353882\n"
     ]
    }
   ],
   "source": [
    "# evaluate the loss\n",
    "@torch.no_grad()\n",
    "def split_loss(split):\n",
    "  x,y = {\n",
    "    'train': (Xtr, Ytr),\n",
    "    'val': (Xdev, Ydev),\n",
    "    'test': (Xte, Yte),\n",
    "  }[split]\n",
    "  logits = model(x)\n",
    "  loss = F.cross_entropy(logits, y)\n",
    "  print(split, loss.item())\n",
    "\n",
    "# split_loss('train')\n",
    "split_loss('val')"
   ]
  },
  {
   "cell_type": "markdown",
   "metadata": {},
   "source": [
    "# Save the Model"
   ]
  },
  {
   "cell_type": "code",
   "execution_count": 16,
   "metadata": {},
   "outputs": [],
   "source": [
    "with open(\"../data/model_layer/wavenet_model.pkl\", \"wb\") as f:\n",
    "  pickle.dump(model, f)"
   ]
  },
  {
   "cell_type": "code",
   "execution_count": 13,
   "metadata": {},
   "outputs": [],
   "source": [
    "with open(\"../data/model_layer/wavenet_model.pkl\", \"rb\") as f:\n",
    "  model = pickle.load(f)"
   ]
  },
  {
   "cell_type": "markdown",
   "metadata": {},
   "source": [
    "# Sampling from the Moldel (Model Inference)"
   ]
  },
  {
   "cell_type": "code",
   "execution_count": 17,
   "metadata": {},
   "outputs": [
    {
     "name": "stdout",
     "output_type": "stream",
     "text": [
      "wurewartiva.\n",
      "timnsco.\n",
      "balloub.\n",
      "socience.\n",
      "opmus.\n",
      "tranvideo.\n",
      "hirdactwl.\n",
      "intellavids.\n",
      "opeq.\n",
      "niflywel.\n",
      "carrage.\n",
      "alphars.\n",
      "piselluvweet.\n",
      "copssttees.\n",
      "homeline.\n",
      "pakennockle.\n",
      "redfir.\n",
      "storytiglow.\n",
      "group.\n",
      "keyibas.\n"
     ]
    }
   ],
   "source": [
    "# sample from the model\n",
    "for _ in range(20):\n",
    "    \n",
    "    out = []\n",
    "    context = [0] * block_size\n",
    "    while True:\n",
    "      # forward\n",
    "      logits = model(torch.tensor([context]))\n",
    "      probs = F.softmax(logits, dim=1)\n",
    "      # sample\n",
    "      ix = torch.multinomial(probs, num_samples=1).item()\n",
    "      # shift the window\n",
    "      context = context[1:] + [ix]\n",
    "      out.append(ix)\n",
    "      # break when encountered special token\n",
    "      if ix == 0:\n",
    "        break\n",
    "\n",
    "    print(''.join(inttostr[i] for i in out))"
   ]
  }
 ],
 "metadata": {
  "kernelspec": {
   "display_name": "Python 3 (ipykernel)",
   "language": "python",
   "name": "python3"
  },
  "language_info": {
   "codemirror_mode": {
    "name": "ipython",
    "version": 3
   },
   "file_extension": ".py",
   "mimetype": "text/x-python",
   "name": "python",
   "nbconvert_exporter": "python",
   "pygments_lexer": "ipython3",
   "version": "3.9.13"
  }
 },
 "nbformat": 4,
 "nbformat_minor": 4
}
