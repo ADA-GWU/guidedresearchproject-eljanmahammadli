{
 "cells": [
  {
   "cell_type": "code",
   "execution_count": 1,
   "id": "c61d64a8",
   "metadata": {},
   "outputs": [],
   "source": [
    "import pandas as pd\n",
    "import torch\n",
    "import matplotlib.pyplot as plt\n",
    "import itertools\n",
    "import tqdm\n",
    "import random\n",
    "\n",
    "%matplotlib inline"
   ]
  },
  {
   "cell_type": "code",
   "execution_count": 16,
   "id": "cf38a8bf",
   "metadata": {},
   "outputs": [],
   "source": [
    "companies_df = pd.read_csv(\n",
    "  \"../data/cleansed_layer/companies_usa_size_over_10.csv\", usecols=[\"name\"]\n",
    ")\n",
    "\n",
    "companies = companies_df.name.to_list()"
   ]
  },
  {
   "cell_type": "code",
   "execution_count": 17,
   "id": "0e4fa8c8",
   "metadata": {},
   "outputs": [],
   "source": [
    "E = torch.zeros((27, 27), dtype=torch.int32)"
   ]
  },
  {
   "cell_type": "code",
   "execution_count": 18,
   "id": "b81d554f",
   "metadata": {},
   "outputs": [],
   "source": [
    "alphabet = sorted(list(set(''.join(companies))))\n",
    "strtoint = {s:i+1 for i,s in enumerate(alphabet)}\n",
    "strtoint['.'] = 0\n",
    "inttostr = {i:s for s,i in strtoint.items()}"
   ]
  },
  {
   "cell_type": "code",
   "execution_count": 19,
   "id": "27b7e04d",
   "metadata": {},
   "outputs": [
    {
     "name": "stdout",
     "output_type": "stream",
     "text": [
      "5 Example after shuffling:  ['managedoffice', 'idmatrixindia', 'sightmd', 'popshelf', 'jaroop']\n"
     ]
    },
    {
     "data": {
      "text/plain": [
       "(72858, 3, 9108)"
      ]
     },
     "execution_count": 19,
     "metadata": {},
     "output_type": "execute_result"
    }
   ],
   "source": [
    "# splitting data into train, dev and test sets\n",
    "random.seed(10110609)\n",
    "random.shuffle(companies)\n",
    "print(\"5 Example after shuffling: \", companies[:5])\n",
    "\n",
    "n1 = int(len(companies) * 0.8)\n",
    "n2 = int(len(companies) * 0.9)\n",
    "\n",
    "X_train = companies[:n1]\n",
    "X_dev = companies[n1:n2]\n",
    "X_test = companies[n2:]\n",
    "\n",
    "len(X_train), len(_), len(X_test)"
   ]
  },
  {
   "cell_type": "code",
   "execution_count": 20,
   "id": "402d8ecd",
   "metadata": {},
   "outputs": [],
   "source": [
    "for word in X_train:\n",
    "  chs = ['.'] + list(word) + ['.']\n",
    "  for ch1, ch2 in zip(chs, chs[1:]):\n",
    "    ix1 = strtoint[ch1]\n",
    "    ix2 = strtoint[ch2]\n",
    "    E[ix1, ix2] += 1    "
   ]
  },
  {
   "cell_type": "code",
   "execution_count": 21,
   "id": "020198ff",
   "metadata": {},
   "outputs": [],
   "source": [
    "P = (E+1).float()\n",
    "P /= P.sum(1, keepdims=True)"
   ]
  },
  {
   "cell_type": "code",
   "execution_count": 29,
   "id": "d2188472",
   "metadata": {},
   "outputs": [],
   "source": [
    "def evaluate(dataset):\n",
    "  n = 0\n",
    "  log_likelihood = 0\n",
    "\n",
    "  for word in dataset:\n",
    "    chs = ['.'] + list(word) + ['.']\n",
    "    for ch1, ch2 in zip(chs, chs[1:]):\n",
    "      ix1 = strtoint[ch1]\n",
    "      ix2 = strtoint[ch2]\n",
    "      prob = P[ix1, ix2]\n",
    "      logprob = torch.log(prob)\n",
    "      log_likelihood += logprob\n",
    "      n += 1\n",
    "\n",
    "  print(f\"{log_likelihood=}\")\n",
    "  neg_logl = -log_likelihood\n",
    "  print(f\"{neg_logl=}\")\n",
    "  loss = neg_logl/n\n",
    "  print(f\"{loss=}\")\n",
    "  \n",
    "  return loss.item()"
   ]
  },
  {
   "cell_type": "code",
   "execution_count": 30,
   "id": "d1b16f9b",
   "metadata": {},
   "outputs": [
    {
     "name": "stdout",
     "output_type": "stream",
     "text": [
      "Evaluation on the train set: \n",
      "log_likelihood=tensor(-1819176.3750)\n",
      "neg_logl=tensor(1819176.3750)\n",
      "loss=tensor(2.7226)\n",
      "\n",
      "Evaluation on the dev set: \n",
      "log_likelihood=tensor(-226748.8594)\n",
      "neg_logl=tensor(226748.8594)\n",
      "loss=tensor(2.7253)\n",
      "\n",
      "Evaluation on the test set: \n",
      "log_likelihood=tensor(-226677.6562)\n",
      "neg_logl=tensor(226677.6562)\n",
      "loss=tensor(2.7218)\n"
     ]
    }
   ],
   "source": [
    "# compute the loss on the train and test set\n",
    "print(\"Evaluation on the train set: \")\n",
    "loss_train = evaluate(X_train)\n",
    "\n",
    "print(\"\\nEvaluation on the dev set: \")\n",
    "loss_dev = evaluate(X_dev)\n",
    "\n",
    "print(\"\\nEvaluation on the test set: \")\n",
    "loss_test = evaluate(X_test)"
   ]
  },
  {
   "cell_type": "code",
   "execution_count": 31,
   "id": "383fe017",
   "metadata": {},
   "outputs": [
    {
     "name": "stdout",
     "output_type": "stream",
     "text": [
      "tietenus\n",
      "malm\n",
      "artap\n",
      "ayera\n",
      "mebali\n",
      "uswe\n",
      "halloum\n",
      "paruis\n",
      "joa\n",
      "ftrtx\n",
      "ts\n",
      "b\n",
      "brces\n",
      "s\n",
      "mpmerictre\n",
      "tlvil\n",
      "rdelerquatepa\n",
      "dicystedicherdr\n",
      "mino\n",
      "ec\n"
     ]
    }
   ],
   "source": [
    "# Sample from the model\n",
    "g = torch.Generator().manual_seed(10110609)\n",
    "samples = []\n",
    "\n",
    "for i in range(20):\n",
    "  word = ''\n",
    "  ix = 0\n",
    "  while True:\n",
    "    p = P[ix]\n",
    "    ix = torch.multinomial(p, num_samples=1, replacement=True, generator=g).item()\n",
    "    letter = inttostr[ix]\n",
    "\n",
    "    if letter == '.':\n",
    "      break\n",
    "  \n",
    "    word += letter\n",
    "  samples.append(word)\n",
    "  print(word)"
   ]
  }
 ],
 "metadata": {
  "kernelspec": {
   "display_name": "Python 3 (ipykernel)",
   "language": "python",
   "name": "python3"
  },
  "language_info": {
   "codemirror_mode": {
    "name": "ipython",
    "version": 3
   },
   "file_extension": ".py",
   "mimetype": "text/x-python",
   "name": "python",
   "nbconvert_exporter": "python",
   "pygments_lexer": "ipython3",
   "version": "3.9.13"
  }
 },
 "nbformat": 4,
 "nbformat_minor": 5
}
