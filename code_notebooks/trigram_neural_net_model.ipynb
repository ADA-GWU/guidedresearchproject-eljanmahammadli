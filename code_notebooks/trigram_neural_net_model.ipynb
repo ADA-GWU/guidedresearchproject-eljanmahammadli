{
 "cells": [
  {
   "cell_type": "code",
   "execution_count": 17,
   "metadata": {
    "execution": {
     "iopub.execute_input": "2023-06-19T05:34:47.760219Z",
     "iopub.status.busy": "2023-06-19T05:34:47.759841Z",
     "iopub.status.idle": "2023-06-19T05:34:47.767098Z",
     "shell.execute_reply": "2023-06-19T05:34:47.766243Z",
     "shell.execute_reply.started": "2023-06-19T05:34:47.760190Z"
    }
   },
   "outputs": [],
   "source": [
    "import itertools\n",
    "import random\n",
    "import pickle\n",
    "import tqdm\n",
    "\n",
    "import pandas as pd\n",
    "import matplotlib.pyplot as plt\n",
    "\n",
    "import torch\n",
    "import torch.nn.functional as F\n",
    "\n",
    "%matplotlib inline"
   ]
  },
  {
   "cell_type": "code",
   "execution_count": 2,
   "metadata": {
    "execution": {
     "iopub.execute_input": "2023-06-19T05:29:31.263809Z",
     "iopub.status.busy": "2023-06-19T05:29:31.261044Z",
     "iopub.status.idle": "2023-06-19T05:29:31.523282Z",
     "shell.execute_reply": "2023-06-19T05:29:31.522121Z",
     "shell.execute_reply.started": "2023-06-19T05:29:31.263773Z"
    }
   },
   "outputs": [],
   "source": [
    "companies_df = pd.read_csv(\n",
    "  \"../data/cleansed_layer/companies_usa_size_over_10.csv\", usecols=[\"name\"]\n",
    ")\n",
    "\n",
    "companies = companies_df.name.to_list()"
   ]
  },
  {
   "cell_type": "code",
   "execution_count": 3,
   "metadata": {
    "execution": {
     "iopub.execute_input": "2023-06-19T05:29:31.525289Z",
     "iopub.status.busy": "2023-06-19T05:29:31.524905Z",
     "iopub.status.idle": "2023-06-19T05:29:31.558921Z",
     "shell.execute_reply": "2023-06-19T05:29:31.557945Z",
     "shell.execute_reply.started": "2023-06-19T05:29:31.525252Z"
    }
   },
   "outputs": [
    {
     "name": "stdout",
     "output_type": "stream",
     "text": [
      "5 examples:  ['equinoxys', 'biassync', 'taggpay', 'touchpointe', 'rxfit']\n",
      "Length: 91073\n",
      "Max length: 16\n",
      "Min length: 3\n",
      "Avg length: 8.164823822647767\n"
     ]
    }
   ],
   "source": [
    "print(\"5 examples: \", companies[:5])\n",
    "print(f\"Length: {len(companies)}\")\n",
    "print(f\"Max length: {max([len(c) for c in companies])}\")\n",
    "print(f\"Min length: {min([len(c) for c in companies])}\")\n",
    "avg_len = sum([len(c) for c in companies]) / len(companies)\n",
    "print(f\"Avg length: {avg_len}\")"
   ]
  },
  {
   "cell_type": "code",
   "execution_count": 4,
   "metadata": {
    "execution": {
     "iopub.execute_input": "2023-06-19T05:29:31.561906Z",
     "iopub.status.busy": "2023-06-19T05:29:31.561496Z",
     "iopub.status.idle": "2023-06-19T05:29:31.584751Z",
     "shell.execute_reply": "2023-06-19T05:29:31.583762Z",
     "shell.execute_reply.started": "2023-06-19T05:29:31.561874Z"
    }
   },
   "outputs": [
    {
     "name": "stdout",
     "output_type": "stream",
     "text": [
      "len_alphabet=27\n",
      "len(combinations)=729\n"
     ]
    }
   ],
   "source": [
    "alphabet = sorted(set(\"\".join(companies)))\n",
    "alphabet.insert(0, '.')\n",
    "len_alphabet = len(alphabet)\n",
    "print(f\"{len_alphabet=}\")\n",
    "\n",
    "combinations = list(itertools.product(alphabet, repeat=2))\n",
    "combinations = [''.join(comb) for comb in combinations]\n",
    "print(f\"{len(combinations)=}\")\n",
    "\n",
    "strtoint = {j: i for i, j in enumerate(alphabet)}\n",
    "inttostr = {i: j for i, j in enumerate(alphabet)}\n",
    "\n",
    "strtoint_bi = {j: i for i, j in enumerate(combinations)}\n",
    "inttostr_bi = {i: j for i, j in enumerate(combinations)}"
   ]
  },
  {
   "cell_type": "code",
   "execution_count": 5,
   "metadata": {
    "execution": {
     "iopub.execute_input": "2023-06-19T05:29:31.586507Z",
     "iopub.status.busy": "2023-06-19T05:29:31.586112Z",
     "iopub.status.idle": "2023-06-19T05:29:31.657805Z",
     "shell.execute_reply": "2023-06-19T05:29:31.656658Z",
     "shell.execute_reply.started": "2023-06-19T05:29:31.586476Z"
    }
   },
   "outputs": [
    {
     "name": "stdout",
     "output_type": "stream",
     "text": [
      "True\n"
     ]
    }
   ],
   "source": [
    "print(torch.cuda.is_available())"
   ]
  },
  {
   "cell_type": "code",
   "execution_count": 6,
   "metadata": {
    "execution": {
     "iopub.execute_input": "2023-06-19T05:29:31.660251Z",
     "iopub.status.busy": "2023-06-19T05:29:31.659567Z",
     "iopub.status.idle": "2023-06-19T05:29:31.667728Z",
     "shell.execute_reply": "2023-06-19T05:29:31.666895Z",
     "shell.execute_reply.started": "2023-06-19T05:29:31.660217Z"
    }
   },
   "outputs": [
    {
     "name": "stdout",
     "output_type": "stream",
     "text": [
      "cuda\n"
     ]
    }
   ],
   "source": [
    "device = 'cuda' if torch.cuda.is_available() else 'cpu'\n",
    "print(device)"
   ]
  },
  {
   "cell_type": "code",
   "execution_count": 1,
   "metadata": {},
   "outputs": [],
   "source": [
    "# CUDA was enable on the kaggle kernel"
   ]
  },
  {
   "cell_type": "code",
   "execution_count": 7,
   "metadata": {
    "execution": {
     "iopub.execute_input": "2023-06-19T05:29:31.670035Z",
     "iopub.status.busy": "2023-06-19T05:29:31.669380Z",
     "iopub.status.idle": "2023-06-19T05:29:31.677023Z",
     "shell.execute_reply": "2023-06-19T05:29:31.676462Z",
     "shell.execute_reply.started": "2023-06-19T05:29:31.670003Z"
    }
   },
   "outputs": [],
   "source": [
    "def build_dataset(words):\n",
    "  xs, ys = [], []\n",
    "  for word in words:\n",
    "    word = ['.', '.'] + list(word) + ['.']\n",
    "    for ch1, ch2, ch3 in zip(word, word[1:], word[2:]):\n",
    "      ix1 = strtoint_bi[ch1+ch2]\n",
    "      ix2 = strtoint[ch3]\n",
    "      xs.append(ix1)\n",
    "      ys.append(ix2)\n",
    "      \n",
    "  xs = torch.tensor(xs, device=device)\n",
    "  ys = torch.tensor(ys, device=device)\n",
    "\n",
    "  return xs, ys"
   ]
  },
  {
   "cell_type": "code",
   "execution_count": 8,
   "metadata": {
    "execution": {
     "iopub.execute_input": "2023-06-19T05:29:31.678920Z",
     "iopub.status.busy": "2023-06-19T05:29:31.678342Z",
     "iopub.status.idle": "2023-06-19T05:29:37.404299Z",
     "shell.execute_reply": "2023-06-19T05:29:37.403229Z",
     "shell.execute_reply.started": "2023-06-19T05:29:31.678890Z"
    }
   },
   "outputs": [
    {
     "name": "stdout",
     "output_type": "stream",
     "text": [
      "5 Example after shuffling:  ['managedoffice', 'idmatrixindia', 'sightmd', 'popshelf', 'jaroop']\n"
     ]
    },
    {
     "data": {
      "text/plain": [
       "(668185, 83202, 83281)"
      ]
     },
     "execution_count": 8,
     "metadata": {},
     "output_type": "execute_result"
    }
   ],
   "source": [
    "# splitting data into train, dev and test sets\n",
    "random.seed(10110609)\n",
    "random.shuffle(companies)\n",
    "print(\"5 Example after shuffling: \", companies[:5])\n",
    "\n",
    "n1 = int(len(companies) * 0.8)\n",
    "n2 = int(len(companies) * 0.9)\n",
    "\n",
    "X_train, y_train = build_dataset(companies[:n1])\n",
    "X_dev, y_dev = build_dataset(companies[n1:n2])\n",
    "X_test, y_test = build_dataset(companies[n2:])\n",
    "\n",
    "train_size = X_train.nelement()\n",
    "test_size = X_test.nelement()\n",
    "dev_size = X_dev.nelement()\n",
    "\n",
    "len(X_train), len(X_dev), len(X_test)"
   ]
  },
  {
   "cell_type": "code",
   "execution_count": 9,
   "metadata": {
    "execution": {
     "iopub.execute_input": "2023-06-19T05:29:37.406055Z",
     "iopub.status.busy": "2023-06-19T05:29:37.405636Z",
     "iopub.status.idle": "2023-06-19T05:29:37.412190Z",
     "shell.execute_reply": "2023-06-19T05:29:37.411296Z",
     "shell.execute_reply.started": "2023-06-19T05:29:37.406020Z"
    }
   },
   "outputs": [
    {
     "data": {
      "text/plain": [
       "<torch.cuda.device at 0x7dee148e7d30>"
      ]
     },
     "execution_count": 9,
     "metadata": {},
     "output_type": "execute_result"
    }
   ],
   "source": [
    "torch.cuda.device(0)"
   ]
  },
  {
   "cell_type": "code",
   "execution_count": 10,
   "metadata": {
    "execution": {
     "iopub.execute_input": "2023-06-19T05:29:37.416117Z",
     "iopub.status.busy": "2023-06-19T05:29:37.415644Z",
     "iopub.status.idle": "2023-06-19T05:29:37.427572Z",
     "shell.execute_reply": "2023-06-19T05:29:37.426675Z",
     "shell.execute_reply.started": "2023-06-19T05:29:37.416085Z"
    }
   },
   "outputs": [],
   "source": [
    "torch.cuda.empty_cache()"
   ]
  },
  {
   "cell_type": "code",
   "execution_count": 11,
   "metadata": {
    "execution": {
     "iopub.execute_input": "2023-06-19T05:29:37.429819Z",
     "iopub.status.busy": "2023-06-19T05:29:37.428786Z",
     "iopub.status.idle": "2023-06-19T05:29:37.451089Z",
     "shell.execute_reply": "2023-06-19T05:29:37.450292Z",
     "shell.execute_reply.started": "2023-06-19T05:29:37.429788Z"
    }
   },
   "outputs": [],
   "source": [
    "seed = torch.Generator().manual_seed(10110609)\n",
    "W = torch.randn((len_alphabet*len_alphabet, len_alphabet), requires_grad=True, device=device)"
   ]
  },
  {
   "cell_type": "code",
   "execution_count": null,
   "metadata": {},
   "outputs": [],
   "source": [
    "W.shape"
   ]
  },
  {
   "cell_type": "code",
   "execution_count": null,
   "metadata": {},
   "outputs": [],
   "source": [
    "# xenc @ W\n",
    "# (ts, 729) @ (729, 27) => (ts, 27)"
   ]
  },
  {
   "cell_type": "code",
   "execution_count": null,
   "metadata": {},
   "outputs": [],
   "source": [
    "# forward propogation\n",
    "xenc = F.one_hot(X_train, num_classes=len_alphabet*len_alphabet).float().to(device)\n",
    "logits = xenc @ W\n",
    "counts = logits.exp()\n",
    "probs = counts / counts.sum(1, keepdims=True)\n",
    "loss = -probs[torch.arange(train_size, device=device), y_train].log().mean()"
   ]
  },
  {
   "cell_type": "code",
   "execution_count": null,
   "metadata": {},
   "outputs": [],
   "source": [
    "loss.item()"
   ]
  },
  {
   "cell_type": "code",
   "execution_count": null,
   "metadata": {},
   "outputs": [],
   "source": [
    "# backward propogation\n",
    "W.grad = None\n",
    "loss.backward()"
   ]
  },
  {
   "cell_type": "code",
   "execution_count": null,
   "metadata": {},
   "outputs": [],
   "source": [
    "# update the parameters\n",
    "W.data += -150 * W.grad"
   ]
  },
  {
   "cell_type": "code",
   "execution_count": null,
   "metadata": {},
   "outputs": [],
   "source": [
    "# 3.755063533782959\n",
    "# 3.754981517791748\n",
    "# 3.754899740219116\n",
    "# 3.7548177242279053\n",
    "# 3.715470552444458"
   ]
  },
  {
   "cell_type": "code",
   "execution_count": null,
   "metadata": {},
   "outputs": [],
   "source": [
    "# loss=tensor(2.4969) for trigram model\n",
    "# I expect to see this number by the end of neural net training"
   ]
  },
  {
   "cell_type": "code",
   "execution_count": 12,
   "metadata": {
    "execution": {
     "iopub.execute_input": "2023-06-19T05:29:55.461549Z",
     "iopub.status.busy": "2023-06-19T05:29:55.461203Z",
     "iopub.status.idle": "2023-06-19T05:29:55.468113Z",
     "shell.execute_reply": "2023-06-19T05:29:55.466917Z",
     "shell.execute_reply.started": "2023-06-19T05:29:55.461521Z"
    }
   },
   "outputs": [],
   "source": [
    "def evaluate(X, y, size):\n",
    "    xenc = F.one_hot(X, num_classes=len_alphabet*len_alphabet).float()\n",
    "    logits = xenc @ W\n",
    "    counts = logits.exp()\n",
    "    probs = counts / counts.sum(1, keepdims=True)\n",
    "    loss = -probs[torch.arange(size), y].log().mean() + 0.01*(W**2).mean() # last part is regularization\n",
    "    return loss"
   ]
  },
  {
   "cell_type": "code",
   "execution_count": 13,
   "metadata": {
    "execution": {
     "iopub.execute_input": "2023-06-19T05:29:55.826198Z",
     "iopub.status.busy": "2023-06-19T05:29:55.825464Z",
     "iopub.status.idle": "2023-06-19T05:29:55.835001Z",
     "shell.execute_reply": "2023-06-19T05:29:55.834165Z",
     "shell.execute_reply.started": "2023-06-19T05:29:55.826160Z"
    }
   },
   "outputs": [],
   "source": [
    "seed = torch.Generator().manual_seed(10110609)\n",
    "W = torch.randn((len_alphabet*len_alphabet, len_alphabet), requires_grad=True, device=device)"
   ]
  },
  {
   "cell_type": "code",
   "execution_count": 14,
   "metadata": {
    "execution": {
     "iopub.execute_input": "2023-06-19T05:29:58.050886Z",
     "iopub.status.busy": "2023-06-19T05:29:58.050536Z",
     "iopub.status.idle": "2023-06-19T05:29:58.055209Z",
     "shell.execute_reply": "2023-06-19T05:29:58.054328Z",
     "shell.execute_reply.started": "2023-06-19T05:29:58.050857Z"
    }
   },
   "outputs": [],
   "source": [
    "step = 0\n",
    "lossi, idxs = [], []"
   ]
  },
  {
   "cell_type": "code",
   "execution_count": 15,
   "metadata": {
    "execution": {
     "iopub.execute_input": "2023-06-19T05:29:58.342363Z",
     "iopub.status.busy": "2023-06-19T05:29:58.341688Z",
     "iopub.status.idle": "2023-06-19T05:29:58.724725Z",
     "shell.execute_reply": "2023-06-19T05:29:58.723127Z",
     "shell.execute_reply.started": "2023-06-19T05:29:58.342329Z"
    },
    "jupyter": {
     "outputs_hidden": true
    }
   },
   "outputs": [
    {
     "ename": "NameError",
     "evalue": "name 'xenc' is not defined",
     "output_type": "error",
     "traceback": [
      "\u001b[0;31m---------------------------------------------------------------------------\u001b[0m",
      "\u001b[0;31mNameError\u001b[0m                                 Traceback (most recent call last)",
      "Cell \u001b[0;32mIn[15], line 1\u001b[0m\n\u001b[0;32m----> 1\u001b[0m \u001b[43mxenc\u001b[49m\u001b[38;5;241m.\u001b[39mshape\n",
      "\u001b[0;31mNameError\u001b[0m: name 'xenc' is not defined"
     ]
    }
   ],
   "source": [
    "xenc.shape"
   ]
  },
  {
   "cell_type": "code",
   "execution_count": 16,
   "metadata": {
    "execution": {
     "iopub.execute_input": "2023-06-19T05:30:36.948908Z",
     "iopub.status.busy": "2023-06-19T05:30:36.948548Z",
     "iopub.status.idle": "2023-06-19T05:32:38.029489Z",
     "shell.execute_reply": "2023-06-19T05:32:38.028515Z",
     "shell.execute_reply.started": "2023-06-19T05:30:36.948876Z"
    }
   },
   "outputs": [
    {
     "name": "stdout",
     "output_type": "stream",
     "text": [
      "0 / train: 3.784008026123047 / dev: 3.7823433876037598\n",
      "100 / train: 3.3226256370544434 / dev: 3.3217177391052246\n",
      "200 / train: 3.1018824577331543 / dev: 3.1018524169921875\n",
      "300 / train: 2.9679830074310303 / dev: 2.9687745571136475\n",
      "400 / train: 2.8798508644104004 / dev: 2.881415367126465\n",
      "500 / train: 2.8184566497802734 / dev: 2.820681095123291\n",
      "600 / train: 2.7737903594970703 / dev: 2.7765755653381348\n",
      "700 / train: 2.7400474548339844 / dev: 2.7433245182037354\n",
      "800 / train: 2.7136728763580322 / dev: 2.717388391494751\n",
      "900 / train: 2.6924641132354736 / dev: 2.696577310562134\n"
     ]
    }
   ],
   "source": [
    "for i in range(1000):\n",
    "    \n",
    "    # forward propogation\n",
    "    xenc = F.one_hot(X_train, num_classes=len_alphabet*len_alphabet).float()\n",
    "    logits = xenc @ W\n",
    "    counts = logits.exp()\n",
    "    probs = counts / counts.sum(1, keepdims=True)\n",
    "    loss = -probs[torch.arange(train_size), y_train].log().mean() + 0.01*(W**2).mean() # last part is regularization\n",
    "    \n",
    "    # evalute loss on the dev set\n",
    "    loss_dev = evaluate(X_dev, y_dev, dev_size)\n",
    "    \n",
    "    if i % 100 == 0:\n",
    "        print(f\"{i} / train: {loss.item()} / dev: {loss_dev.item()}\")\n",
    "    \n",
    "    # backward propogation\n",
    "    W.grad = None\n",
    "    loss.backward()\n",
    "\n",
    "    # update the parameters\n",
    "    W.data += -10 * W.grad\n",
    "    \n",
    "    # track params\n",
    "    lossi.append(loss.item())\n",
    "    idxs.append(step)\n",
    "    step += 1"
   ]
  }
 ],
 "metadata": {
  "kernelspec": {
   "display_name": "Python 3 (ipykernel)",
   "language": "python",
   "name": "python3"
  },
  "language_info": {
   "codemirror_mode": {
    "name": "ipython",
    "version": 3
   },
   "file_extension": ".py",
   "mimetype": "text/x-python",
   "name": "python",
   "nbconvert_exporter": "python",
   "pygments_lexer": "ipython3",
   "version": "3.8.3"
  }
 },
 "nbformat": 4,
 "nbformat_minor": 5
}
