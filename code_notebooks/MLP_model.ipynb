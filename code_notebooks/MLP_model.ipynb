{
 "cells": [
  {
   "cell_type": "code",
   "execution_count": 2,
   "metadata": {
    "_cell_guid": "b1076dfc-b9ad-4769-8c92-a6c4dae69d19",
    "_uuid": "8f2839f25d086af736a60e9eeb907d3b93b6e0e5",
    "execution": {
     "iopub.execute_input": "2023-07-03T20:13:39.562197Z",
     "iopub.status.busy": "2023-07-03T20:13:39.561012Z",
     "iopub.status.idle": "2023-07-03T20:13:39.574095Z",
     "shell.execute_reply": "2023-07-03T20:13:39.573360Z",
     "shell.execute_reply.started": "2023-07-03T20:13:39.562160Z"
    }
   },
   "outputs": [
    {
     "name": "stdout",
     "output_type": "stream",
     "text": [
      "/kaggle/input/losses/losses.pkl\n",
      "/kaggle/input/filteredd/companies_usa_size_over_10.csv\n"
     ]
    }
   ],
   "source": [
    "# This Python 3 environment comes with many helpful analytics libraries installed\n",
    "# It is defined by the kaggle/python Docker image: https://github.com/kaggle/docker-python\n",
    "# For example, here's several helpful packages to load\n",
    "\n",
    "import numpy as np # linear algebra\n",
    "import pandas as pd # data processing, CSV file I/O (e.g. pd.read_csv)\n",
    "\n",
    "# Input data files are available in the read-only \"../input/\" directory\n",
    "# For example, running this (by clicking run or pressing Shift+Enter) will list all files under the input directory\n",
    "\n",
    "import os\n",
    "for dirname, _, filenames in os.walk('/kaggle/input'):\n",
    "    for filename in filenames:\n",
    "        print(os.path.join(dirname, filename))\n",
    "\n",
    "# You can write up to 20GB to the current directory (/kaggle/working/) that gets preserved as output when you create a version using \"Save & Run All\" \n",
    "# You can also write temporary files to /kaggle/temp/, but they won't be saved outside of the current session"
   ]
  },
  {
   "cell_type": "code",
   "execution_count": 3,
   "metadata": {
    "execution": {
     "iopub.execute_input": "2023-07-03T20:13:39.690997Z",
     "iopub.status.busy": "2023-07-03T20:13:39.689956Z",
     "iopub.status.idle": "2023-07-03T20:13:39.694550Z",
     "shell.execute_reply": "2023-07-03T20:13:39.693771Z",
     "shell.execute_reply.started": "2023-07-03T20:13:39.690965Z"
    }
   },
   "outputs": [],
   "source": [
    "# this model will be identical to what authors did in the Bengio et al. A Neural Probabilistic Language Model\n",
    "  # in the paper authors predicts the words in a sequence but in my case it is characters"
   ]
  },
  {
   "cell_type": "code",
   "execution_count": 4,
   "metadata": {
    "execution": {
     "iopub.execute_input": "2023-07-03T20:13:39.841057Z",
     "iopub.status.busy": "2023-07-03T20:13:39.840085Z",
     "iopub.status.idle": "2023-07-03T20:13:43.105373Z",
     "shell.execute_reply": "2023-07-03T20:13:43.103820Z",
     "shell.execute_reply.started": "2023-07-03T20:13:39.841024Z"
    }
   },
   "outputs": [],
   "source": [
    "import torch\n",
    "import torch.nn.functional as F\n",
    "import pandas as pd\n",
    "import matplotlib.pyplot as plt\n",
    "\n",
    "import random\n",
    "random.seed(10110609)\n",
    "\n",
    "%matplotlib inline"
   ]
  },
  {
   "cell_type": "code",
   "execution_count": 5,
   "metadata": {
    "execution": {
     "iopub.execute_input": "2023-07-03T20:13:43.108740Z",
     "iopub.status.busy": "2023-07-03T20:13:43.107902Z",
     "iopub.status.idle": "2023-07-03T20:13:43.284986Z",
     "shell.execute_reply": "2023-07-03T20:13:43.283552Z",
     "shell.execute_reply.started": "2023-07-03T20:13:43.108698Z"
    }
   },
   "outputs": [],
   "source": [
    "companies_df = pd.read_csv(\n",
    "  \"/kaggle/input/filteredd/companies_usa_size_over_10.csv\", usecols=[\"name\"]\n",
    ")\n",
    "\n",
    "companies = companies_df.name.to_list()"
   ]
  },
  {
   "cell_type": "code",
   "execution_count": 6,
   "metadata": {
    "execution": {
     "iopub.execute_input": "2023-07-03T20:13:43.286966Z",
     "iopub.status.busy": "2023-07-03T20:13:43.286545Z",
     "iopub.status.idle": "2023-07-03T20:13:43.312218Z",
     "shell.execute_reply": "2023-07-03T20:13:43.310595Z",
     "shell.execute_reply.started": "2023-07-03T20:13:43.286935Z"
    }
   },
   "outputs": [
    {
     "name": "stdout",
     "output_type": "stream",
     "text": [
      "len_alphabet=27\n"
     ]
    }
   ],
   "source": [
    "alphabet = sorted(set(\"\".join(companies)))\n",
    "alphabet.insert(0, '.')\n",
    "len_alphabet = len(alphabet)\n",
    "print(f\"{len_alphabet=}\")\n",
    "\n",
    "strtoint = {j: i for i, j in enumerate(alphabet)}\n",
    "inttostr = {i: j for i, j in enumerate(alphabet)}"
   ]
  },
  {
   "cell_type": "code",
   "execution_count": 7,
   "metadata": {
    "execution": {
     "iopub.execute_input": "2023-07-03T20:13:43.316713Z",
     "iopub.status.busy": "2023-07-03T20:13:43.316099Z",
     "iopub.status.idle": "2023-07-03T20:13:47.031911Z",
     "shell.execute_reply": "2023-07-03T20:13:47.031054Z",
     "shell.execute_reply.started": "2023-07-03T20:13:43.316664Z"
    }
   },
   "outputs": [],
   "source": [
    "block_size = 3\n",
    "X, Y = [], []\n",
    "for company in companies:\n",
    "  \n",
    "#   print(company)\n",
    "  context = [0] * block_size\n",
    "\n",
    "  for ch in company + '.':\n",
    "    ix = strtoint[ch]\n",
    "    \n",
    "    X.append(context)\n",
    "    Y.append(ix)\n",
    "#     print(''.join(inttostr[i] for i in context), '--->', inttostr[ix])\n",
    "    context = context[1:] + [ix] # crop and append\n",
    "  \n",
    "X = torch.tensor(X)\n",
    "Y = torch.tensor(Y)"
   ]
  },
  {
   "cell_type": "code",
   "execution_count": 8,
   "metadata": {
    "execution": {
     "iopub.execute_input": "2023-07-03T20:13:47.033837Z",
     "iopub.status.busy": "2023-07-03T20:13:47.033263Z",
     "iopub.status.idle": "2023-07-03T20:13:47.040307Z",
     "shell.execute_reply": "2023-07-03T20:13:47.039074Z",
     "shell.execute_reply.started": "2023-07-03T20:13:47.033804Z"
    }
   },
   "outputs": [],
   "source": [
    "block_size = 3\n",
    "def build_dataset(words):\n",
    "    X, Y = [], []\n",
    "    for word in words:\n",
    "\n",
    "    #   print(company)\n",
    "      context = [0] * block_size\n",
    "\n",
    "      for ch in word + '.':\n",
    "        ix = strtoint[ch]\n",
    "        X.append(context)\n",
    "        Y.append(ix)\n",
    "    #     print(''.join(inttostr[i] for i in context), '--->', inttostr[ix])\n",
    "        context = context[1:] + [ix] # crop and append\n",
    "\n",
    "    X = torch.tensor(X)\n",
    "    Y = torch.tensor(Y)\n",
    "    return X, Y"
   ]
  },
  {
   "cell_type": "code",
   "execution_count": 9,
   "metadata": {
    "execution": {
     "iopub.execute_input": "2023-07-03T20:13:47.042265Z",
     "iopub.status.busy": "2023-07-03T20:13:47.041915Z",
     "iopub.status.idle": "2023-07-03T20:13:50.213691Z",
     "shell.execute_reply": "2023-07-03T20:13:50.212535Z",
     "shell.execute_reply.started": "2023-07-03T20:13:47.042229Z"
    }
   },
   "outputs": [],
   "source": [
    "random.shuffle(companies)\n",
    "n1 = int(0.8*len(companies))\n",
    "n2 = int(0.9*len(companies))\n",
    "\n",
    "X_train, Y_train = build_dataset(companies[:n1])\n",
    "X_dev, Y_dev = build_dataset(companies[n1:n2])\n",
    "X_test, Y_test = build_dataset(companies[n2:])"
   ]
  },
  {
   "cell_type": "code",
   "execution_count": 10,
   "metadata": {
    "execution": {
     "iopub.execute_input": "2023-07-03T20:13:50.215401Z",
     "iopub.status.busy": "2023-07-03T20:13:50.215034Z",
     "iopub.status.idle": "2023-07-03T20:13:50.223537Z",
     "shell.execute_reply": "2023-07-03T20:13:50.222390Z",
     "shell.execute_reply.started": "2023-07-03T20:13:50.215371Z"
    }
   },
   "outputs": [
    {
     "data": {
      "text/plain": [
       "['managedoffice', 'idmatrixindia', 'sightmd', 'popshelf', 'jaroop']"
      ]
     },
     "execution_count": 10,
     "metadata": {},
     "output_type": "execute_result"
    }
   ],
   "source": [
    "companies[:5]"
   ]
  },
  {
   "cell_type": "code",
   "execution_count": 11,
   "metadata": {
    "execution": {
     "iopub.execute_input": "2023-07-03T20:13:50.227082Z",
     "iopub.status.busy": "2023-07-03T20:13:50.226618Z",
     "iopub.status.idle": "2023-07-03T20:13:50.238677Z",
     "shell.execute_reply": "2023-07-03T20:13:50.237644Z",
     "shell.execute_reply.started": "2023-07-03T20:13:50.227041Z"
    }
   },
   "outputs": [
    {
     "data": {
      "text/plain": [
       "(torch.Size([668185, 3]), torch.Size([83202, 3]), torch.Size([83281, 3]))"
      ]
     },
     "execution_count": 11,
     "metadata": {},
     "output_type": "execute_result"
    }
   ],
   "source": [
    "X_train.shape, X_dev.shape, X_test.shape"
   ]
  },
  {
   "cell_type": "code",
   "execution_count": 26,
   "metadata": {
    "execution": {
     "iopub.execute_input": "2023-07-03T18:38:55.595873Z",
     "iopub.status.busy": "2023-07-03T18:38:55.595449Z",
     "iopub.status.idle": "2023-07-03T18:38:55.602743Z",
     "shell.execute_reply": "2023-07-03T18:38:55.601621Z",
     "shell.execute_reply.started": "2023-07-03T18:38:55.595839Z"
    }
   },
   "outputs": [
    {
     "data": {
      "text/plain": [
       "(torch.Size([834668, 3]), torch.Size([834668]))"
      ]
     },
     "execution_count": 26,
     "metadata": {},
     "output_type": "execute_result"
    }
   ],
   "source": [
    "X.shape, Y.shape"
   ]
  },
  {
   "cell_type": "code",
   "execution_count": 12,
   "metadata": {
    "execution": {
     "iopub.execute_input": "2023-06-21T13:26:44.188077Z",
     "iopub.status.busy": "2023-06-21T13:26:44.187760Z",
     "iopub.status.idle": "2023-06-21T13:26:44.246360Z",
     "shell.execute_reply": "2023-06-21T13:26:44.245396Z",
     "shell.execute_reply.started": "2023-06-21T13:26:44.188048Z"
    }
   },
   "outputs": [
    {
     "data": {
      "text/plain": [
       "(tensor([[ 0,  0,  0],\n",
       "         [ 0,  0,  5],\n",
       "         [ 0,  5, 17],\n",
       "         ...,\n",
       "         [14, 14,  1],\n",
       "         [14,  1,  3],\n",
       "         [ 1,  3, 11]]),\n",
       " tensor([ 5, 17, 21,  ...,  3, 11,  0]))"
      ]
     },
     "execution_count": 12,
     "metadata": {},
     "output_type": "execute_result"
    }
   ],
   "source": [
    "X, Y"
   ]
  },
  {
   "cell_type": "code",
   "execution_count": 13,
   "metadata": {
    "execution": {
     "iopub.execute_input": "2023-06-21T13:26:44.247889Z",
     "iopub.status.busy": "2023-06-21T13:26:44.247520Z",
     "iopub.status.idle": "2023-06-21T13:26:44.254707Z",
     "shell.execute_reply": "2023-06-21T13:26:44.253784Z",
     "shell.execute_reply.started": "2023-06-21T13:26:44.247856Z"
    }
   },
   "outputs": [
    {
     "data": {
      "text/plain": [
       "(tensor([0, 0, 0]), tensor(5))"
      ]
     },
     "execution_count": 13,
     "metadata": {},
     "output_type": "execute_result"
    }
   ],
   "source": [
    "X[0], Y[0]"
   ]
  },
  {
   "cell_type": "code",
   "execution_count": 14,
   "metadata": {
    "execution": {
     "iopub.execute_input": "2023-06-21T13:26:44.256558Z",
     "iopub.status.busy": "2023-06-21T13:26:44.256243Z",
     "iopub.status.idle": "2023-06-21T13:26:44.263270Z",
     "shell.execute_reply": "2023-06-21T13:26:44.262566Z",
     "shell.execute_reply.started": "2023-06-21T13:26:44.256529Z"
    }
   },
   "outputs": [
    {
     "data": {
      "text/plain": [
       "'e'"
      ]
     },
     "execution_count": 14,
     "metadata": {},
     "output_type": "execute_result"
    }
   ],
   "source": [
    "inttostr[5]"
   ]
  },
  {
   "cell_type": "code",
   "execution_count": 15,
   "metadata": {
    "execution": {
     "iopub.execute_input": "2023-06-21T13:26:44.264399Z",
     "iopub.status.busy": "2023-06-21T13:26:44.264071Z",
     "iopub.status.idle": "2023-06-21T13:26:44.271134Z",
     "shell.execute_reply": "2023-06-21T13:26:44.270485Z",
     "shell.execute_reply.started": "2023-06-21T13:26:44.264369Z"
    }
   },
   "outputs": [],
   "source": [
    "# This means that 'e' (5) is followed by the '...' ([0, 0, 0]) in the first example"
   ]
  },
  {
   "cell_type": "code",
   "execution_count": 16,
   "metadata": {
    "execution": {
     "iopub.execute_input": "2023-06-21T13:26:44.272246Z",
     "iopub.status.busy": "2023-06-21T13:26:44.271916Z",
     "iopub.status.idle": "2023-06-21T13:26:44.282117Z",
     "shell.execute_reply": "2023-06-21T13:26:44.281544Z",
     "shell.execute_reply.started": "2023-06-21T13:26:44.272215Z"
    }
   },
   "outputs": [
    {
     "data": {
      "text/plain": [
       "(torch.int64, torch.int64)"
      ]
     },
     "execution_count": 16,
     "metadata": {},
     "output_type": "execute_result"
    }
   ],
   "source": [
    "X.dtype, Y.dtype"
   ]
  },
  {
   "attachments": {
    "d05fa329-b29b-4d67-a40b-c9a74acbae4e.png": {
     "image/png": "[encoded data removed]"
    }
   },
   "cell_type": "markdown",
   "metadata": {},
   "source": [
    "For each character in the alphabet, associate let's say n-dimensional feature vector. Think of this as n-dimensional space where all the characters are embedded in that. During backprob the similar words will basicly end up in closer positions and vice versa.\n",
    "\n",
    "![image.png](attachment:d05fa329-b29b-4d67-a40b-c9a74acbae4e.png)\n",
    "\n",
    "We are taking 3 characters and trying to predict the 4th one in a sequence.\n",
    "\n",
    "In the first layer there are 30 neurons for each of the 3  characters, making up 90 neurons in total"
   ]
  },
  {
   "cell_type": "code",
   "execution_count": 17,
   "metadata": {
    "execution": {
     "iopub.execute_input": "2023-06-21T13:26:53.921825Z",
     "iopub.status.busy": "2023-06-21T13:26:53.921451Z",
     "iopub.status.idle": "2023-06-21T13:26:53.929011Z",
     "shell.execute_reply": "2023-06-21T13:26:53.928161Z",
     "shell.execute_reply.started": "2023-06-21T13:26:53.921794Z"
    }
   },
   "outputs": [],
   "source": [
    "C = torch.randn((27, 2)) # feature vector\n",
    "# it is a (27,2) tensor where each row represents embedding for each letter"
   ]
  },
  {
   "cell_type": "code",
   "execution_count": 14,
   "metadata": {
    "execution": {
     "iopub.execute_input": "2023-06-19T15:13:02.413893Z",
     "iopub.status.busy": "2023-06-19T15:13:02.413206Z",
     "iopub.status.idle": "2023-06-19T15:13:02.421474Z",
     "shell.execute_reply": "2023-06-19T15:13:02.420079Z",
     "shell.execute_reply.started": "2023-06-19T15:13:02.413857Z"
    }
   },
   "outputs": [
    {
     "data": {
      "text/plain": [
       "torch.Size([27, 2])"
      ]
     },
     "execution_count": 14,
     "metadata": {},
     "output_type": "execute_result"
    }
   ],
   "source": [
    "C.shape"
   ]
  },
  {
   "cell_type": "code",
   "execution_count": 15,
   "metadata": {
    "execution": {
     "iopub.execute_input": "2023-06-19T15:13:02.424181Z",
     "iopub.status.busy": "2023-06-19T15:13:02.423304Z",
     "iopub.status.idle": "2023-06-19T15:13:02.435186Z",
     "shell.execute_reply": "2023-06-19T15:13:02.433732Z",
     "shell.execute_reply.started": "2023-06-19T15:13:02.424144Z"
    }
   },
   "outputs": [
    {
     "data": {
      "text/plain": [
       "torch.Size([10, 3])"
      ]
     },
     "execution_count": 15,
     "metadata": {},
     "output_type": "execute_result"
    }
   ],
   "source": [
    "X.shape"
   ]
  },
  {
   "cell_type": "code",
   "execution_count": 16,
   "metadata": {
    "execution": {
     "iopub.execute_input": "2023-06-19T15:13:02.438309Z",
     "iopub.status.busy": "2023-06-19T15:13:02.437422Z",
     "iopub.status.idle": "2023-06-19T15:13:02.497527Z",
     "shell.execute_reply": "2023-06-19T15:13:02.496669Z",
     "shell.execute_reply.started": "2023-06-19T15:13:02.438257Z"
    }
   },
   "outputs": [
    {
     "data": {
      "text/plain": [
       "tensor([-0.2257, -0.8463])"
      ]
     },
     "execution_count": 16,
     "metadata": {},
     "output_type": "execute_result"
    }
   ],
   "source": [
    "C[strtoint['a']]"
   ]
  },
  {
   "cell_type": "code",
   "execution_count": 29,
   "metadata": {
    "execution": {
     "iopub.execute_input": "2023-06-19T16:06:52.237856Z",
     "iopub.status.busy": "2023-06-19T16:06:52.237423Z",
     "iopub.status.idle": "2023-06-19T16:06:52.247913Z",
     "shell.execute_reply": "2023-06-19T16:06:52.247040Z",
     "shell.execute_reply.started": "2023-06-19T16:06:52.237827Z"
    }
   },
   "outputs": [
    {
     "data": {
      "text/plain": [
       "tensor([[-2.2889e-01, -8.7629e-01],\n",
       "        [-2.2573e-01, -8.4625e-01],\n",
       "        [ 2.1498e-01, -9.3545e-01],\n",
       "        [-6.4902e-01, -1.4916e+00],\n",
       "        [ 5.7491e-01,  1.1504e+00],\n",
       "        [ 8.1873e-01, -2.2462e-01],\n",
       "        [-2.6829e-01,  1.4400e-02],\n",
       "        [ 3.1675e-01,  7.6032e-01],\n",
       "        [ 2.1712e+00, -1.0812e+00],\n",
       "        [-4.6558e-01,  4.7510e-01],\n",
       "        [ 9.8775e-01,  4.6374e-01],\n",
       "        [-2.1446e+00, -2.2851e-01],\n",
       "        [-2.2564e+00, -6.1443e-01],\n",
       "        [-5.9679e-01, -1.8119e+00],\n",
       "        [-2.6649e-01, -8.3672e-01],\n",
       "        [ 9.3652e-01,  1.8203e+00],\n",
       "        [ 2.3284e+00,  1.1559e-03],\n",
       "        [-2.0274e+00, -1.6905e+00],\n",
       "        [-7.3542e-01,  3.7664e-01],\n",
       "        [ 8.4567e-01,  1.6725e+00],\n",
       "        [ 6.5630e-01, -1.8331e+00],\n",
       "        [-1.6748e+00,  1.2691e+00],\n",
       "        [-2.0893e-01, -9.9746e-01],\n",
       "        [ 3.8916e-01, -1.9284e+00],\n",
       "        [-8.2163e-01,  2.3544e-01],\n",
       "        [ 5.0218e-01, -6.0305e-01],\n",
       "        [-2.9064e-01, -1.2105e+00]])"
      ]
     },
     "execution_count": 29,
     "metadata": {},
     "output_type": "execute_result"
    }
   ],
   "source": [
    "C"
   ]
  },
  {
   "cell_type": "code",
   "execution_count": 30,
   "metadata": {
    "execution": {
     "iopub.execute_input": "2023-06-19T16:06:55.334018Z",
     "iopub.status.busy": "2023-06-19T16:06:55.333632Z",
     "iopub.status.idle": "2023-06-19T16:06:55.341119Z",
     "shell.execute_reply": "2023-06-19T16:06:55.340048Z",
     "shell.execute_reply.started": "2023-06-19T16:06:55.333990Z"
    }
   },
   "outputs": [
    {
     "name": "stdout",
     "output_type": "stream",
     "text": [
      "torch.Size([45, 3])\n",
      "torch.Size([45])\n",
      "torch.Size([27, 2])\n"
     ]
    }
   ],
   "source": [
    "print(X.shape) # each row is example of 3 chars which are followed by one char in Y\n",
    "print(Y.shape)\n",
    "print(C.shape) # each row is feature vector for each letter"
   ]
  },
  {
   "cell_type": "code",
   "execution_count": 31,
   "metadata": {
    "execution": {
     "iopub.execute_input": "2023-06-19T16:06:57.465548Z",
     "iopub.status.busy": "2023-06-19T16:06:57.465163Z",
     "iopub.status.idle": "2023-06-19T16:06:57.472913Z",
     "shell.execute_reply": "2023-06-19T16:06:57.471834Z",
     "shell.execute_reply.started": "2023-06-19T16:06:57.465521Z"
    }
   },
   "outputs": [
    {
     "data": {
      "text/plain": [
       "torch.Size([45, 3, 2])"
      ]
     },
     "execution_count": 31,
     "metadata": {},
     "output_type": "execute_result"
    }
   ],
   "source": [
    "emb = C[X]\n",
    "emb.shape"
   ]
  },
  {
   "cell_type": "code",
   "execution_count": 32,
   "metadata": {
    "execution": {
     "iopub.execute_input": "2023-06-19T16:06:58.989763Z",
     "iopub.status.busy": "2023-06-19T16:06:58.989259Z",
     "iopub.status.idle": "2023-06-19T16:06:58.998558Z",
     "shell.execute_reply": "2023-06-19T16:06:58.997199Z",
     "shell.execute_reply.started": "2023-06-19T16:06:58.989725Z"
    }
   },
   "outputs": [
    {
     "data": {
      "text/plain": [
       "tensor([[-0.2289, -0.8763],\n",
       "        [-0.2289, -0.8763],\n",
       "        [-0.2289, -0.8763]])"
      ]
     },
     "execution_count": 32,
     "metadata": {},
     "output_type": "execute_result"
    }
   ],
   "source": [
    "emb[0]"
   ]
  },
  {
   "cell_type": "code",
   "execution_count": 33,
   "metadata": {
    "execution": {
     "iopub.execute_input": "2023-06-19T16:08:48.976923Z",
     "iopub.status.busy": "2023-06-19T16:08:48.976494Z",
     "iopub.status.idle": "2023-06-19T16:08:48.983256Z",
     "shell.execute_reply": "2023-06-19T16:08:48.981808Z",
     "shell.execute_reply.started": "2023-06-19T16:08:48.976891Z"
    }
   },
   "outputs": [],
   "source": [
    "W1 = torch.randn((6, 100))\n",
    "b1 = torch.randn(100)"
   ]
  },
  {
   "cell_type": "code",
   "execution_count": 36,
   "metadata": {
    "execution": {
     "iopub.execute_input": "2023-06-19T16:10:39.440557Z",
     "iopub.status.busy": "2023-06-19T16:10:39.438765Z",
     "iopub.status.idle": "2023-06-19T16:10:39.451145Z",
     "shell.execute_reply": "2023-06-19T16:10:39.449928Z",
     "shell.execute_reply.started": "2023-06-19T16:10:39.440505Z"
    }
   },
   "outputs": [
    {
     "data": {
      "text/plain": [
       "torch.Size([45, 100])"
      ]
     },
     "execution_count": 36,
     "metadata": {},
     "output_type": "execute_result"
    }
   ],
   "source": [
    "(emb.view(-1, 6) @ W1 + b1).shape"
   ]
  },
  {
   "cell_type": "code",
   "execution_count": 38,
   "metadata": {
    "execution": {
     "iopub.execute_input": "2023-06-19T16:10:52.807812Z",
     "iopub.status.busy": "2023-06-19T16:10:52.806649Z",
     "iopub.status.idle": "2023-06-19T16:10:52.821288Z",
     "shell.execute_reply": "2023-06-19T16:10:52.820052Z",
     "shell.execute_reply.started": "2023-06-19T16:10:52.807767Z"
    }
   },
   "outputs": [],
   "source": [
    "h = torch.tanh(emb.view(-1, 6) @ W1 + b1) # -1 is x axis, number of all examples"
   ]
  },
  {
   "cell_type": "code",
   "execution_count": 39,
   "metadata": {
    "execution": {
     "iopub.execute_input": "2023-06-19T16:10:55.325095Z",
     "iopub.status.busy": "2023-06-19T16:10:55.324720Z",
     "iopub.status.idle": "2023-06-19T16:10:55.332090Z",
     "shell.execute_reply": "2023-06-19T16:10:55.330926Z",
     "shell.execute_reply.started": "2023-06-19T16:10:55.325068Z"
    }
   },
   "outputs": [
    {
     "data": {
      "text/plain": [
       "torch.Size([45, 100])"
      ]
     },
     "execution_count": 39,
     "metadata": {},
     "output_type": "execute_result"
    }
   ],
   "source": [
    "h.shape"
   ]
  },
  {
   "cell_type": "code",
   "execution_count": 40,
   "metadata": {
    "execution": {
     "iopub.execute_input": "2023-06-19T16:13:34.044857Z",
     "iopub.status.busy": "2023-06-19T16:13:34.044478Z",
     "iopub.status.idle": "2023-06-19T16:13:34.050683Z",
     "shell.execute_reply": "2023-06-19T16:13:34.049329Z",
     "shell.execute_reply.started": "2023-06-19T16:13:34.044830Z"
    }
   },
   "outputs": [],
   "source": [
    "W2 = torch.randn((100, 27)) # 27 is for each of the characters\n",
    "b2 = torch.randn(27)"
   ]
  },
  {
   "cell_type": "code",
   "execution_count": 41,
   "metadata": {
    "execution": {
     "iopub.execute_input": "2023-06-19T16:13:53.787922Z",
     "iopub.status.busy": "2023-06-19T16:13:53.787234Z",
     "iopub.status.idle": "2023-06-19T16:13:53.795071Z",
     "shell.execute_reply": "2023-06-19T16:13:53.794271Z",
     "shell.execute_reply.started": "2023-06-19T16:13:53.787889Z"
    }
   },
   "outputs": [],
   "source": [
    "logits = h @ W2 + b2"
   ]
  },
  {
   "cell_type": "code",
   "execution_count": 43,
   "metadata": {
    "execution": {
     "iopub.execute_input": "2023-06-19T16:14:12.362626Z",
     "iopub.status.busy": "2023-06-19T16:14:12.362218Z",
     "iopub.status.idle": "2023-06-19T16:14:12.369974Z",
     "shell.execute_reply": "2023-06-19T16:14:12.368840Z",
     "shell.execute_reply.started": "2023-06-19T16:14:12.362597Z"
    }
   },
   "outputs": [
    {
     "data": {
      "text/plain": [
       "torch.Size([45, 27])"
      ]
     },
     "execution_count": 43,
     "metadata": {},
     "output_type": "execute_result"
    }
   ],
   "source": [
    "logits.shape"
   ]
  },
  {
   "cell_type": "code",
   "execution_count": 44,
   "metadata": {
    "execution": {
     "iopub.execute_input": "2023-06-19T16:14:59.245305Z",
     "iopub.status.busy": "2023-06-19T16:14:59.244916Z",
     "iopub.status.idle": "2023-06-19T16:14:59.256910Z",
     "shell.execute_reply": "2023-06-19T16:14:59.255694Z",
     "shell.execute_reply.started": "2023-06-19T16:14:59.245275Z"
    }
   },
   "outputs": [],
   "source": [
    "# softmax\n",
    "counts = logits.exp()\n",
    "prob = counts / counts.sum(1, keepdims=True)"
   ]
  },
  {
   "cell_type": "code",
   "execution_count": 45,
   "metadata": {
    "execution": {
     "iopub.execute_input": "2023-06-19T16:15:03.484295Z",
     "iopub.status.busy": "2023-06-19T16:15:03.483856Z",
     "iopub.status.idle": "2023-06-19T16:15:03.491847Z",
     "shell.execute_reply": "2023-06-19T16:15:03.490310Z",
     "shell.execute_reply.started": "2023-06-19T16:15:03.484254Z"
    }
   },
   "outputs": [
    {
     "data": {
      "text/plain": [
       "torch.Size([45, 27])"
      ]
     },
     "execution_count": 45,
     "metadata": {},
     "output_type": "execute_result"
    }
   ],
   "source": [
    "prob.shape"
   ]
  },
  {
   "cell_type": "code",
   "execution_count": 50,
   "metadata": {
    "execution": {
     "iopub.execute_input": "2023-06-19T16:16:04.172912Z",
     "iopub.status.busy": "2023-06-19T16:16:04.172478Z",
     "iopub.status.idle": "2023-06-19T16:16:04.181997Z",
     "shell.execute_reply": "2023-06-19T16:16:04.180821Z",
     "shell.execute_reply.started": "2023-06-19T16:16:04.172876Z"
    }
   },
   "outputs": [
    {
     "data": {
      "text/plain": [
       "tensor([4.3979e-15, 1.7958e-15, 3.8895e-09, 9.0165e-13, 1.9712e-08, 2.8669e-08,\n",
       "        2.3385e-09, 1.4868e-09, 1.8945e-08, 4.5624e-09, 1.8167e-06, 3.4765e-04,\n",
       "        6.0027e-13, 5.2550e-10, 8.4674e-05, 7.6215e-16, 2.4037e-07, 8.8457e-01,\n",
       "        7.7767e-07, 5.2772e-12, 1.0469e-05, 1.2821e-15, 1.9610e-06, 2.4813e-09,\n",
       "        1.1550e-05, 1.5071e-07, 1.1497e-01])"
      ]
     },
     "execution_count": 50,
     "metadata": {},
     "output_type": "execute_result"
    }
   ],
   "source": [
    "prob[0] # probability assigned by network to the 4 character for the first example"
   ]
  },
  {
   "cell_type": "code",
   "execution_count": 53,
   "metadata": {
    "execution": {
     "iopub.execute_input": "2023-06-19T16:17:03.735932Z",
     "iopub.status.busy": "2023-06-19T16:17:03.735534Z",
     "iopub.status.idle": "2023-06-19T16:17:03.747006Z",
     "shell.execute_reply": "2023-06-19T16:17:03.745665Z",
     "shell.execute_reply.started": "2023-06-19T16:17:03.735902Z"
    }
   },
   "outputs": [
    {
     "data": {
      "text/plain": [
       "20.6101016998291"
      ]
     },
     "execution_count": 53,
     "metadata": {},
     "output_type": "execute_result"
    }
   ],
   "source": [
    "loss = -prob[torch.arange(45), Y].log().mean()\n",
    "loss.item()"
   ]
  },
  {
   "cell_type": "markdown",
   "metadata": {},
   "source": [
    "# Alltogether"
   ]
  },
  {
   "cell_type": "code",
   "execution_count": 36,
   "metadata": {
    "execution": {
     "iopub.execute_input": "2023-07-03T21:45:49.221530Z",
     "iopub.status.busy": "2023-07-03T21:45:49.221122Z",
     "iopub.status.idle": "2023-07-03T21:45:49.230612Z",
     "shell.execute_reply": "2023-07-03T21:45:49.229678Z",
     "shell.execute_reply.started": "2023-07-03T21:45:49.221503Z"
    }
   },
   "outputs": [
    {
     "name": "stdout",
     "output_type": "stream",
     "text": [
      "Total number of network's parameters: 11897\n"
     ]
    }
   ],
   "source": [
    "# construct the network\n",
    "\n",
    "n_emb = 10 # dimension of the feature vector (embedding)\n",
    "n_hid = 200 # number of neurons in the hidden layer\n",
    "\n",
    "g = torch.Generator().manual_seed(10110609)               # seed to to get same result\n",
    "C = torch.randn((27, n_emb), generator=g)                 # feature vector for each char\n",
    "W1 = torch.randn((n_emb*block_size, n_hid), generator=g)  # hidden layer weights\n",
    "b1 = torch.randn(n_hid, generator=g)                      # hidden layer biases\n",
    "W2 = torch.randn((n_hid, 27), generator=g)                # weigths for the output layer (logits)\n",
    "b2 = torch.randn(27, generator=g)                         # biases for the output layer (logits)\n",
    "params = [C, W1, b1, W2, b2]\n",
    "\n",
    "n_params = sum(p.nelement() for p in params)\n",
    "print(f\"Total number of network's parameters: {n_params}\")"
   ]
  },
  {
   "cell_type": "code",
   "execution_count": 16,
   "metadata": {
    "execution": {
     "iopub.execute_input": "2023-07-03T20:14:10.292286Z",
     "iopub.status.busy": "2023-07-03T20:14:10.291893Z",
     "iopub.status.idle": "2023-07-03T20:14:10.297041Z",
     "shell.execute_reply": "2023-07-03T20:14:10.296139Z",
     "shell.execute_reply.started": "2023-07-03T20:14:10.292256Z"
    }
   },
   "outputs": [],
   "source": [
    "# enable gradient for the parameters\n",
    "for p in params:\n",
    "  p.requires_grad = True"
   ]
  },
  {
   "cell_type": "code",
   "execution_count": 17,
   "metadata": {
    "execution": {
     "iopub.execute_input": "2023-07-03T20:14:10.581642Z",
     "iopub.status.busy": "2023-07-03T20:14:10.580269Z",
     "iopub.status.idle": "2023-07-03T20:14:10.596137Z",
     "shell.execute_reply": "2023-07-03T20:14:10.594926Z",
     "shell.execute_reply.started": "2023-07-03T20:14:10.581601Z"
    }
   },
   "outputs": [],
   "source": [
    "# finding optimal learning rate\n",
    "lrexp = torch.linspace(-3, 0, 1000)\n",
    "lrc = 10**lrexp\n",
    "lrs = []\n",
    "losses = []"
   ]
  },
  {
   "cell_type": "code",
   "execution_count": 18,
   "metadata": {
    "execution": {
     "iopub.execute_input": "2023-07-03T20:14:13.644554Z",
     "iopub.status.busy": "2023-07-03T20:14:13.644121Z",
     "iopub.status.idle": "2023-07-03T20:14:13.650139Z",
     "shell.execute_reply": "2023-07-03T20:14:13.648803Z",
     "shell.execute_reply.started": "2023-07-03T20:14:13.644520Z"
    }
   },
   "outputs": [],
   "source": [
    "# track the iteration and corresponding loss\n",
    "steps = []\n",
    "losses = []\n",
    "losses1 = []"
   ]
  },
  {
   "cell_type": "code",
   "execution_count": 33,
   "metadata": {
    "execution": {
     "iopub.execute_input": "2023-07-03T21:02:22.634329Z",
     "iopub.status.busy": "2023-07-03T21:02:22.632963Z",
     "iopub.status.idle": "2023-07-03T21:04:03.642768Z",
     "shell.execute_reply": "2023-07-03T21:04:03.641980Z",
     "shell.execute_reply.started": "2023-07-03T21:02:22.634291Z"
    }
   },
   "outputs": [
    {
     "name": "stdout",
     "output_type": "stream",
     "text": [
      "0 / loss = 2.4214980602264404\n",
      "10000 / loss = 2.8286032676696777\n",
      "20000 / loss = 2.498713254928589\n",
      "30000 / loss = 2.443462371826172\n",
      "40000 / loss = 2.6595404148101807\n",
      "50000 / loss = 2.686433792114258\n",
      "60000 / loss = 2.7291438579559326\n",
      "70000 / loss = 2.461606502532959\n",
      "80000 / loss = 2.285444974899292\n",
      "90000 / loss = 2.8656716346740723\n",
      "100000 / loss = 2.1062445640563965\n",
      "110000 / loss = 2.449662685394287\n",
      "120000 / loss = 3.0959415435791016\n",
      "130000 / loss = 2.581646680831909\n",
      "140000 / loss = 2.355957508087158\n",
      "150000 / loss = 2.5393409729003906\n",
      "160000 / loss = 2.548018455505371\n",
      "170000 / loss = 3.0235631465911865\n",
      "180000 / loss = 2.6980972290039062\n",
      "190000 / loss = 2.122377872467041\n"
     ]
    }
   ],
   "source": [
    "max_iter = 200000\n",
    "batch_size = 32\n",
    "\n",
    "for i in range(max_iter):\n",
    "     \n",
    "    # minibatch\n",
    "    batch_idx = torch.randint(0, X_train.shape[0], (batch_size,))\n",
    "    X_batch = X_train[batch_idx]\n",
    "    Y_batch = Y_train[batch_idx]\n",
    "\n",
    "    # forward prop\n",
    "    emb = C[X_batch] # constructing the feature vector for chars\n",
    "    emb_concat = emb.view(emb.shape[0], -1) # combine the vectors\n",
    "    pre_act = emb_concat @ W1 + b1 # hidden layer before tanh activation\n",
    "    h = torch.tanh(pre_act) # hidden layer\n",
    "    logits = h @ W2 + b2\n",
    "    loss = F.cross_entropy(logits, Y_batch) # equivalent to raise exp and normalize the probabilities\n",
    "\n",
    "    # backward prop\n",
    "    for p in params:\n",
    "      p.grad = None\n",
    "    loss.backward()\n",
    "\n",
    "    # update the parameters\n",
    "#     lr = lrc[i]\n",
    "#     lr = 10 ** -2\n",
    "#     lr = 0.1 if i < 500000 else 0.01\n",
    "    LR = 0.01\n",
    "    for p in params:\n",
    "      p.data += -lr * p.grad\n",
    "    \n",
    "#     lrs.append(lrexp[i])\n",
    "    losses.append(loss.item())\n",
    "\n",
    "    # track scores\n",
    "    steps.append(i)\n",
    "    losses1.append(loss.log10().item())\n",
    "    \n",
    "    # log the status\n",
    "    if i % 10000 == 0:\n",
    "      print(f\"{i} / loss = {loss.item()}\")\n",
    "    \n",
    "# print(loss.item())"
   ]
  },
  {
   "cell_type": "code",
   "execution_count": 26,
   "metadata": {
    "execution": {
     "iopub.execute_input": "2023-06-21T13:39:23.830989Z",
     "iopub.status.busy": "2023-06-21T13:39:23.830588Z",
     "iopub.status.idle": "2023-06-21T13:39:23.835229Z",
     "shell.execute_reply": "2023-06-21T13:39:23.834508Z",
     "shell.execute_reply.started": "2023-06-21T13:39:23.830962Z"
    }
   },
   "outputs": [],
   "source": [
    "# 500000 iterations for the learning rate 0.1\n",
    "# 200000 iterations fot the lr decay 0.01\n",
    "# loss_train=2.342067241668701\n",
    "# loss_dev=2.3632254600524902"
   ]
  },
  {
   "cell_type": "code",
   "execution_count": 55,
   "metadata": {
    "execution": {
     "iopub.execute_input": "2023-07-03T19:00:53.357453Z",
     "iopub.status.busy": "2023-07-03T19:00:53.356965Z",
     "iopub.status.idle": "2023-07-03T19:00:54.221699Z",
     "shell.execute_reply": "2023-07-03T19:00:54.220329Z",
     "shell.execute_reply.started": "2023-07-03T19:00:53.357418Z"
    }
   },
   "outputs": [
    {
     "data": {
      "text/plain": [
       "[<matplotlib.lines.Line2D at 0x7882d9c5dae0>]"
      ]
     },
     "execution_count": 55,
     "metadata": {},
     "output_type": "execute_result"
    },
    {
     "data": {
      "image/png": "[encoded data removed]",
      "text/plain": [
       "<Figure size 640x480 with 1 Axes>"
      ]
     },
     "metadata": {},
     "output_type": "display_data"
    }
   ],
   "source": [
    "plt.plot(steps, losses1)"
   ]
  },
  {
   "cell_type": "code",
   "execution_count": 37,
   "metadata": {
    "execution": {
     "iopub.execute_input": "2023-07-03T18:50:34.271985Z",
     "iopub.status.busy": "2023-07-03T18:50:34.271616Z",
     "iopub.status.idle": "2023-07-03T18:50:34.277343Z",
     "shell.execute_reply": "2023-07-03T18:50:34.276041Z",
     "shell.execute_reply.started": "2023-07-03T18:50:34.271956Z"
    }
   },
   "outputs": [],
   "source": [
    "a = [1, 2, 3, 4, 5, 6]"
   ]
  },
  {
   "cell_type": "code",
   "execution_count": 56,
   "metadata": {
    "execution": {
     "iopub.execute_input": "2023-07-03T19:01:47.380601Z",
     "iopub.status.busy": "2023-07-03T19:01:47.380178Z",
     "iopub.status.idle": "2023-07-03T19:01:47.968448Z",
     "shell.execute_reply": "2023-07-03T19:01:47.967339Z",
     "shell.execute_reply.started": "2023-07-03T19:01:47.380567Z"
    }
   },
   "outputs": [
    {
     "data": {
      "text/plain": [
       "[<matplotlib.lines.Line2D at 0x7882d9cb8bb0>]"
      ]
     },
     "execution_count": 56,
     "metadata": {},
     "output_type": "execute_result"
    },
    {
     "data": {
      "image/png": "[encoded data removed]",
      "text/plain": [
       "<Figure size 640x480 with 1 Axes>"
      ]
     },
     "metadata": {},
     "output_type": "display_data"
    }
   ],
   "source": [
    "plt.plot(torch.tensor(losses1[1000:]).view(-1, 1000).mean(1))"
   ]
  },
  {
   "cell_type": "code",
   "execution_count": 35,
   "metadata": {
    "execution": {
     "iopub.execute_input": "2023-07-03T21:13:04.186253Z",
     "iopub.status.busy": "2023-07-03T21:13:04.185862Z",
     "iopub.status.idle": "2023-07-03T21:13:04.487653Z",
     "shell.execute_reply": "2023-07-03T21:13:04.486568Z",
     "shell.execute_reply.started": "2023-07-03T21:13:04.186223Z"
    }
   },
   "outputs": [
    {
     "data": {
      "image/png": "[encoded data removed]",
      "text/plain": [
       "<Figure size 800x800 with 1 Axes>"
      ]
     },
     "metadata": {},
     "output_type": "display_data"
    }
   ],
   "source": [
    "# visualize dimensions 0 and 1 of the embedding matrix C for all characters\n",
    "plt.figure(figsize=(8,8))\n",
    "plt.scatter(C[:,0].data, C[:,1].data, s=200)\n",
    "for i in range(C.shape[0]):\n",
    "    plt.text(C[i,0].item(), C[i,1].item(), inttostr[i], ha=\"center\", va=\"center\", color='white')\n",
    "plt.grid('minor')"
   ]
  },
  {
   "cell_type": "code",
   "execution_count": 3,
   "metadata": {
    "execution": {
     "iopub.execute_input": "2023-07-03T18:25:44.222607Z",
     "iopub.status.busy": "2023-07-03T18:25:44.222200Z",
     "iopub.status.idle": "2023-07-03T18:25:44.227082Z",
     "shell.execute_reply": "2023-07-03T18:25:44.225933Z",
     "shell.execute_reply.started": "2023-07-03T18:25:44.222576Z"
    }
   },
   "outputs": [],
   "source": [
    "import pickle"
   ]
  },
  {
   "cell_type": "code",
   "execution_count": 4,
   "metadata": {
    "execution": {
     "iopub.execute_input": "2023-07-03T18:27:11.344558Z",
     "iopub.status.busy": "2023-07-03T18:27:11.344159Z",
     "iopub.status.idle": "2023-07-03T18:27:11.364229Z",
     "shell.execute_reply": "2023-07-03T18:27:11.363249Z",
     "shell.execute_reply.started": "2023-07-03T18:27:11.344525Z"
    }
   },
   "outputs": [],
   "source": [
    "with open(\"/kaggle/input/losses/losses.pkl\", \"rb\") as f:\n",
    "    losses = pickle.load(f)"
   ]
  },
  {
   "cell_type": "code",
   "execution_count": 6,
   "metadata": {
    "execution": {
     "iopub.execute_input": "2023-07-03T18:29:49.927777Z",
     "iopub.status.busy": "2023-07-03T18:29:49.927327Z",
     "iopub.status.idle": "2023-07-03T18:29:49.937787Z",
     "shell.execute_reply": "2023-07-03T18:29:49.936667Z",
     "shell.execute_reply.started": "2023-07-03T18:29:49.927744Z"
    }
   },
   "outputs": [
    {
     "data": {
      "text/plain": [
       "[0,\n",
       " 2.48183536529541,\n",
       " 0,\n",
       " 2.4820337295532227,\n",
       " 0,\n",
       " 2.4835896492004395,\n",
       " 0,\n",
       " 2.4963014125823975,\n",
       " 0,\n",
       " 2.5674831867218018,\n",
       " 0,\n",
       " 2.805880069732666,\n",
       " 0,\n",
       " 3.1431331634521484]"
      ]
     },
     "execution_count": 6,
     "metadata": {},
     "output_type": "execute_result"
    }
   ],
   "source": [
    "[min(l) for m in losses for l in m ]"
   ]
  },
  {
   "cell_type": "code",
   "execution_count": 20,
   "metadata": {
    "execution": {
     "iopub.execute_input": "2023-07-03T20:21:48.430284Z",
     "iopub.status.busy": "2023-07-03T20:21:48.429352Z",
     "iopub.status.idle": "2023-07-03T20:21:48.440615Z",
     "shell.execute_reply": "2023-07-03T20:21:48.439357Z",
     "shell.execute_reply.started": "2023-07-03T20:21:48.430236Z"
    }
   },
   "outputs": [],
   "source": [
    "@torch.no_grad()\n",
    "def evaluate(dataset):\n",
    "    sets = {\n",
    "        \"train\": (X_train, Y_train),\n",
    "        \"test\": (X_test, Y_test),\n",
    "        \"dev\": (X_dev, Y_dev)\n",
    "    }\n",
    "    \n",
    "    X, Y = sets[dataset]\n",
    "    emb = C[X]\n",
    "    emb_concat = emb.view(emb.shape[0], -1)\n",
    "    pre_act = emb_concat @ W1 + b1\n",
    "    h = torch.tanh(pre_act)\n",
    "    logits = h @ W2 + b2\n",
    "    loss = F.cross_entropy(logits, Y)\n",
    "    return loss.item()"
   ]
  },
  {
   "cell_type": "code",
   "execution_count": 34,
   "metadata": {
    "execution": {
     "iopub.execute_input": "2023-07-03T21:12:55.478028Z",
     "iopub.status.busy": "2023-07-03T21:12:55.477672Z",
     "iopub.status.idle": "2023-07-03T21:12:56.845873Z",
     "shell.execute_reply": "2023-07-03T21:12:56.844732Z",
     "shell.execute_reply.started": "2023-07-03T21:12:55.478004Z"
    }
   },
   "outputs": [
    {
     "name": "stdout",
     "output_type": "stream",
     "text": [
      "loss_train=2.259463821411133\n",
      "loss_dev=2.363330701828003\n"
     ]
    }
   ],
   "source": [
    "loss_train = evaluate(\"train\")\n",
    "print(f\"{loss_train=}\")\n",
    "loss_dev = evaluate(\"dev\")\n",
    "print(f\"{loss_dev=}\")"
   ]
  },
  {
   "cell_type": "code",
   "execution_count": null,
   "metadata": {},
   "outputs": [],
   "source": [
    "# Hyperparameters to tune:\n",
    "    # Number of neurons in the hidden layer (rn 200)\n",
    "    # The size of word embedding (rn 10)\n",
    "    # Number of chars to take to predict the next one."
   ]
  },
  {
   "cell_type": "code",
   "execution_count": 43,
   "metadata": {
    "execution": {
     "iopub.execute_input": "2023-06-19T21:25:58.093173Z",
     "iopub.status.busy": "2023-06-19T21:25:58.092845Z",
     "iopub.status.idle": "2023-06-19T21:25:58.097985Z",
     "shell.execute_reply": "2023-06-19T21:25:58.096990Z",
     "shell.execute_reply.started": "2023-06-19T21:25:58.093149Z"
    }
   },
   "outputs": [],
   "source": [
    "import pickle"
   ]
  },
  {
   "cell_type": "code",
   "execution_count": 44,
   "metadata": {
    "execution": {
     "iopub.execute_input": "2023-06-19T21:26:56.858241Z",
     "iopub.status.busy": "2023-06-19T21:26:56.857884Z",
     "iopub.status.idle": "2023-06-19T21:26:56.865218Z",
     "shell.execute_reply": "2023-06-19T21:26:56.863894Z",
     "shell.execute_reply.started": "2023-06-19T21:26:56.858218Z"
    }
   },
   "outputs": [],
   "source": [
    "with open(\"C.pkl\", \"wb\") as file:\n",
    "    pickle.dump(C, file)"
   ]
  },
  {
   "cell_type": "code",
   "execution_count": 458,
   "metadata": {
    "execution": {
     "iopub.execute_input": "2023-06-19T18:30:33.644002Z",
     "iopub.status.busy": "2023-06-19T18:30:33.643558Z",
     "iopub.status.idle": "2023-06-19T18:30:33.649450Z",
     "shell.execute_reply": "2023-06-19T18:30:33.648462Z",
     "shell.execute_reply.started": "2023-06-19T18:30:33.643968Z"
    }
   },
   "outputs": [],
   "source": [
    "# Trigram count-based model\n",
    "\n",
    "# Evaluation on the train set: \n",
    "# log_likelihood=tensor(-1656800.5000)\n",
    "# neg_logl=tensor(1656800.5000)\n",
    "# loss=tensor(2.4796)\n",
    "\n",
    "# Evaluation on the dev set: \n",
    "# log_likelihood=tensor(-207735.1562)\n",
    "# neg_logl=tensor(207735.1562)\n",
    "# loss=tensor(2.4968)\n",
    "\n",
    "# Evaluation on the test set: \n",
    "# log_likelihood=tensor(-208261.5000)\n",
    "# neg_logl=tensor(208261.5000)\n",
    "# loss=tensor(2.5007)\n",
    "\n",
    "\n",
    "\n",
    "# MLP Model losses\n",
    "# loss_train=2.35028338432312\n",
    "# loss_dev=2.374065399169922"
   ]
  },
  {
   "cell_type": "code",
   "execution_count": 299,
   "metadata": {
    "execution": {
     "iopub.execute_input": "2023-06-19T17:25:26.922265Z",
     "iopub.status.busy": "2023-06-19T17:25:26.921689Z",
     "iopub.status.idle": "2023-06-19T17:25:27.231249Z",
     "shell.execute_reply": "2023-06-19T17:25:27.230187Z",
     "shell.execute_reply.started": "2023-06-19T17:25:26.922216Z"
    }
   },
   "outputs": [
    {
     "data": {
      "text/plain": [
       "[<matplotlib.lines.Line2D at 0x7a22f4303010>]"
      ]
     },
     "execution_count": 299,
     "metadata": {},
     "output_type": "execute_result"
    },
    {
     "data": {
      "image/png": "[encoded data removed]",
      "text/plain": [
       "<Figure size 640x480 with 1 Axes>"
      ]
     },
     "metadata": {},
     "output_type": "display_data"
    }
   ],
   "source": [
    "plt.plot(lrs, losses) # finding optimal learning rate"
   ]
  },
  {
   "cell_type": "code",
   "execution_count": 153,
   "metadata": {
    "execution": {
     "iopub.execute_input": "2023-06-19T17:02:44.718889Z",
     "iopub.status.busy": "2023-06-19T17:02:44.718498Z",
     "iopub.status.idle": "2023-06-19T17:02:44.723324Z",
     "shell.execute_reply": "2023-06-19T17:02:44.721923Z",
     "shell.execute_reply.started": "2023-06-19T17:02:44.718859Z"
    }
   },
   "outputs": [],
   "source": [
    "# It is much more better to have approximate gradients and take more steps rather \n",
    "    # than having quality gradients and progress slower."
   ]
  },
  {
   "cell_type": "code",
   "execution_count": 120,
   "metadata": {
    "execution": {
     "iopub.execute_input": "2023-06-19T16:58:19.951493Z",
     "iopub.status.busy": "2023-06-19T16:58:19.951091Z",
     "iopub.status.idle": "2023-06-19T16:58:19.963053Z",
     "shell.execute_reply": "2023-06-19T16:58:19.961856Z",
     "shell.execute_reply.started": "2023-06-19T16:58:19.951463Z"
    }
   },
   "outputs": [
    {
     "data": {
      "text/plain": [
       "torch.return_types.max(\n",
       "values=tensor([ 3.2627,  4.7003,  2.3322,  9.5172,  7.1606, 13.5223,  2.3322,  4.8483,\n",
       "         4.3119,  3.5231, 10.6040,  6.9591,  2.0591,  6.7749,  8.6525, 13.2078,\n",
       "         2.3322, 11.9013,  7.2851,  8.2776,  6.2931,  2.4477,  7.5187,  6.5371,\n",
       "         4.3831,  5.2442,  6.0786,  6.0421,  7.2515,  2.3322,  1.7767,  2.3322],\n",
       "       grad_fn=<MaxBackward0>),\n",
       "indices=tensor([ 1, 12,  1, 11,  4,  4,  1,  1,  9,  2,  4,  0,  1,  5, 12, 21,  1, 12,\n",
       "        13, 12,  2,  1,  5,  1,  5,  1,  9,  8,  0,  1, 14,  1]))"
      ]
     },
     "execution_count": 120,
     "metadata": {},
     "output_type": "execute_result"
    }
   ],
   "source": [
    "logits.max(1)"
   ]
  },
  {
   "cell_type": "code",
   "execution_count": 108,
   "metadata": {
    "execution": {
     "iopub.execute_input": "2023-06-19T16:35:07.860408Z",
     "iopub.status.busy": "2023-06-19T16:35:07.859876Z",
     "iopub.status.idle": "2023-06-19T16:35:07.870749Z",
     "shell.execute_reply": "2023-06-19T16:35:07.869123Z",
     "shell.execute_reply.started": "2023-06-19T16:35:07.860349Z"
    }
   },
   "outputs": [
    {
     "data": {
      "text/plain": [
       "torch.Size([27])"
      ]
     },
     "execution_count": 108,
     "metadata": {},
     "output_type": "execute_result"
    }
   ],
   "source": [
    "logits[0].shape"
   ]
  }
 ],
 "metadata": {
  "kernelspec": {
   "display_name": "Python 3 (ipykernel)",
   "language": "python",
   "name": "python3"
  },
  "language_info": {
   "codemirror_mode": {
    "name": "ipython",
    "version": 3
   },
   "file_extension": ".py",
   "mimetype": "text/x-python",
   "name": "python",
   "nbconvert_exporter": "python",
   "pygments_lexer": "ipython3",
   "version": "3.9.13"
  }
 },
 "nbformat": 4,
 "nbformat_minor": 4
}
