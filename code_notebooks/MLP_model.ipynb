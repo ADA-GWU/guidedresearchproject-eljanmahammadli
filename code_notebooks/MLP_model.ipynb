{
 "cells": [
  {
   "cell_type": "code",
   "execution_count": 2,
   "metadata": {
    "_cell_guid": "b1076dfc-b9ad-4769-8c92-a6c4dae69d19",
    "_uuid": "8f2839f25d086af736a60e9eeb907d3b93b6e0e5",
    "execution": {
     "iopub.execute_input": "2023-07-03T20:13:39.562197Z",
     "iopub.status.busy": "2023-07-03T20:13:39.561012Z",
     "iopub.status.idle": "2023-07-03T20:13:39.574095Z",
     "shell.execute_reply": "2023-07-03T20:13:39.573360Z",
     "shell.execute_reply.started": "2023-07-03T20:13:39.562160Z"
    }
   },
   "outputs": [
    {
     "name": "stdout",
     "output_type": "stream",
     "text": [
      "/kaggle/input/losses/losses.pkl\n",
      "/kaggle/input/filteredd/companies_usa_size_over_10.csv\n"
     ]
    }
   ],
   "source": [
    "# This Python 3 environment comes with many helpful analytics libraries installed\n",
    "# It is defined by the kaggle/python Docker image: https://github.com/kaggle/docker-python\n",
    "# For example, here's several helpful packages to load\n",
    "\n",
    "import numpy as np # linear algebra\n",
    "import pandas as pd # data processing, CSV file I/O (e.g. pd.read_csv)\n",
    "\n",
    "# Input data files are available in the read-only \"../input/\" directory\n",
    "# For example, running this (by clicking run or pressing Shift+Enter) will list all files under the input directory\n",
    "\n",
    "import os\n",
    "for dirname, _, filenames in os.walk('/kaggle/input'):\n",
    "    for filename in filenames:\n",
    "        print(os.path.join(dirname, filename))\n",
    "\n",
    "# You can write up to 20GB to the current directory (/kaggle/working/) that gets preserved as output when you create a version using \"Save & Run All\" \n",
    "# You can also write temporary files to /kaggle/temp/, but they won't be saved outside of the current session"
   ]
  },
  {
   "cell_type": "code",
   "execution_count": 3,
   "metadata": {
    "execution": {
     "iopub.execute_input": "2023-07-03T20:13:39.690997Z",
     "iopub.status.busy": "2023-07-03T20:13:39.689956Z",
     "iopub.status.idle": "2023-07-03T20:13:39.694550Z",
     "shell.execute_reply": "2023-07-03T20:13:39.693771Z",
     "shell.execute_reply.started": "2023-07-03T20:13:39.690965Z"
    }
   },
   "outputs": [],
   "source": [
    "# this model will be identical to what authors did in the Bengio et al. A Neural Probabilistic Language Model\n",
    "  # in the paper authors predicts the words in a sequence but in my case it is characters"
   ]
  },
  {
   "cell_type": "code",
   "execution_count": 4,
   "metadata": {
    "execution": {
     "iopub.execute_input": "2023-07-03T20:13:39.841057Z",
     "iopub.status.busy": "2023-07-03T20:13:39.840085Z",
     "iopub.status.idle": "2023-07-03T20:13:43.105373Z",
     "shell.execute_reply": "2023-07-03T20:13:43.103820Z",
     "shell.execute_reply.started": "2023-07-03T20:13:39.841024Z"
    }
   },
   "outputs": [],
   "source": [
    "import torch\n",
    "import torch.nn.functional as F\n",
    "import pandas as pd\n",
    "import matplotlib.pyplot as plt\n",
    "\n",
    "import random\n",
    "random.seed(10110609)\n",
    "\n",
    "%matplotlib inline"
   ]
  },
  {
   "cell_type": "code",
   "execution_count": 5,
   "metadata": {
    "execution": {
     "iopub.execute_input": "2023-07-03T20:13:43.108740Z",
     "iopub.status.busy": "2023-07-03T20:13:43.107902Z",
     "iopub.status.idle": "2023-07-03T20:13:43.284986Z",
     "shell.execute_reply": "2023-07-03T20:13:43.283552Z",
     "shell.execute_reply.started": "2023-07-03T20:13:43.108698Z"
    }
   },
   "outputs": [],
   "source": [
    "companies_df = pd.read_csv(\n",
    "  \"/kaggle/input/filteredd/companies_usa_size_over_10.csv\", usecols=[\"name\"]\n",
    ")\n",
    "\n",
    "companies = companies_df.name.to_list()"
   ]
  },
  {
   "cell_type": "code",
   "execution_count": 6,
   "metadata": {
    "execution": {
     "iopub.execute_input": "2023-07-03T20:13:43.286966Z",
     "iopub.status.busy": "2023-07-03T20:13:43.286545Z",
     "iopub.status.idle": "2023-07-03T20:13:43.312218Z",
     "shell.execute_reply": "2023-07-03T20:13:43.310595Z",
     "shell.execute_reply.started": "2023-07-03T20:13:43.286935Z"
    }
   },
   "outputs": [
    {
     "name": "stdout",
     "output_type": "stream",
     "text": [
      "len_alphabet=27\n"
     ]
    }
   ],
   "source": [
    "alphabet = sorted(set(\"\".join(companies)))\n",
    "alphabet.insert(0, '.')\n",
    "len_alphabet = len(alphabet)\n",
    "print(f\"{len_alphabet=}\")\n",
    "\n",
    "strtoint = {j: i for i, j in enumerate(alphabet)}\n",
    "inttostr = {i: j for i, j in enumerate(alphabet)}"
   ]
  },
  {
   "cell_type": "code",
   "execution_count": 7,
   "metadata": {
    "execution": {
     "iopub.execute_input": "2023-07-03T20:13:43.316713Z",
     "iopub.status.busy": "2023-07-03T20:13:43.316099Z",
     "iopub.status.idle": "2023-07-03T20:13:47.031911Z",
     "shell.execute_reply": "2023-07-03T20:13:47.031054Z",
     "shell.execute_reply.started": "2023-07-03T20:13:43.316664Z"
    }
   },
   "outputs": [],
   "source": [
    "block_size = 3\n",
    "X, Y = [], []\n",
    "for company in companies:\n",
    "  \n",
    "#   print(company)\n",
    "  context = [0] * block_size\n",
    "\n",
    "  for ch in company + '.':\n",
    "    ix = strtoint[ch]\n",
    "    \n",
    "    X.append(context)\n",
    "    Y.append(ix)\n",
    "#     print(''.join(inttostr[i] for i in context), '--->', inttostr[ix])\n",
    "    context = context[1:] + [ix] # crop and append\n",
    "  \n",
    "X = torch.tensor(X)\n",
    "Y = torch.tensor(Y)"
   ]
  },
  {
   "cell_type": "code",
   "execution_count": 8,
   "metadata": {
    "execution": {
     "iopub.execute_input": "2023-07-03T20:13:47.033837Z",
     "iopub.status.busy": "2023-07-03T20:13:47.033263Z",
     "iopub.status.idle": "2023-07-03T20:13:47.040307Z",
     "shell.execute_reply": "2023-07-03T20:13:47.039074Z",
     "shell.execute_reply.started": "2023-07-03T20:13:47.033804Z"
    }
   },
   "outputs": [],
   "source": [
    "block_size = 3\n",
    "def build_dataset(words):\n",
    "    X, Y = [], []\n",
    "    for word in words:\n",
    "\n",
    "    #   print(company)\n",
    "      context = [0] * block_size\n",
    "\n",
    "      for ch in word + '.':\n",
    "        ix = strtoint[ch]\n",
    "        X.append(context)\n",
    "        Y.append(ix)\n",
    "    #     print(''.join(inttostr[i] for i in context), '--->', inttostr[ix])\n",
    "        context = context[1:] + [ix] # crop and append\n",
    "\n",
    "    X = torch.tensor(X)\n",
    "    Y = torch.tensor(Y)\n",
    "    return X, Y"
   ]
  },
  {
   "cell_type": "code",
   "execution_count": 9,
   "metadata": {
    "execution": {
     "iopub.execute_input": "2023-07-03T20:13:47.042265Z",
     "iopub.status.busy": "2023-07-03T20:13:47.041915Z",
     "iopub.status.idle": "2023-07-03T20:13:50.213691Z",
     "shell.execute_reply": "2023-07-03T20:13:50.212535Z",
     "shell.execute_reply.started": "2023-07-03T20:13:47.042229Z"
    }
   },
   "outputs": [],
   "source": [
    "random.shuffle(companies)\n",
    "n1 = int(0.8*len(companies))\n",
    "n2 = int(0.9*len(companies))\n",
    "\n",
    "X_train, Y_train = build_dataset(companies[:n1])\n",
    "X_dev, Y_dev = build_dataset(companies[n1:n2])\n",
    "X_test, Y_test = build_dataset(companies[n2:])"
   ]
  },
  {
   "cell_type": "code",
   "execution_count": 10,
   "metadata": {
    "execution": {
     "iopub.execute_input": "2023-07-03T20:13:50.215401Z",
     "iopub.status.busy": "2023-07-03T20:13:50.215034Z",
     "iopub.status.idle": "2023-07-03T20:13:50.223537Z",
     "shell.execute_reply": "2023-07-03T20:13:50.222390Z",
     "shell.execute_reply.started": "2023-07-03T20:13:50.215371Z"
    }
   },
   "outputs": [
    {
     "data": {
      "text/plain": [
       "['managedoffice', 'idmatrixindia', 'sightmd', 'popshelf', 'jaroop']"
      ]
     },
     "execution_count": 10,
     "metadata": {},
     "output_type": "execute_result"
    }
   ],
   "source": [
    "companies[:5]"
   ]
  },
  {
   "cell_type": "code",
   "execution_count": 11,
   "metadata": {
    "execution": {
     "iopub.execute_input": "2023-07-03T20:13:50.227082Z",
     "iopub.status.busy": "2023-07-03T20:13:50.226618Z",
     "iopub.status.idle": "2023-07-03T20:13:50.238677Z",
     "shell.execute_reply": "2023-07-03T20:13:50.237644Z",
     "shell.execute_reply.started": "2023-07-03T20:13:50.227041Z"
    }
   },
   "outputs": [
    {
     "data": {
      "text/plain": [
       "(torch.Size([668185, 3]), torch.Size([83202, 3]), torch.Size([83281, 3]))"
      ]
     },
     "execution_count": 11,
     "metadata": {},
     "output_type": "execute_result"
    }
   ],
   "source": [
    "X_train.shape, X_dev.shape, X_test.shape"
   ]
  },
  {
   "cell_type": "code",
   "execution_count": 26,
   "metadata": {
    "execution": {
     "iopub.execute_input": "2023-07-03T18:38:55.595873Z",
     "iopub.status.busy": "2023-07-03T18:38:55.595449Z",
     "iopub.status.idle": "2023-07-03T18:38:55.602743Z",
     "shell.execute_reply": "2023-07-03T18:38:55.601621Z",
     "shell.execute_reply.started": "2023-07-03T18:38:55.595839Z"
    }
   },
   "outputs": [
    {
     "data": {
      "text/plain": [
       "(torch.Size([834668, 3]), torch.Size([834668]))"
      ]
     },
     "execution_count": 26,
     "metadata": {},
     "output_type": "execute_result"
    }
   ],
   "source": [
    "X.shape, Y.shape"
   ]
  }
 ],
 "metadata": {
  "kernelspec": {
   "display_name": "Python 3 (ipykernel)",
   "language": "python",
   "name": "python3"
  },
  "language_info": {
   "codemirror_mode": {
    "name": "ipython",
    "version": 3
   },
   "file_extension": ".py",
   "mimetype": "text/x-python",
   "name": "python",
   "nbconvert_exporter": "python",
   "pygments_lexer": "ipython3",
   "version": "3.9.13"
  }
 },
 "nbformat": 4,
 "nbformat_minor": 4
}
