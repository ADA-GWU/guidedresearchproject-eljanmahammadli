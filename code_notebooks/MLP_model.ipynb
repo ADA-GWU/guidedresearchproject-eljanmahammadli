{
 "cells": [
  {
   "cell_type": "code",
   "execution_count": 2,
   "metadata": {
    "_cell_guid": "b1076dfc-b9ad-4769-8c92-a6c4dae69d19",
    "_uuid": "8f2839f25d086af736a60e9eeb907d3b93b6e0e5",
    "execution": {
     "iopub.execute_input": "2023-07-03T20:13:39.562197Z",
     "iopub.status.busy": "2023-07-03T20:13:39.561012Z",
     "iopub.status.idle": "2023-07-03T20:13:39.574095Z",
     "shell.execute_reply": "2023-07-03T20:13:39.573360Z",
     "shell.execute_reply.started": "2023-07-03T20:13:39.562160Z"
    }
   },
   "outputs": [
    {
     "name": "stdout",
     "output_type": "stream",
     "text": [
      "/kaggle/input/losses/losses.pkl\n",
      "/kaggle/input/filteredd/companies_usa_size_over_10.csv\n"
     ]
    }
   ],
   "source": [
    "# This Python 3 environment comes with many helpful analytics libraries installed\n",
    "# It is defined by the kaggle/python Docker image: https://github.com/kaggle/docker-python\n",
    "# For example, here's several helpful packages to load\n",
    "\n",
    "import numpy as np # linear algebra\n",
    "import pandas as pd # data processing, CSV file I/O (e.g. pd.read_csv)\n",
    "\n",
    "# Input data files are available in the read-only \"../input/\" directory\n",
    "# For example, running this (by clicking run or pressing Shift+Enter) will list all files under the input directory\n",
    "\n",
    "import os\n",
    "for dirname, _, filenames in os.walk('/kaggle/input'):\n",
    "    for filename in filenames:\n",
    "        print(os.path.join(dirname, filename))\n",
    "\n",
    "# You can write up to 20GB to the current directory (/kaggle/working/) that gets preserved as output when you create a version using \"Save & Run All\" \n",
    "# You can also write temporary files to /kaggle/temp/, but they won't be saved outside of the current session"
   ]
  },
  {
   "cell_type": "code",
   "execution_count": 3,
   "metadata": {
    "execution": {
     "iopub.execute_input": "2023-07-03T20:13:39.690997Z",
     "iopub.status.busy": "2023-07-03T20:13:39.689956Z",
     "iopub.status.idle": "2023-07-03T20:13:39.694550Z",
     "shell.execute_reply": "2023-07-03T20:13:39.693771Z",
     "shell.execute_reply.started": "2023-07-03T20:13:39.690965Z"
    }
   },
   "outputs": [],
   "source": [
    "# this model will be identical to what authors did in the Bengio et al. A Neural Probabilistic Language Model\n",
    "  # in the paper authors predicts the words in a sequence but in my case it is characters"
   ]
  },
  {
   "cell_type": "code",
   "execution_count": 4,
   "metadata": {
    "execution": {
     "iopub.execute_input": "2023-07-03T20:13:39.841057Z",
     "iopub.status.busy": "2023-07-03T20:13:39.840085Z",
     "iopub.status.idle": "2023-07-03T20:13:43.105373Z",
     "shell.execute_reply": "2023-07-03T20:13:43.103820Z",
     "shell.execute_reply.started": "2023-07-03T20:13:39.841024Z"
    }
   },
   "outputs": [],
   "source": [
    "import torch\n",
    "import torch.nn.functional as F\n",
    "import pandas as pd\n",
    "import matplotlib.pyplot as plt\n",
    "\n",
    "import random\n",
    "random.seed(10110609)\n",
    "\n",
    "%matplotlib inline"
   ]
  },
  {
   "cell_type": "code",
   "execution_count": 5,
   "metadata": {
    "execution": {
     "iopub.execute_input": "2023-07-03T20:13:43.108740Z",
     "iopub.status.busy": "2023-07-03T20:13:43.107902Z",
     "iopub.status.idle": "2023-07-03T20:13:43.284986Z",
     "shell.execute_reply": "2023-07-03T20:13:43.283552Z",
     "shell.execute_reply.started": "2023-07-03T20:13:43.108698Z"
    }
   },
   "outputs": [],
   "source": [
    "companies_df = pd.read_csv(\n",
    "  \"/kaggle/input/filteredd/companies_usa_size_over_10.csv\", usecols=[\"name\"]\n",
    ")\n",
    "\n",
    "companies = companies_df.name.to_list()"
   ]
  },
  {
   "cell_type": "code",
   "execution_count": 6,
   "metadata": {
    "execution": {
     "iopub.execute_input": "2023-07-03T20:13:43.286966Z",
     "iopub.status.busy": "2023-07-03T20:13:43.286545Z",
     "iopub.status.idle": "2023-07-03T20:13:43.312218Z",
     "shell.execute_reply": "2023-07-03T20:13:43.310595Z",
     "shell.execute_reply.started": "2023-07-03T20:13:43.286935Z"
    }
   },
   "outputs": [
    {
     "name": "stdout",
     "output_type": "stream",
     "text": [
      "len_alphabet=27\n"
     ]
    }
   ],
   "source": [
    "alphabet = sorted(set(\"\".join(companies)))\n",
    "alphabet.insert(0, '.')\n",
    "len_alphabet = len(alphabet)\n",
    "print(f\"{len_alphabet=}\")\n",
    "\n",
    "strtoint = {j: i for i, j in enumerate(alphabet)}\n",
    "inttostr = {i: j for i, j in enumerate(alphabet)}"
   ]
  },
  {
   "cell_type": "code",
   "execution_count": 7,
   "metadata": {
    "execution": {
     "iopub.execute_input": "2023-07-03T20:13:43.316713Z",
     "iopub.status.busy": "2023-07-03T20:13:43.316099Z",
     "iopub.status.idle": "2023-07-03T20:13:47.031911Z",
     "shell.execute_reply": "2023-07-03T20:13:47.031054Z",
     "shell.execute_reply.started": "2023-07-03T20:13:43.316664Z"
    }
   },
   "outputs": [],
   "source": [
    "block_size = 3\n",
    "X, Y = [], []\n",
    "for company in companies:\n",
    "  \n",
    "#   print(company)\n",
    "  context = [0] * block_size\n",
    "\n",
    "  for ch in company + '.':\n",
    "    ix = strtoint[ch]\n",
    "    \n",
    "    X.append(context)\n",
    "    Y.append(ix)\n",
    "#     print(''.join(inttostr[i] for i in context), '--->', inttostr[ix])\n",
    "    context = context[1:] + [ix] # crop and append\n",
    "  \n",
    "X = torch.tensor(X)\n",
    "Y = torch.tensor(Y)"
   ]
  },
  {
   "cell_type": "code",
   "execution_count": 8,
   "metadata": {
    "execution": {
     "iopub.execute_input": "2023-07-03T20:13:47.033837Z",
     "iopub.status.busy": "2023-07-03T20:13:47.033263Z",
     "iopub.status.idle": "2023-07-03T20:13:47.040307Z",
     "shell.execute_reply": "2023-07-03T20:13:47.039074Z",
     "shell.execute_reply.started": "2023-07-03T20:13:47.033804Z"
    }
   },
   "outputs": [],
   "source": [
    "block_size = 3\n",
    "def build_dataset(words):\n",
    "    X, Y = [], []\n",
    "    for word in words:\n",
    "\n",
    "    #   print(company)\n",
    "      context = [0] * block_size\n",
    "\n",
    "      for ch in word + '.':\n",
    "        ix = strtoint[ch]\n",
    "        X.append(context)\n",
    "        Y.append(ix)\n",
    "    #     print(''.join(inttostr[i] for i in context), '--->', inttostr[ix])\n",
    "        context = context[1:] + [ix] # crop and append\n",
    "\n",
    "    X = torch.tensor(X)\n",
    "    Y = torch.tensor(Y)\n",
    "    return X, Y"
   ]
  },
  {
   "cell_type": "code",
   "execution_count": 9,
   "metadata": {
    "execution": {
     "iopub.execute_input": "2023-07-03T20:13:47.042265Z",
     "iopub.status.busy": "2023-07-03T20:13:47.041915Z",
     "iopub.status.idle": "2023-07-03T20:13:50.213691Z",
     "shell.execute_reply": "2023-07-03T20:13:50.212535Z",
     "shell.execute_reply.started": "2023-07-03T20:13:47.042229Z"
    }
   },
   "outputs": [],
   "source": [
    "random.shuffle(companies)\n",
    "n1 = int(0.8*len(companies))\n",
    "n2 = int(0.9*len(companies))\n",
    "\n",
    "X_train, Y_train = build_dataset(companies[:n1])\n",
    "X_dev, Y_dev = build_dataset(companies[n1:n2])\n",
    "X_test, Y_test = build_dataset(companies[n2:])"
   ]
  },
  {
   "cell_type": "code",
   "execution_count": 10,
   "metadata": {
    "execution": {
     "iopub.execute_input": "2023-07-03T20:13:50.215401Z",
     "iopub.status.busy": "2023-07-03T20:13:50.215034Z",
     "iopub.status.idle": "2023-07-03T20:13:50.223537Z",
     "shell.execute_reply": "2023-07-03T20:13:50.222390Z",
     "shell.execute_reply.started": "2023-07-03T20:13:50.215371Z"
    }
   },
   "outputs": [
    {
     "data": {
      "text/plain": [
       "['managedoffice', 'idmatrixindia', 'sightmd', 'popshelf', 'jaroop']"
      ]
     },
     "execution_count": 10,
     "metadata": {},
     "output_type": "execute_result"
    }
   ],
   "source": [
    "companies[:5]"
   ]
  },
  {
   "cell_type": "code",
   "execution_count": 11,
   "metadata": {
    "execution": {
     "iopub.execute_input": "2023-07-03T20:13:50.227082Z",
     "iopub.status.busy": "2023-07-03T20:13:50.226618Z",
     "iopub.status.idle": "2023-07-03T20:13:50.238677Z",
     "shell.execute_reply": "2023-07-03T20:13:50.237644Z",
     "shell.execute_reply.started": "2023-07-03T20:13:50.227041Z"
    }
   },
   "outputs": [
    {
     "data": {
      "text/plain": [
       "(torch.Size([668185, 3]), torch.Size([83202, 3]), torch.Size([83281, 3]))"
      ]
     },
     "execution_count": 11,
     "metadata": {},
     "output_type": "execute_result"
    }
   ],
   "source": [
    "X_train.shape, X_dev.shape, X_test.shape"
   ]
  },
  {
   "cell_type": "code",
   "execution_count": 26,
   "metadata": {
    "execution": {
     "iopub.execute_input": "2023-07-03T18:38:55.595873Z",
     "iopub.status.busy": "2023-07-03T18:38:55.595449Z",
     "iopub.status.idle": "2023-07-03T18:38:55.602743Z",
     "shell.execute_reply": "2023-07-03T18:38:55.601621Z",
     "shell.execute_reply.started": "2023-07-03T18:38:55.595839Z"
    }
   },
   "outputs": [
    {
     "data": {
      "text/plain": [
       "(torch.Size([834668, 3]), torch.Size([834668]))"
      ]
     },
     "execution_count": 26,
     "metadata": {},
     "output_type": "execute_result"
    }
   ],
   "source": [
    "X.shape, Y.shape"
   ]
  },
  {
   "cell_type": "code",
   "execution_count": 12,
   "metadata": {
    "execution": {
     "iopub.execute_input": "2023-06-21T13:26:44.188077Z",
     "iopub.status.busy": "2023-06-21T13:26:44.187760Z",
     "iopub.status.idle": "2023-06-21T13:26:44.246360Z",
     "shell.execute_reply": "2023-06-21T13:26:44.245396Z",
     "shell.execute_reply.started": "2023-06-21T13:26:44.188048Z"
    }
   },
   "outputs": [
    {
     "data": {
      "text/plain": [
       "(tensor([[ 0,  0,  0],\n",
       "         [ 0,  0,  5],\n",
       "         [ 0,  5, 17],\n",
       "         ...,\n",
       "         [14, 14,  1],\n",
       "         [14,  1,  3],\n",
       "         [ 1,  3, 11]]),\n",
       " tensor([ 5, 17, 21,  ...,  3, 11,  0]))"
      ]
     },
     "execution_count": 12,
     "metadata": {},
     "output_type": "execute_result"
    }
   ],
   "source": [
    "X, Y"
   ]
  },
  {
   "cell_type": "code",
   "execution_count": 13,
   "metadata": {
    "execution": {
     "iopub.execute_input": "2023-06-21T13:26:44.247889Z",
     "iopub.status.busy": "2023-06-21T13:26:44.247520Z",
     "iopub.status.idle": "2023-06-21T13:26:44.254707Z",
     "shell.execute_reply": "2023-06-21T13:26:44.253784Z",
     "shell.execute_reply.started": "2023-06-21T13:26:44.247856Z"
    }
   },
   "outputs": [
    {
     "data": {
      "text/plain": [
       "(tensor([0, 0, 0]), tensor(5))"
      ]
     },
     "execution_count": 13,
     "metadata": {},
     "output_type": "execute_result"
    }
   ],
   "source": [
    "X[0], Y[0]"
   ]
  },
  {
   "cell_type": "code",
   "execution_count": 14,
   "metadata": {
    "execution": {
     "iopub.execute_input": "2023-06-21T13:26:44.256558Z",
     "iopub.status.busy": "2023-06-21T13:26:44.256243Z",
     "iopub.status.idle": "2023-06-21T13:26:44.263270Z",
     "shell.execute_reply": "2023-06-21T13:26:44.262566Z",
     "shell.execute_reply.started": "2023-06-21T13:26:44.256529Z"
    }
   },
   "outputs": [
    {
     "data": {
      "text/plain": [
       "'e'"
      ]
     },
     "execution_count": 14,
     "metadata": {},
     "output_type": "execute_result"
    }
   ],
   "source": [
    "inttostr[5]"
   ]
  },
  {
   "cell_type": "code",
   "execution_count": 15,
   "metadata": {
    "execution": {
     "iopub.execute_input": "2023-06-21T13:26:44.264399Z",
     "iopub.status.busy": "2023-06-21T13:26:44.264071Z",
     "iopub.status.idle": "2023-06-21T13:26:44.271134Z",
     "shell.execute_reply": "2023-06-21T13:26:44.270485Z",
     "shell.execute_reply.started": "2023-06-21T13:26:44.264369Z"
    }
   },
   "outputs": [],
   "source": [
    "# This means that 'e' (5) is followed by the '...' ([0, 0, 0]) in the first example"
   ]
  },
  {
   "cell_type": "code",
   "execution_count": 16,
   "metadata": {
    "execution": {
     "iopub.execute_input": "2023-06-21T13:26:44.272246Z",
     "iopub.status.busy": "2023-06-21T13:26:44.271916Z",
     "iopub.status.idle": "2023-06-21T13:26:44.282117Z",
     "shell.execute_reply": "2023-06-21T13:26:44.281544Z",
     "shell.execute_reply.started": "2023-06-21T13:26:44.272215Z"
    }
   },
   "outputs": [
    {
     "data": {
      "text/plain": [
       "(torch.int64, torch.int64)"
      ]
     },
     "execution_count": 16,
     "metadata": {},
     "output_type": "execute_result"
    }
   ],
   "source": [
    "X.dtype, Y.dtype"
   ]
  },
  {
   "attachments": {
    "d05fa329-b29b-4d67-a40b-c9a74acbae4e.png": {
     "image/png": "[encoded data removed]"
    }
   },
   "cell_type": "markdown",
   "metadata": {},
   "source": [
    "For each character in the alphabet, associate let's say n-dimensional feature vector. Think of this as n-dimensional space where all the characters are embedded in that. During backprob the similar words will basicly end up in closer positions and vice versa.\n",
    "\n",
    "![image.png](attachment:d05fa329-b29b-4d67-a40b-c9a74acbae4e.png)\n",
    "\n",
    "We are taking 3 characters and trying to predict the 4th one in a sequence.\n",
    "\n",
    "In the first layer there are 30 neurons for each of the 3  characters, making up 90 neurons in total"
   ]
  },
  {
   "cell_type": "code",
   "execution_count": 17,
   "metadata": {
    "execution": {
     "iopub.execute_input": "2023-06-21T13:26:53.921825Z",
     "iopub.status.busy": "2023-06-21T13:26:53.921451Z",
     "iopub.status.idle": "2023-06-21T13:26:53.929011Z",
     "shell.execute_reply": "2023-06-21T13:26:53.928161Z",
     "shell.execute_reply.started": "2023-06-21T13:26:53.921794Z"
    }
   },
   "outputs": [],
   "source": [
    "C = torch.randn((27, 2)) # feature vector\n",
    "# it is a (27,2) tensor where each row represents embedding for each letter"
   ]
  },
  {
   "cell_type": "code",
   "execution_count": 14,
   "metadata": {
    "execution": {
     "iopub.execute_input": "2023-06-19T15:13:02.413893Z",
     "iopub.status.busy": "2023-06-19T15:13:02.413206Z",
     "iopub.status.idle": "2023-06-19T15:13:02.421474Z",
     "shell.execute_reply": "2023-06-19T15:13:02.420079Z",
     "shell.execute_reply.started": "2023-06-19T15:13:02.413857Z"
    }
   },
   "outputs": [
    {
     "data": {
      "text/plain": [
       "torch.Size([27, 2])"
      ]
     },
     "execution_count": 14,
     "metadata": {},
     "output_type": "execute_result"
    }
   ],
   "source": [
    "C.shape"
   ]
  },
  {
   "cell_type": "code",
   "execution_count": 15,
   "metadata": {
    "execution": {
     "iopub.execute_input": "2023-06-19T15:13:02.424181Z",
     "iopub.status.busy": "2023-06-19T15:13:02.423304Z",
     "iopub.status.idle": "2023-06-19T15:13:02.435186Z",
     "shell.execute_reply": "2023-06-19T15:13:02.433732Z",
     "shell.execute_reply.started": "2023-06-19T15:13:02.424144Z"
    }
   },
   "outputs": [
    {
     "data": {
      "text/plain": [
       "torch.Size([10, 3])"
      ]
     },
     "execution_count": 15,
     "metadata": {},
     "output_type": "execute_result"
    }
   ],
   "source": [
    "X.shape"
   ]
  },
  {
   "cell_type": "code",
   "execution_count": 16,
   "metadata": {
    "execution": {
     "iopub.execute_input": "2023-06-19T15:13:02.438309Z",
     "iopub.status.busy": "2023-06-19T15:13:02.437422Z",
     "iopub.status.idle": "2023-06-19T15:13:02.497527Z",
     "shell.execute_reply": "2023-06-19T15:13:02.496669Z",
     "shell.execute_reply.started": "2023-06-19T15:13:02.438257Z"
    }
   },
   "outputs": [
    {
     "data": {
      "text/plain": [
       "tensor([-0.2257, -0.8463])"
      ]
     },
     "execution_count": 16,
     "metadata": {},
     "output_type": "execute_result"
    }
   ],
   "source": [
    "C[strtoint['a']]"
   ]
  },
  {
   "cell_type": "code",
   "execution_count": 29,
   "metadata": {
    "execution": {
     "iopub.execute_input": "2023-06-19T16:06:52.237856Z",
     "iopub.status.busy": "2023-06-19T16:06:52.237423Z",
     "iopub.status.idle": "2023-06-19T16:06:52.247913Z",
     "shell.execute_reply": "2023-06-19T16:06:52.247040Z",
     "shell.execute_reply.started": "2023-06-19T16:06:52.237827Z"
    }
   },
   "outputs": [
    {
     "data": {
      "text/plain": [
       "tensor([[-2.2889e-01, -8.7629e-01],\n",
       "        [-2.2573e-01, -8.4625e-01],\n",
       "        [ 2.1498e-01, -9.3545e-01],\n",
       "        [-6.4902e-01, -1.4916e+00],\n",
       "        [ 5.7491e-01,  1.1504e+00],\n",
       "        [ 8.1873e-01, -2.2462e-01],\n",
       "        [-2.6829e-01,  1.4400e-02],\n",
       "        [ 3.1675e-01,  7.6032e-01],\n",
       "        [ 2.1712e+00, -1.0812e+00],\n",
       "        [-4.6558e-01,  4.7510e-01],\n",
       "        [ 9.8775e-01,  4.6374e-01],\n",
       "        [-2.1446e+00, -2.2851e-01],\n",
       "        [-2.2564e+00, -6.1443e-01],\n",
       "        [-5.9679e-01, -1.8119e+00],\n",
       "        [-2.6649e-01, -8.3672e-01],\n",
       "        [ 9.3652e-01,  1.8203e+00],\n",
       "        [ 2.3284e+00,  1.1559e-03],\n",
       "        [-2.0274e+00, -1.6905e+00],\n",
       "        [-7.3542e-01,  3.7664e-01],\n",
       "        [ 8.4567e-01,  1.6725e+00],\n",
       "        [ 6.5630e-01, -1.8331e+00],\n",
       "        [-1.6748e+00,  1.2691e+00],\n",
       "        [-2.0893e-01, -9.9746e-01],\n",
       "        [ 3.8916e-01, -1.9284e+00],\n",
       "        [-8.2163e-01,  2.3544e-01],\n",
       "        [ 5.0218e-01, -6.0305e-01],\n",
       "        [-2.9064e-01, -1.2105e+00]])"
      ]
     },
     "execution_count": 29,
     "metadata": {},
     "output_type": "execute_result"
    }
   ],
   "source": [
    "C"
   ]
  },
  {
   "cell_type": "code",
   "execution_count": 30,
   "metadata": {
    "execution": {
     "iopub.execute_input": "2023-06-19T16:06:55.334018Z",
     "iopub.status.busy": "2023-06-19T16:06:55.333632Z",
     "iopub.status.idle": "2023-06-19T16:06:55.341119Z",
     "shell.execute_reply": "2023-06-19T16:06:55.340048Z",
     "shell.execute_reply.started": "2023-06-19T16:06:55.333990Z"
    }
   },
   "outputs": [
    {
     "name": "stdout",
     "output_type": "stream",
     "text": [
      "torch.Size([45, 3])\n",
      "torch.Size([45])\n",
      "torch.Size([27, 2])\n"
     ]
    }
   ],
   "source": [
    "print(X.shape) # each row is example of 3 chars which are followed by one char in Y\n",
    "print(Y.shape)\n",
    "print(C.shape) # each row is feature vector for each letter"
   ]
  },
  {
   "cell_type": "code",
   "execution_count": 31,
   "metadata": {
    "execution": {
     "iopub.execute_input": "2023-06-19T16:06:57.465548Z",
     "iopub.status.busy": "2023-06-19T16:06:57.465163Z",
     "iopub.status.idle": "2023-06-19T16:06:57.472913Z",
     "shell.execute_reply": "2023-06-19T16:06:57.471834Z",
     "shell.execute_reply.started": "2023-06-19T16:06:57.465521Z"
    }
   },
   "outputs": [
    {
     "data": {
      "text/plain": [
       "torch.Size([45, 3, 2])"
      ]
     },
     "execution_count": 31,
     "metadata": {},
     "output_type": "execute_result"
    }
   ],
   "source": [
    "emb = C[X]\n",
    "emb.shape"
   ]
  },
  {
   "cell_type": "code",
   "execution_count": 32,
   "metadata": {
    "execution": {
     "iopub.execute_input": "2023-06-19T16:06:58.989763Z",
     "iopub.status.busy": "2023-06-19T16:06:58.989259Z",
     "iopub.status.idle": "2023-06-19T16:06:58.998558Z",
     "shell.execute_reply": "2023-06-19T16:06:58.997199Z",
     "shell.execute_reply.started": "2023-06-19T16:06:58.989725Z"
    }
   },
   "outputs": [
    {
     "data": {
      "text/plain": [
       "tensor([[-0.2289, -0.8763],\n",
       "        [-0.2289, -0.8763],\n",
       "        [-0.2289, -0.8763]])"
      ]
     },
     "execution_count": 32,
     "metadata": {},
     "output_type": "execute_result"
    }
   ],
   "source": [
    "emb[0]"
   ]
  },
  {
   "cell_type": "code",
   "execution_count": 33,
   "metadata": {
    "execution": {
     "iopub.execute_input": "2023-06-19T16:08:48.976923Z",
     "iopub.status.busy": "2023-06-19T16:08:48.976494Z",
     "iopub.status.idle": "2023-06-19T16:08:48.983256Z",
     "shell.execute_reply": "2023-06-19T16:08:48.981808Z",
     "shell.execute_reply.started": "2023-06-19T16:08:48.976891Z"
    }
   },
   "outputs": [],
   "source": [
    "W1 = torch.randn((6, 100))\n",
    "b1 = torch.randn(100)"
   ]
  },
  {
   "cell_type": "code",
   "execution_count": 36,
   "metadata": {
    "execution": {
     "iopub.execute_input": "2023-06-19T16:10:39.440557Z",
     "iopub.status.busy": "2023-06-19T16:10:39.438765Z",
     "iopub.status.idle": "2023-06-19T16:10:39.451145Z",
     "shell.execute_reply": "2023-06-19T16:10:39.449928Z",
     "shell.execute_reply.started": "2023-06-19T16:10:39.440505Z"
    }
   },
   "outputs": [
    {
     "data": {
      "text/plain": [
       "torch.Size([45, 100])"
      ]
     },
     "execution_count": 36,
     "metadata": {},
     "output_type": "execute_result"
    }
   ],
   "source": [
    "(emb.view(-1, 6) @ W1 + b1).shape"
   ]
  },
  {
   "cell_type": "code",
   "execution_count": 38,
   "metadata": {
    "execution": {
     "iopub.execute_input": "2023-06-19T16:10:52.807812Z",
     "iopub.status.busy": "2023-06-19T16:10:52.806649Z",
     "iopub.status.idle": "2023-06-19T16:10:52.821288Z",
     "shell.execute_reply": "2023-06-19T16:10:52.820052Z",
     "shell.execute_reply.started": "2023-06-19T16:10:52.807767Z"
    }
   },
   "outputs": [],
   "source": [
    "h = torch.tanh(emb.view(-1, 6) @ W1 + b1) # -1 is x axis, number of all examples"
   ]
  },
  {
   "cell_type": "code",
   "execution_count": 39,
   "metadata": {
    "execution": {
     "iopub.execute_input": "2023-06-19T16:10:55.325095Z",
     "iopub.status.busy": "2023-06-19T16:10:55.324720Z",
     "iopub.status.idle": "2023-06-19T16:10:55.332090Z",
     "shell.execute_reply": "2023-06-19T16:10:55.330926Z",
     "shell.execute_reply.started": "2023-06-19T16:10:55.325068Z"
    }
   },
   "outputs": [
    {
     "data": {
      "text/plain": [
       "torch.Size([45, 100])"
      ]
     },
     "execution_count": 39,
     "metadata": {},
     "output_type": "execute_result"
    }
   ],
   "source": [
    "h.shape"
   ]
  },
  {
   "cell_type": "code",
   "execution_count": 40,
   "metadata": {
    "execution": {
     "iopub.execute_input": "2023-06-19T16:13:34.044857Z",
     "iopub.status.busy": "2023-06-19T16:13:34.044478Z",
     "iopub.status.idle": "2023-06-19T16:13:34.050683Z",
     "shell.execute_reply": "2023-06-19T16:13:34.049329Z",
     "shell.execute_reply.started": "2023-06-19T16:13:34.044830Z"
    }
   },
   "outputs": [],
   "source": [
    "W2 = torch.randn((100, 27)) # 27 is for each of the characters\n",
    "b2 = torch.randn(27)"
   ]
  },
  {
   "cell_type": "code",
   "execution_count": 41,
   "metadata": {
    "execution": {
     "iopub.execute_input": "2023-06-19T16:13:53.787922Z",
     "iopub.status.busy": "2023-06-19T16:13:53.787234Z",
     "iopub.status.idle": "2023-06-19T16:13:53.795071Z",
     "shell.execute_reply": "2023-06-19T16:13:53.794271Z",
     "shell.execute_reply.started": "2023-06-19T16:13:53.787889Z"
    }
   },
   "outputs": [],
   "source": [
    "logits = h @ W2 + b2"
   ]
  },
  {
   "cell_type": "code",
   "execution_count": 43,
   "metadata": {
    "execution": {
     "iopub.execute_input": "2023-06-19T16:14:12.362626Z",
     "iopub.status.busy": "2023-06-19T16:14:12.362218Z",
     "iopub.status.idle": "2023-06-19T16:14:12.369974Z",
     "shell.execute_reply": "2023-06-19T16:14:12.368840Z",
     "shell.execute_reply.started": "2023-06-19T16:14:12.362597Z"
    }
   },
   "outputs": [
    {
     "data": {
      "text/plain": [
       "torch.Size([45, 27])"
      ]
     },
     "execution_count": 43,
     "metadata": {},
     "output_type": "execute_result"
    }
   ],
   "source": [
    "logits.shape"
   ]
  },
  {
   "cell_type": "code",
   "execution_count": 44,
   "metadata": {
    "execution": {
     "iopub.execute_input": "2023-06-19T16:14:59.245305Z",
     "iopub.status.busy": "2023-06-19T16:14:59.244916Z",
     "iopub.status.idle": "2023-06-19T16:14:59.256910Z",
     "shell.execute_reply": "2023-06-19T16:14:59.255694Z",
     "shell.execute_reply.started": "2023-06-19T16:14:59.245275Z"
    }
   },
   "outputs": [],
   "source": [
    "# softmax\n",
    "counts = logits.exp()\n",
    "prob = counts / counts.sum(1, keepdims=True)"
   ]
  },
  {
   "cell_type": "code",
   "execution_count": 45,
   "metadata": {
    "execution": {
     "iopub.execute_input": "2023-06-19T16:15:03.484295Z",
     "iopub.status.busy": "2023-06-19T16:15:03.483856Z",
     "iopub.status.idle": "2023-06-19T16:15:03.491847Z",
     "shell.execute_reply": "2023-06-19T16:15:03.490310Z",
     "shell.execute_reply.started": "2023-06-19T16:15:03.484254Z"
    }
   },
   "outputs": [
    {
     "data": {
      "text/plain": [
       "torch.Size([45, 27])"
      ]
     },
     "execution_count": 45,
     "metadata": {},
     "output_type": "execute_result"
    }
   ],
   "source": [
    "prob.shape"
   ]
  },
  {
   "cell_type": "code",
   "execution_count": 50,
   "metadata": {
    "execution": {
     "iopub.execute_input": "2023-06-19T16:16:04.172912Z",
     "iopub.status.busy": "2023-06-19T16:16:04.172478Z",
     "iopub.status.idle": "2023-06-19T16:16:04.181997Z",
     "shell.execute_reply": "2023-06-19T16:16:04.180821Z",
     "shell.execute_reply.started": "2023-06-19T16:16:04.172876Z"
    }
   },
   "outputs": [
    {
     "data": {
      "text/plain": [
       "tensor([4.3979e-15, 1.7958e-15, 3.8895e-09, 9.0165e-13, 1.9712e-08, 2.8669e-08,\n",
       "        2.3385e-09, 1.4868e-09, 1.8945e-08, 4.5624e-09, 1.8167e-06, 3.4765e-04,\n",
       "        6.0027e-13, 5.2550e-10, 8.4674e-05, 7.6215e-16, 2.4037e-07, 8.8457e-01,\n",
       "        7.7767e-07, 5.2772e-12, 1.0469e-05, 1.2821e-15, 1.9610e-06, 2.4813e-09,\n",
       "        1.1550e-05, 1.5071e-07, 1.1497e-01])"
      ]
     },
     "execution_count": 50,
     "metadata": {},
     "output_type": "execute_result"
    }
   ],
   "source": [
    "prob[0] # probability assigned by network to the 4 character for the first example"
   ]
  },
  {
   "cell_type": "code",
   "execution_count": 53,
   "metadata": {
    "execution": {
     "iopub.execute_input": "2023-06-19T16:17:03.735932Z",
     "iopub.status.busy": "2023-06-19T16:17:03.735534Z",
     "iopub.status.idle": "2023-06-19T16:17:03.747006Z",
     "shell.execute_reply": "2023-06-19T16:17:03.745665Z",
     "shell.execute_reply.started": "2023-06-19T16:17:03.735902Z"
    }
   },
   "outputs": [
    {
     "data": {
      "text/plain": [
       "20.6101016998291"
      ]
     },
     "execution_count": 53,
     "metadata": {},
     "output_type": "execute_result"
    }
   ],
   "source": [
    "loss = -prob[torch.arange(45), Y].log().mean()\n",
    "loss.item()"
   ]
  }
 ],
 "metadata": {
  "kernelspec": {
   "display_name": "Python 3 (ipykernel)",
   "language": "python",
   "name": "python3"
  },
  "language_info": {
   "codemirror_mode": {
    "name": "ipython",
    "version": 3
   },
   "file_extension": ".py",
   "mimetype": "text/x-python",
   "name": "python",
   "nbconvert_exporter": "python",
   "pygments_lexer": "ipython3",
   "version": "3.9.13"
  }
 },
 "nbformat": 4,
 "nbformat_minor": 4
}
